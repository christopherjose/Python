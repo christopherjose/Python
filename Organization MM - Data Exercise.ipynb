{
 "cells": [
  {
   "cell_type": "markdown",
   "metadata": {},
   "source": [
    "# Import Packages"
   ]
  },
  {
   "cell_type": "code",
   "execution_count": 1,
   "metadata": {
    "collapsed": false
   },
   "outputs": [
    {
     "name": "stderr",
     "output_type": "stream",
     "text": [
      "[MLENS] backend: threading\n"
     ]
    },
    {
     "name": "stdout",
     "output_type": "stream",
     "text": [
      "This file is located in the following directory: \n",
      "/Users/Work/Desktop/Work/Projects/Python\n"
     ]
    },
    {
     "name": "stderr",
     "output_type": "stream",
     "text": [
      "/Users/Work/anaconda/lib/python2.7/site-packages/statsmodels/compat/pandas.py:56: FutureWarning: The pandas.core.datetools module is deprecated and will be removed in a future version. Please use the pandas.tseries module instead.\n",
      "  from pandas.core import datetools\n"
     ]
    }
   ],
   "source": [
    "import os\n",
    "import time\n",
    "import pandas as pd\n",
    "from pandas import ExcelWriter\n",
    "import pickle\n",
    "import imblearn\n",
    "import numpy as np\n",
    "import sklearn\n",
    "import copy\n",
    "from pandasql import *\n",
    "from pandasql import sqldf\n",
    "from mlens.visualization import corrmat\n",
    "sql = lambda q: sqldf(q, globals()) \n",
    "\n",
    "from sklearn import preprocessing\n",
    "from sklearn.model_selection import GridSearchCV\n",
    "from sklearn.model_selection import train_test_split\n",
    "from sklearn.metrics import mean_squared_error\n",
    "from sklearn.preprocessing import StandardScaler\n",
    "from sklearn.pipeline import make_pipeline\n",
    "from sklearn.pipeline import Pipeline\n",
    "from sklearn.decomposition import PCA\n",
    "from scipy import interp\n",
    "import matplotlib.pyplot as plt\n",
    "import seaborn as sns\n",
    "from sklearn import svm, datasets\n",
    "from sklearn.metrics import roc_curve, auc, f1_score\n",
    "\n",
    "import statsmodels.api as sm\n",
    "from statsmodels.formula.api import ols\n",
    "from sklearn.metrics import classification_report\n",
    "from statsmodels.stats.outliers_influence import variance_inflation_factor\n",
    "from sklearn.naive_bayes import MultinomialNB\n",
    "from sklearn.ensemble import RandomForestRegressor\n",
    "from sklearn.linear_model import LogisticRegression\n",
    "from sklearn.neighbors import KNeighborsRegressor\n",
    "from sklearn.tree import DecisionTreeRegressor\n",
    "from sklearn.ensemble import AdaBoostRegressor\n",
    "from sklearn.feature_selection import SelectKBest\n",
    "from sklearn.feature_selection import chi2\n",
    "from sklearn import svm\n",
    "from sklearn.naive_bayes import GaussianNB\n",
    "from sklearn.ensemble import GradientBoostingRegressor\n",
    "from sklearn.linear_model import LinearRegression\n",
    "import statsmodels.api as sm\n",
    "from statsmodels.formula.api import ols\n",
    "\n",
    "from sklearn.preprocessing import Imputer\n",
    "from sklearn.model_selection import cross_val_score\n",
    "from sklearn.preprocessing import MinMaxScaler \n",
    "from sklearn.model_selection import KFold\n",
    "from sklearn.model_selection import cross_validate\n",
    "from sklearn.metrics import precision_score, recall_score, accuracy_score, confusion_matrix,f1_score\n",
    "from sklearn.metrics import precision_recall_fscore_support, classification_report, accuracy_score, make_scorer\n",
    "\n",
    "from imblearn.over_sampling import SMOTE\n",
    "#from imblearn.pipeline import Pipeline \n",
    "from sklearn.feature_selection import SelectFromModel\n",
    "from sklearn.model_selection import StratifiedKFold\n",
    "from sklearn.model_selection import RandomizedSearchCV\n",
    "from sklearn.model_selection import cross_val_score\n",
    "from sklearn.metrics import roc_auc_score, make_scorer\n",
    "\n",
    "pd.set_option('display.float_format', lambda x: '%.3f' %x)\n",
    "pd.set_option('display.float_format', lambda x: '%.f' %x)\n",
    "from IPython.core.interactiveshell import InteractiveShell\n",
    "InteractiveShell.ast_node_interactivity = \"all\"\n",
    "pd.set_option('display.max_columns', None)  \n",
    "%matplotlib inline\n",
    "pd.options.display.float_format = '{:.3f}'.format\n",
    "\n",
    "import matplotlib.pyplot as plt\n",
    "plt.rcParams['figure.figsize'] = 10,8\n",
    "\n",
    "print('This file is located in the following directory: \\n'+os.getcwd())"
   ]
  },
  {
   "cell_type": "markdown",
   "metadata": {},
   "source": [
    "# Load Data"
   ]
  },
  {
   "cell_type": "code",
   "execution_count": 19,
   "metadata": {
    "collapsed": false
   },
   "outputs": [],
   "source": [
    "data = pd.ExcelFile('/Users/Work/Desktop/Work/Projects/Datasets/Analytics_Exercise___Case_Study.xlsx')\n",
    "traffic     = pd.read_excel(data,sheet_name=\"Traffic\")\n",
    "market      = pd.read_excel(data,sheet_name=\"Market\")\n",
    "sales       = pd.read_excel(data,sheet_name=\"Sales Report\")\n",
    "sku         = pd.read_excel(data,sheet_name=\"SKUs\")\n",
    "media_spend = pd.read_excel(data,sheet_name=\"Media Spend\")"
   ]
  },
  {
   "cell_type": "markdown",
   "metadata": {},
   "source": [
    "# Initial EDA"
   ]
  },
  {
   "cell_type": "code",
   "execution_count": 22,
   "metadata": {
    "collapsed": true
   },
   "outputs": [
    {
     "data": {
      "text/html": [
       "<div>\n",
       "<style scoped>\n",
       "    .dataframe tbody tr th:only-of-type {\n",
       "        vertical-align: middle;\n",
       "    }\n",
       "\n",
       "    .dataframe tbody tr th {\n",
       "        vertical-align: top;\n",
       "    }\n",
       "\n",
       "    .dataframe thead th {\n",
       "        text-align: right;\n",
       "    }\n",
       "</style>\n",
       "<table border=\"1\" class=\"dataframe\">\n",
       "  <thead>\n",
       "    <tr style=\"text-align: right;\">\n",
       "      <th></th>\n",
       "      <th>Date</th>\n",
       "      <th>Visitors</th>\n",
       "      <th>Visits</th>\n",
       "      <th>Page Views</th>\n",
       "    </tr>\n",
       "  </thead>\n",
       "  <tbody>\n",
       "    <tr>\n",
       "      <th>0</th>\n",
       "      <td>2008-01-01</td>\n",
       "      <td>110318</td>\n",
       "      <td>143414</td>\n",
       "      <td>165477</td>\n",
       "    </tr>\n",
       "    <tr>\n",
       "      <th>1</th>\n",
       "      <td>2008-01-01</td>\n",
       "      <td>111056</td>\n",
       "      <td>144372</td>\n",
       "      <td>166583</td>\n",
       "    </tr>\n",
       "  </tbody>\n",
       "</table>\n",
       "</div>"
      ],
      "text/plain": [
       "        Date  Visitors  Visits  Page Views\n",
       "0 2008-01-01    110318  143414      165477\n",
       "1 2008-01-01    111056  144372      166583"
      ]
     },
     "execution_count": 22,
     "metadata": {},
     "output_type": "execute_result"
    },
    {
     "data": {
      "text/html": [
       "<div>\n",
       "<style scoped>\n",
       "    .dataframe tbody tr th:only-of-type {\n",
       "        vertical-align: middle;\n",
       "    }\n",
       "\n",
       "    .dataframe tbody tr th {\n",
       "        vertical-align: top;\n",
       "    }\n",
       "\n",
       "    .dataframe thead th {\n",
       "        text-align: right;\n",
       "    }\n",
       "</style>\n",
       "<table border=\"1\" class=\"dataframe\">\n",
       "  <thead>\n",
       "    <tr style=\"text-align: right;\">\n",
       "      <th></th>\n",
       "      <th>Date</th>\n",
       "      <th>Visits to competitor sites</th>\n",
       "      <th>Social Media Mentions</th>\n",
       "    </tr>\n",
       "  </thead>\n",
       "  <tbody>\n",
       "    <tr>\n",
       "      <th>0</th>\n",
       "      <td>2008-01-01 00:00:00</td>\n",
       "      <td>1216161</td>\n",
       "      <td>210225</td>\n",
       "    </tr>\n",
       "    <tr>\n",
       "      <th>1</th>\n",
       "      <td>2008-01-02 00:00:00</td>\n",
       "      <td>1322513</td>\n",
       "      <td>231825</td>\n",
       "    </tr>\n",
       "  </tbody>\n",
       "</table>\n",
       "</div>"
      ],
      "text/plain": [
       "                  Date  Visits to competitor sites  Social Media Mentions\n",
       "0  2008-01-01 00:00:00                     1216161                 210225\n",
       "1  2008-01-02 00:00:00                     1322513                 231825"
      ]
     },
     "execution_count": 22,
     "metadata": {},
     "output_type": "execute_result"
    },
    {
     "data": {
      "text/html": [
       "<div>\n",
       "<style scoped>\n",
       "    .dataframe tbody tr th:only-of-type {\n",
       "        vertical-align: middle;\n",
       "    }\n",
       "\n",
       "    .dataframe tbody tr th {\n",
       "        vertical-align: top;\n",
       "    }\n",
       "\n",
       "    .dataframe thead th {\n",
       "        text-align: right;\n",
       "    }\n",
       "</style>\n",
       "<table border=\"1\" class=\"dataframe\">\n",
       "  <thead>\n",
       "    <tr style=\"text-align: right;\">\n",
       "      <th></th>\n",
       "      <th>Date</th>\n",
       "      <th>Transaction ID (Unique)</th>\n",
       "      <th>SKU</th>\n",
       "    </tr>\n",
       "  </thead>\n",
       "  <tbody>\n",
       "    <tr>\n",
       "      <th>0</th>\n",
       "      <td>2008-01-01</td>\n",
       "      <td>1001</td>\n",
       "      <td>102</td>\n",
       "    </tr>\n",
       "    <tr>\n",
       "      <th>1</th>\n",
       "      <td>2008-01-01</td>\n",
       "      <td>1002</td>\n",
       "      <td>102</td>\n",
       "    </tr>\n",
       "  </tbody>\n",
       "</table>\n",
       "</div>"
      ],
      "text/plain": [
       "        Date  Transaction ID (Unique)  SKU\n",
       "0 2008-01-01                     1001  102\n",
       "1 2008-01-01                     1002  102"
      ]
     },
     "execution_count": 22,
     "metadata": {},
     "output_type": "execute_result"
    },
    {
     "data": {
      "text/html": [
       "<div>\n",
       "<style scoped>\n",
       "    .dataframe tbody tr th:only-of-type {\n",
       "        vertical-align: middle;\n",
       "    }\n",
       "\n",
       "    .dataframe tbody tr th {\n",
       "        vertical-align: top;\n",
       "    }\n",
       "\n",
       "    .dataframe thead th {\n",
       "        text-align: right;\n",
       "    }\n",
       "</style>\n",
       "<table border=\"1\" class=\"dataframe\">\n",
       "  <thead>\n",
       "    <tr style=\"text-align: right;\">\n",
       "      <th></th>\n",
       "      <th>SKU</th>\n",
       "      <th>Product Name</th>\n",
       "      <th>Value</th>\n",
       "      <th>Beginning Inventory</th>\n",
       "    </tr>\n",
       "  </thead>\n",
       "  <tbody>\n",
       "    <tr>\n",
       "      <th>0</th>\n",
       "      <td>101</td>\n",
       "      <td>Pineappple Express 1G</td>\n",
       "      <td>50</td>\n",
       "      <td>2518</td>\n",
       "    </tr>\n",
       "    <tr>\n",
       "      <th>1</th>\n",
       "      <td>102</td>\n",
       "      <td>Fruit Punch - 100 MG</td>\n",
       "      <td>200</td>\n",
       "      <td>2676</td>\n",
       "    </tr>\n",
       "  </tbody>\n",
       "</table>\n",
       "</div>"
      ],
      "text/plain": [
       "   SKU           Product Name  Value  Beginning Inventory\n",
       "0  101  Pineappple Express 1G     50                 2518\n",
       "1  102   Fruit Punch - 100 MG    200                 2676"
      ]
     },
     "execution_count": 22,
     "metadata": {},
     "output_type": "execute_result"
    },
    {
     "data": {
      "text/html": [
       "<div>\n",
       "<style scoped>\n",
       "    .dataframe tbody tr th:only-of-type {\n",
       "        vertical-align: middle;\n",
       "    }\n",
       "\n",
       "    .dataframe tbody tr th {\n",
       "        vertical-align: top;\n",
       "    }\n",
       "\n",
       "    .dataframe thead th {\n",
       "        text-align: right;\n",
       "    }\n",
       "</style>\n",
       "<table border=\"1\" class=\"dataframe\">\n",
       "  <thead>\n",
       "    <tr style=\"text-align: right;\">\n",
       "      <th></th>\n",
       "      <th>Date</th>\n",
       "      <th>GRP (OOH)</th>\n",
       "      <th>PPC Spend</th>\n",
       "      <th>Display Spend</th>\n",
       "      <th>email Spend</th>\n",
       "    </tr>\n",
       "  </thead>\n",
       "  <tbody>\n",
       "    <tr>\n",
       "      <th>0</th>\n",
       "      <td>2008-01-01</td>\n",
       "      <td>118500</td>\n",
       "      <td>1890.000</td>\n",
       "      <td>1491</td>\n",
       "      <td>1275.000</td>\n",
       "    </tr>\n",
       "    <tr>\n",
       "      <th>1</th>\n",
       "      <td>2008-01-02</td>\n",
       "      <td>82500</td>\n",
       "      <td>2272.500</td>\n",
       "      <td>1272</td>\n",
       "      <td>720.000</td>\n",
       "    </tr>\n",
       "  </tbody>\n",
       "</table>\n",
       "</div>"
      ],
      "text/plain": [
       "        Date  GRP (OOH)  PPC Spend  Display Spend  email Spend\n",
       "0 2008-01-01     118500   1890.000           1491     1275.000\n",
       "1 2008-01-02      82500   2272.500           1272      720.000"
      ]
     },
     "execution_count": 22,
     "metadata": {},
     "output_type": "execute_result"
    }
   ],
   "source": [
    "traffic.head(2)\n",
    "market.head(2)\n",
    "sales.head(2)\n",
    "sku.head(2)\n",
    "media_spend.head(2)"
   ]
  },
  {
   "cell_type": "code",
   "execution_count": 24,
   "metadata": {
    "collapsed": true
   },
   "outputs": [
    {
     "data": {
      "text/html": [
       "<div>\n",
       "<style scoped>\n",
       "    .dataframe tbody tr th:only-of-type {\n",
       "        vertical-align: middle;\n",
       "    }\n",
       "\n",
       "    .dataframe tbody tr th {\n",
       "        vertical-align: top;\n",
       "    }\n",
       "\n",
       "    .dataframe thead th {\n",
       "        text-align: right;\n",
       "    }\n",
       "</style>\n",
       "<table border=\"1\" class=\"dataframe\">\n",
       "  <thead>\n",
       "    <tr style=\"text-align: right;\">\n",
       "      <th></th>\n",
       "      <th>Visitors</th>\n",
       "      <th>Visits</th>\n",
       "      <th>Page Views</th>\n",
       "    </tr>\n",
       "  </thead>\n",
       "  <tbody>\n",
       "    <tr>\n",
       "      <th>count</th>\n",
       "      <td>8043.000</td>\n",
       "      <td>8043.000</td>\n",
       "      <td>8043.000</td>\n",
       "    </tr>\n",
       "    <tr>\n",
       "      <th>mean</th>\n",
       "      <td>105406.789</td>\n",
       "      <td>137028.832</td>\n",
       "      <td>158110.201</td>\n",
       "    </tr>\n",
       "    <tr>\n",
       "      <th>std</th>\n",
       "      <td>5097.501</td>\n",
       "      <td>6626.741</td>\n",
       "      <td>7646.236</td>\n",
       "    </tr>\n",
       "    <tr>\n",
       "      <th>min</th>\n",
       "      <td>85840.000</td>\n",
       "      <td>111592.000</td>\n",
       "      <td>128760.000</td>\n",
       "    </tr>\n",
       "    <tr>\n",
       "      <th>25%</th>\n",
       "      <td>102879.000</td>\n",
       "      <td>133742.500</td>\n",
       "      <td>154318.500</td>\n",
       "    </tr>\n",
       "    <tr>\n",
       "      <th>50%</th>\n",
       "      <td>105761.000</td>\n",
       "      <td>137489.000</td>\n",
       "      <td>158641.000</td>\n",
       "    </tr>\n",
       "    <tr>\n",
       "      <th>75%</th>\n",
       "      <td>108575.500</td>\n",
       "      <td>141148.000</td>\n",
       "      <td>162863.000</td>\n",
       "    </tr>\n",
       "    <tr>\n",
       "      <th>max</th>\n",
       "      <td>117766.000</td>\n",
       "      <td>153096.000</td>\n",
       "      <td>176649.000</td>\n",
       "    </tr>\n",
       "  </tbody>\n",
       "</table>\n",
       "</div>"
      ],
      "text/plain": [
       "        Visitors     Visits  Page Views\n",
       "count   8043.000   8043.000    8043.000\n",
       "mean  105406.789 137028.832  158110.201\n",
       "std     5097.501   6626.741    7646.236\n",
       "min    85840.000 111592.000  128760.000\n",
       "25%   102879.000 133742.500  154318.500\n",
       "50%   105761.000 137489.000  158641.000\n",
       "75%   108575.500 141148.000  162863.000\n",
       "max   117766.000 153096.000  176649.000"
      ]
     },
     "execution_count": 24,
     "metadata": {},
     "output_type": "execute_result"
    },
    {
     "data": {
      "text/html": [
       "<div>\n",
       "<style scoped>\n",
       "    .dataframe tbody tr th:only-of-type {\n",
       "        vertical-align: middle;\n",
       "    }\n",
       "\n",
       "    .dataframe tbody tr th {\n",
       "        vertical-align: top;\n",
       "    }\n",
       "\n",
       "    .dataframe thead th {\n",
       "        text-align: right;\n",
       "    }\n",
       "</style>\n",
       "<table border=\"1\" class=\"dataframe\">\n",
       "  <thead>\n",
       "    <tr style=\"text-align: right;\">\n",
       "      <th></th>\n",
       "      <th>Visits to competitor sites</th>\n",
       "      <th>Social Media Mentions</th>\n",
       "    </tr>\n",
       "  </thead>\n",
       "  <tbody>\n",
       "    <tr>\n",
       "      <th>count</th>\n",
       "      <td>728.000</td>\n",
       "      <td>728.000</td>\n",
       "    </tr>\n",
       "    <tr>\n",
       "      <th>mean</th>\n",
       "      <td>2599257.000</td>\n",
       "      <td>907169.547</td>\n",
       "    </tr>\n",
       "    <tr>\n",
       "      <th>std</th>\n",
       "      <td>35018399.623</td>\n",
       "      <td>12222390.278</td>\n",
       "    </tr>\n",
       "    <tr>\n",
       "      <th>min</th>\n",
       "      <td>491527.000</td>\n",
       "      <td>159950.000</td>\n",
       "    </tr>\n",
       "    <tr>\n",
       "      <th>25%</th>\n",
       "      <td>1149532.500</td>\n",
       "      <td>332020.000</td>\n",
       "    </tr>\n",
       "    <tr>\n",
       "      <th>50%</th>\n",
       "      <td>1306498.000</td>\n",
       "      <td>442165.000</td>\n",
       "    </tr>\n",
       "    <tr>\n",
       "      <th>75%</th>\n",
       "      <td>1458291.250</td>\n",
       "      <td>571066.250</td>\n",
       "    </tr>\n",
       "    <tr>\n",
       "      <th>max</th>\n",
       "      <td>946129548.000</td>\n",
       "      <td>330209715.000</td>\n",
       "    </tr>\n",
       "  </tbody>\n",
       "</table>\n",
       "</div>"
      ],
      "text/plain": [
       "       Visits to competitor sites  Social Media Mentions\n",
       "count                     728.000                728.000\n",
       "mean                  2599257.000             907169.547\n",
       "std                  35018399.623           12222390.278\n",
       "min                    491527.000             159950.000\n",
       "25%                   1149532.500             332020.000\n",
       "50%                   1306498.000             442165.000\n",
       "75%                   1458291.250             571066.250\n",
       "max                 946129548.000          330209715.000"
      ]
     },
     "execution_count": 24,
     "metadata": {},
     "output_type": "execute_result"
    },
    {
     "data": {
      "text/html": [
       "<div>\n",
       "<style scoped>\n",
       "    .dataframe tbody tr th:only-of-type {\n",
       "        vertical-align: middle;\n",
       "    }\n",
       "\n",
       "    .dataframe tbody tr th {\n",
       "        vertical-align: top;\n",
       "    }\n",
       "\n",
       "    .dataframe thead th {\n",
       "        text-align: right;\n",
       "    }\n",
       "</style>\n",
       "<table border=\"1\" class=\"dataframe\">\n",
       "  <thead>\n",
       "    <tr style=\"text-align: right;\">\n",
       "      <th></th>\n",
       "      <th>Transaction ID (Unique)</th>\n",
       "      <th>SKU</th>\n",
       "    </tr>\n",
       "  </thead>\n",
       "  <tbody>\n",
       "    <tr>\n",
       "      <th>count</th>\n",
       "      <td>8043.000</td>\n",
       "      <td>8043.000</td>\n",
       "    </tr>\n",
       "    <tr>\n",
       "      <th>mean</th>\n",
       "      <td>6023.911</td>\n",
       "      <td>104.834</td>\n",
       "    </tr>\n",
       "    <tr>\n",
       "      <th>std</th>\n",
       "      <td>2897.791</td>\n",
       "      <td>3.185</td>\n",
       "    </tr>\n",
       "    <tr>\n",
       "      <th>min</th>\n",
       "      <td>1001.000</td>\n",
       "      <td>101.000</td>\n",
       "    </tr>\n",
       "    <tr>\n",
       "      <th>25%</th>\n",
       "      <td>3503.500</td>\n",
       "      <td>102.000</td>\n",
       "    </tr>\n",
       "    <tr>\n",
       "      <th>50%</th>\n",
       "      <td>6078.000</td>\n",
       "      <td>104.000</td>\n",
       "    </tr>\n",
       "    <tr>\n",
       "      <th>75%</th>\n",
       "      <td>8522.500</td>\n",
       "      <td>108.000</td>\n",
       "    </tr>\n",
       "    <tr>\n",
       "      <th>max</th>\n",
       "      <td>10998.000</td>\n",
       "      <td>110.000</td>\n",
       "    </tr>\n",
       "  </tbody>\n",
       "</table>\n",
       "</div>"
      ],
      "text/plain": [
       "       Transaction ID (Unique)      SKU\n",
       "count                 8043.000 8043.000\n",
       "mean                  6023.911  104.834\n",
       "std                   2897.791    3.185\n",
       "min                   1001.000  101.000\n",
       "25%                   3503.500  102.000\n",
       "50%                   6078.000  104.000\n",
       "75%                   8522.500  108.000\n",
       "max                  10998.000  110.000"
      ]
     },
     "execution_count": 24,
     "metadata": {},
     "output_type": "execute_result"
    },
    {
     "data": {
      "text/html": [
       "<div>\n",
       "<style scoped>\n",
       "    .dataframe tbody tr th:only-of-type {\n",
       "        vertical-align: middle;\n",
       "    }\n",
       "\n",
       "    .dataframe tbody tr th {\n",
       "        vertical-align: top;\n",
       "    }\n",
       "\n",
       "    .dataframe thead th {\n",
       "        text-align: right;\n",
       "    }\n",
       "</style>\n",
       "<table border=\"1\" class=\"dataframe\">\n",
       "  <thead>\n",
       "    <tr style=\"text-align: right;\">\n",
       "      <th></th>\n",
       "      <th>SKU</th>\n",
       "      <th>Value</th>\n",
       "      <th>Beginning Inventory</th>\n",
       "    </tr>\n",
       "  </thead>\n",
       "  <tbody>\n",
       "    <tr>\n",
       "      <th>count</th>\n",
       "      <td>10.000</td>\n",
       "      <td>10.000</td>\n",
       "      <td>10.000</td>\n",
       "    </tr>\n",
       "    <tr>\n",
       "      <th>mean</th>\n",
       "      <td>105.500</td>\n",
       "      <td>62.500</td>\n",
       "      <td>1185.600</td>\n",
       "    </tr>\n",
       "    <tr>\n",
       "      <th>std</th>\n",
       "      <td>3.028</td>\n",
       "      <td>51.330</td>\n",
       "      <td>873.155</td>\n",
       "    </tr>\n",
       "    <tr>\n",
       "      <th>min</th>\n",
       "      <td>101.000</td>\n",
       "      <td>25.000</td>\n",
       "      <td>124.000</td>\n",
       "    </tr>\n",
       "    <tr>\n",
       "      <th>25%</th>\n",
       "      <td>103.250</td>\n",
       "      <td>32.500</td>\n",
       "      <td>561.000</td>\n",
       "    </tr>\n",
       "    <tr>\n",
       "      <th>50%</th>\n",
       "      <td>105.500</td>\n",
       "      <td>50.000</td>\n",
       "      <td>1010.000</td>\n",
       "    </tr>\n",
       "    <tr>\n",
       "      <th>75%</th>\n",
       "      <td>107.750</td>\n",
       "      <td>68.750</td>\n",
       "      <td>1589.000</td>\n",
       "    </tr>\n",
       "    <tr>\n",
       "      <th>max</th>\n",
       "      <td>110.000</td>\n",
       "      <td>200.000</td>\n",
       "      <td>2676.000</td>\n",
       "    </tr>\n",
       "  </tbody>\n",
       "</table>\n",
       "</div>"
      ],
      "text/plain": [
       "          SKU   Value  Beginning Inventory\n",
       "count  10.000  10.000               10.000\n",
       "mean  105.500  62.500             1185.600\n",
       "std     3.028  51.330              873.155\n",
       "min   101.000  25.000              124.000\n",
       "25%   103.250  32.500              561.000\n",
       "50%   105.500  50.000             1010.000\n",
       "75%   107.750  68.750             1589.000\n",
       "max   110.000 200.000             2676.000"
      ]
     },
     "execution_count": 24,
     "metadata": {},
     "output_type": "execute_result"
    },
    {
     "data": {
      "text/html": [
       "<div>\n",
       "<style scoped>\n",
       "    .dataframe tbody tr th:only-of-type {\n",
       "        vertical-align: middle;\n",
       "    }\n",
       "\n",
       "    .dataframe tbody tr th {\n",
       "        vertical-align: top;\n",
       "    }\n",
       "\n",
       "    .dataframe thead th {\n",
       "        text-align: right;\n",
       "    }\n",
       "</style>\n",
       "<table border=\"1\" class=\"dataframe\">\n",
       "  <thead>\n",
       "    <tr style=\"text-align: right;\">\n",
       "      <th></th>\n",
       "      <th>GRP (OOH)</th>\n",
       "      <th>PPC Spend</th>\n",
       "      <th>Display Spend</th>\n",
       "      <th>email Spend</th>\n",
       "    </tr>\n",
       "  </thead>\n",
       "  <tbody>\n",
       "    <tr>\n",
       "      <th>count</th>\n",
       "      <td>731.000</td>\n",
       "      <td>731.000</td>\n",
       "      <td>731.000</td>\n",
       "      <td>731.000</td>\n",
       "    </tr>\n",
       "    <tr>\n",
       "      <th>mean</th>\n",
       "      <td>64929.549</td>\n",
       "      <td>1061.943</td>\n",
       "      <td>1255.930</td>\n",
       "      <td>347.743</td>\n",
       "    </tr>\n",
       "    <tr>\n",
       "      <th>std</th>\n",
       "      <td>50459.826</td>\n",
       "      <td>763.398</td>\n",
       "      <td>145.099</td>\n",
       "      <td>255.006</td>\n",
       "    </tr>\n",
       "    <tr>\n",
       "      <th>min</th>\n",
       "      <td>0.000</td>\n",
       "      <td>0.000</td>\n",
       "      <td>1000.000</td>\n",
       "      <td>0.000</td>\n",
       "    </tr>\n",
       "    <tr>\n",
       "      <th>25%</th>\n",
       "      <td>9250.000</td>\n",
       "      <td>161.250</td>\n",
       "      <td>1133.500</td>\n",
       "      <td>50.000</td>\n",
       "    </tr>\n",
       "    <tr>\n",
       "      <th>50%</th>\n",
       "      <td>62500.000</td>\n",
       "      <td>1038.750</td>\n",
       "      <td>1261.000</td>\n",
       "      <td>335.000</td>\n",
       "    </tr>\n",
       "    <tr>\n",
       "      <th>75%</th>\n",
       "      <td>103750.000</td>\n",
       "      <td>1665.000</td>\n",
       "      <td>1377.000</td>\n",
       "      <td>547.500</td>\n",
       "    </tr>\n",
       "    <tr>\n",
       "      <th>max</th>\n",
       "      <td>201000.000</td>\n",
       "      <td>3825.000</td>\n",
       "      <td>1500.000</td>\n",
       "      <td>1275.000</td>\n",
       "    </tr>\n",
       "  </tbody>\n",
       "</table>\n",
       "</div>"
      ],
      "text/plain": [
       "       GRP (OOH)  PPC Spend  Display Spend  email Spend\n",
       "count    731.000    731.000        731.000      731.000\n",
       "mean   64929.549   1061.943       1255.930      347.743\n",
       "std    50459.826    763.398        145.099      255.006\n",
       "min        0.000      0.000       1000.000        0.000\n",
       "25%     9250.000    161.250       1133.500       50.000\n",
       "50%    62500.000   1038.750       1261.000      335.000\n",
       "75%   103750.000   1665.000       1377.000      547.500\n",
       "max   201000.000   3825.000       1500.000     1275.000"
      ]
     },
     "execution_count": 24,
     "metadata": {},
     "output_type": "execute_result"
    }
   ],
   "source": [
    "traffic.describe()\n",
    "market.describe()\n",
    "sales.describe()\n",
    "sku.describe()\n",
    "media_spend.describe()"
   ]
  },
  {
   "cell_type": "markdown",
   "metadata": {},
   "source": [
    "# Missing Value Check - None Found"
   ]
  },
  {
   "cell_type": "code",
   "execution_count": 27,
   "metadata": {
    "collapsed": true
   },
   "outputs": [
    {
     "data": {
      "text/html": [
       "<div>\n",
       "<style scoped>\n",
       "    .dataframe tbody tr th:only-of-type {\n",
       "        vertical-align: middle;\n",
       "    }\n",
       "\n",
       "    .dataframe tbody tr th {\n",
       "        vertical-align: top;\n",
       "    }\n",
       "\n",
       "    .dataframe thead th {\n",
       "        text-align: right;\n",
       "    }\n",
       "</style>\n",
       "<table border=\"1\" class=\"dataframe\">\n",
       "  <thead>\n",
       "    <tr style=\"text-align: right;\">\n",
       "      <th></th>\n",
       "      <th>Nulls</th>\n",
       "    </tr>\n",
       "  </thead>\n",
       "  <tbody>\n",
       "    <tr>\n",
       "      <th>Date</th>\n",
       "      <td>0</td>\n",
       "    </tr>\n",
       "    <tr>\n",
       "      <th>Visitors</th>\n",
       "      <td>0</td>\n",
       "    </tr>\n",
       "    <tr>\n",
       "      <th>Visits</th>\n",
       "      <td>0</td>\n",
       "    </tr>\n",
       "    <tr>\n",
       "      <th>Page Views</th>\n",
       "      <td>0</td>\n",
       "    </tr>\n",
       "  </tbody>\n",
       "</table>\n",
       "</div>"
      ],
      "text/plain": [
       "            Nulls\n",
       "Date            0\n",
       "Visitors        0\n",
       "Visits          0\n",
       "Page Views      0"
      ]
     },
     "execution_count": 27,
     "metadata": {},
     "output_type": "execute_result"
    },
    {
     "data": {
      "text/html": [
       "<div>\n",
       "<style scoped>\n",
       "    .dataframe tbody tr th:only-of-type {\n",
       "        vertical-align: middle;\n",
       "    }\n",
       "\n",
       "    .dataframe tbody tr th {\n",
       "        vertical-align: top;\n",
       "    }\n",
       "\n",
       "    .dataframe thead th {\n",
       "        text-align: right;\n",
       "    }\n",
       "</style>\n",
       "<table border=\"1\" class=\"dataframe\">\n",
       "  <thead>\n",
       "    <tr style=\"text-align: right;\">\n",
       "      <th></th>\n",
       "      <th>Nulls</th>\n",
       "    </tr>\n",
       "  </thead>\n",
       "  <tbody>\n",
       "    <tr>\n",
       "      <th>Date</th>\n",
       "      <td>0</td>\n",
       "    </tr>\n",
       "    <tr>\n",
       "      <th>Visits to competitor sites</th>\n",
       "      <td>0</td>\n",
       "    </tr>\n",
       "    <tr>\n",
       "      <th>Social Media Mentions</th>\n",
       "      <td>0</td>\n",
       "    </tr>\n",
       "  </tbody>\n",
       "</table>\n",
       "</div>"
      ],
      "text/plain": [
       "                            Nulls\n",
       "Date                            0\n",
       "Visits to competitor sites      0\n",
       "Social Media Mentions           0"
      ]
     },
     "execution_count": 27,
     "metadata": {},
     "output_type": "execute_result"
    },
    {
     "data": {
      "text/html": [
       "<div>\n",
       "<style scoped>\n",
       "    .dataframe tbody tr th:only-of-type {\n",
       "        vertical-align: middle;\n",
       "    }\n",
       "\n",
       "    .dataframe tbody tr th {\n",
       "        vertical-align: top;\n",
       "    }\n",
       "\n",
       "    .dataframe thead th {\n",
       "        text-align: right;\n",
       "    }\n",
       "</style>\n",
       "<table border=\"1\" class=\"dataframe\">\n",
       "  <thead>\n",
       "    <tr style=\"text-align: right;\">\n",
       "      <th></th>\n",
       "      <th>Nulls</th>\n",
       "    </tr>\n",
       "  </thead>\n",
       "  <tbody>\n",
       "    <tr>\n",
       "      <th>Date</th>\n",
       "      <td>0</td>\n",
       "    </tr>\n",
       "    <tr>\n",
       "      <th>Transaction ID (Unique)</th>\n",
       "      <td>0</td>\n",
       "    </tr>\n",
       "    <tr>\n",
       "      <th>SKU</th>\n",
       "      <td>0</td>\n",
       "    </tr>\n",
       "  </tbody>\n",
       "</table>\n",
       "</div>"
      ],
      "text/plain": [
       "                         Nulls\n",
       "Date                         0\n",
       "Transaction ID (Unique)      0\n",
       "SKU                          0"
      ]
     },
     "execution_count": 27,
     "metadata": {},
     "output_type": "execute_result"
    },
    {
     "data": {
      "text/html": [
       "<div>\n",
       "<style scoped>\n",
       "    .dataframe tbody tr th:only-of-type {\n",
       "        vertical-align: middle;\n",
       "    }\n",
       "\n",
       "    .dataframe tbody tr th {\n",
       "        vertical-align: top;\n",
       "    }\n",
       "\n",
       "    .dataframe thead th {\n",
       "        text-align: right;\n",
       "    }\n",
       "</style>\n",
       "<table border=\"1\" class=\"dataframe\">\n",
       "  <thead>\n",
       "    <tr style=\"text-align: right;\">\n",
       "      <th></th>\n",
       "      <th>Nulls</th>\n",
       "    </tr>\n",
       "  </thead>\n",
       "  <tbody>\n",
       "    <tr>\n",
       "      <th>SKU</th>\n",
       "      <td>0</td>\n",
       "    </tr>\n",
       "    <tr>\n",
       "      <th>Product Name</th>\n",
       "      <td>0</td>\n",
       "    </tr>\n",
       "    <tr>\n",
       "      <th>Value</th>\n",
       "      <td>0</td>\n",
       "    </tr>\n",
       "    <tr>\n",
       "      <th>Beginning Inventory</th>\n",
       "      <td>0</td>\n",
       "    </tr>\n",
       "  </tbody>\n",
       "</table>\n",
       "</div>"
      ],
      "text/plain": [
       "                     Nulls\n",
       "SKU                      0\n",
       "Product Name             0\n",
       "Value                    0\n",
       "Beginning Inventory      0"
      ]
     },
     "execution_count": 27,
     "metadata": {},
     "output_type": "execute_result"
    },
    {
     "data": {
      "text/html": [
       "<div>\n",
       "<style scoped>\n",
       "    .dataframe tbody tr th:only-of-type {\n",
       "        vertical-align: middle;\n",
       "    }\n",
       "\n",
       "    .dataframe tbody tr th {\n",
       "        vertical-align: top;\n",
       "    }\n",
       "\n",
       "    .dataframe thead th {\n",
       "        text-align: right;\n",
       "    }\n",
       "</style>\n",
       "<table border=\"1\" class=\"dataframe\">\n",
       "  <thead>\n",
       "    <tr style=\"text-align: right;\">\n",
       "      <th></th>\n",
       "      <th>Nulls</th>\n",
       "    </tr>\n",
       "  </thead>\n",
       "  <tbody>\n",
       "    <tr>\n",
       "      <th>Date</th>\n",
       "      <td>0</td>\n",
       "    </tr>\n",
       "    <tr>\n",
       "      <th>GRP (OOH)</th>\n",
       "      <td>0</td>\n",
       "    </tr>\n",
       "    <tr>\n",
       "      <th>PPC Spend</th>\n",
       "      <td>0</td>\n",
       "    </tr>\n",
       "    <tr>\n",
       "      <th>Display Spend</th>\n",
       "      <td>0</td>\n",
       "    </tr>\n",
       "    <tr>\n",
       "      <th>email Spend</th>\n",
       "      <td>0</td>\n",
       "    </tr>\n",
       "  </tbody>\n",
       "</table>\n",
       "</div>"
      ],
      "text/plain": [
       "               Nulls\n",
       "Date               0\n",
       "GRP (OOH)          0\n",
       "PPC Spend          0\n",
       "Display Spend      0\n",
       "email Spend        0"
      ]
     },
     "execution_count": 27,
     "metadata": {},
     "output_type": "execute_result"
    }
   ],
   "source": [
    "pd.DataFrame(traffic.isnull().sum(),columns=['Nulls'])\n",
    "pd.DataFrame(market.isnull().sum(),columns=['Nulls'])\n",
    "pd.DataFrame(sales.isnull().sum(),columns=['Nulls'])\n",
    "pd.DataFrame(sku.isnull().sum(),columns=['Nulls'])\n",
    "pd.DataFrame(media_spend.isnull().sum(),columns=['Nulls'])"
   ]
  },
  {
   "cell_type": "markdown",
   "metadata": {},
   "source": [
    "# Data Prep"
   ]
  },
  {
   "cell_type": "markdown",
   "metadata": {},
   "source": [
    "## Aggregate traffic data to daily level."
   ]
  },
  {
   "cell_type": "code",
   "execution_count": 20,
   "metadata": {
    "collapsed": false
   },
   "outputs": [
    {
     "data": {
      "text/plain": [
       "2008-01-08    20\n",
       "2009-04-25    14\n",
       "2009-04-28    14\n",
       "2009-02-08    14\n",
       "2009-02-16    14\n",
       "Name: Date, dtype: int64"
      ]
     },
     "execution_count": 20,
     "metadata": {},
     "output_type": "execute_result"
    },
    {
     "data": {
      "text/plain": [
       "2008-07-11    1\n",
       "Name: Date, dtype: int64"
      ]
     },
     "execution_count": 20,
     "metadata": {},
     "output_type": "execute_result"
    }
   ],
   "source": [
    "traffic['Date'].value_counts(ascending=False).head() # Multiple rows per date value\n",
    "traffic2=traffic.groupby(['Date']).sum() #aggregates data to daily level\n",
    "pd.Series(traffic2.index).value_counts(ascending=False).head(1) #verifies 1 row per date\n",
    "traffic2=traffic2.reset_index()"
   ]
  },
  {
   "cell_type": "markdown",
   "metadata": {},
   "source": [
    "## Aggregate sales data by summing sales by day and sku"
   ]
  },
  {
   "cell_type": "code",
   "execution_count": 21,
   "metadata": {
    "collapsed": false,
    "scrolled": true
   },
   "outputs": [],
   "source": [
    "#make each sku a column with aggregated sales for the date\n",
    "sales2=pd.merge(sales,sku.iloc[:,:-1],on='SKU')\n",
    "sales2=pd.DataFrame(sales2.groupby(['Date','SKU']).sum()).loc[:,['Value']]\n",
    "sales2=sales2.unstack(1).fillna(0).reset_index()\n",
    "\n",
    "#get rid of the multilevel column index\n",
    "temp=pd.DataFrame(sales2.Date)\n",
    "for j in range(len(sales2.columns.values)):\n",
    "    temp[sales2.columns.values[j][1]]=sales2.iloc[:,j]\n",
    "sales2=temp.drop(\"\",axis=1)"
   ]
  },
  {
   "cell_type": "code",
   "execution_count": 392,
   "metadata": {
    "collapsed": false
   },
   "outputs": [
    {
     "data": {
      "text/html": [
       "<div>\n",
       "<style scoped>\n",
       "    .dataframe tbody tr th:only-of-type {\n",
       "        vertical-align: middle;\n",
       "    }\n",
       "\n",
       "    .dataframe tbody tr th {\n",
       "        vertical-align: top;\n",
       "    }\n",
       "\n",
       "    .dataframe thead th {\n",
       "        text-align: right;\n",
       "    }\n",
       "</style>\n",
       "<table border=\"1\" class=\"dataframe\">\n",
       "  <thead>\n",
       "    <tr style=\"text-align: right;\">\n",
       "      <th></th>\n",
       "      <th>Date</th>\n",
       "      <th>GRP (OOH)</th>\n",
       "      <th>PPC Spend</th>\n",
       "      <th>Display Spend</th>\n",
       "      <th>email Spend</th>\n",
       "    </tr>\n",
       "  </thead>\n",
       "  <tbody>\n",
       "    <tr>\n",
       "      <th>0</th>\n",
       "      <td>2008-01-01</td>\n",
       "      <td>118500</td>\n",
       "      <td>1890.000</td>\n",
       "      <td>1491</td>\n",
       "      <td>1275.000</td>\n",
       "    </tr>\n",
       "  </tbody>\n",
       "</table>\n",
       "</div>"
      ],
      "text/plain": [
       "        Date  GRP (OOH)  PPC Spend  Display Spend  email Spend\n",
       "0 2008-01-01     118500   1890.000           1491     1275.000"
      ]
     },
     "execution_count": 392,
     "metadata": {},
     "output_type": "execute_result"
    },
    {
     "data": {
      "text/plain": [
       "2008-07-11    1\n",
       "Name: Date, dtype: int64"
      ]
     },
     "execution_count": 392,
     "metadata": {},
     "output_type": "execute_result"
    }
   ],
   "source": [
    "media_spend.head(1)\n",
    "media_spend.Date.value_counts(ascending=False).head(1) #check if dates are unique"
   ]
  },
  {
   "cell_type": "markdown",
   "metadata": {},
   "source": [
    "## Transform market data date column"
   ]
  },
  {
   "cell_type": "code",
   "execution_count": 22,
   "metadata": {
    "collapsed": false
   },
   "outputs": [
    {
     "data": {
      "text/plain": [
       "2008-06-30    1\n",
       "Name: Date, dtype: int64"
      ]
     },
     "execution_count": 22,
     "metadata": {},
     "output_type": "execute_result"
    },
    {
     "data": {
      "text/plain": [
       "2008-05-03    1\n",
       "Name: Date, dtype: int64"
      ]
     },
     "execution_count": 22,
     "metadata": {},
     "output_type": "execute_result"
    }
   ],
   "source": [
    "market.Date.value_counts(ascending=False).head(1) #check if dates are unique\n",
    "market2=copy.deepcopy(market)\n",
    "market2['Date']=market['Date'].astype(str).str[:-8].str.rstrip(' ') #format dates\n",
    "market2=market2.iloc[:-1,:] #remove grand total column\n",
    "market2.Date.value_counts(ascending=False).head(1) #check if dates are unique\n",
    "market2['Date']=pd.to_datetime(market2.Date)\n",
    "#check if date length concatenating messed up any of the dates"
   ]
  },
  {
   "cell_type": "markdown",
   "metadata": {},
   "source": [
    "# Check Data Prep"
   ]
  },
  {
   "cell_type": "markdown",
   "metadata": {},
   "source": [
    "From the below, media_spend has several days 02/01/09 - 02/04/09 that are not in the other datasets.  These days will be removed."
   ]
  },
  {
   "cell_type": "code",
   "execution_count": 23,
   "metadata": {
    "collapsed": true
   },
   "outputs": [
    {
     "data": {
      "text/plain": [
       "0   2008-01-01\n",
       "1   2008-01-02\n",
       "Name: Date, dtype: datetime64[ns]"
      ]
     },
     "execution_count": 23,
     "metadata": {},
     "output_type": "execute_result"
    },
    {
     "data": {
      "text/plain": [
       "0   2008-01-01\n",
       "1   2008-01-02\n",
       "Name: Date, dtype: datetime64[ns]"
      ]
     },
     "execution_count": 23,
     "metadata": {},
     "output_type": "execute_result"
    },
    {
     "data": {
      "text/plain": [
       "0   2008-01-01\n",
       "1   2008-01-02\n",
       "Name: Date, dtype: datetime64[ns]"
      ]
     },
     "execution_count": 23,
     "metadata": {},
     "output_type": "execute_result"
    },
    {
     "data": {
      "text/plain": [
       "727"
      ]
     },
     "execution_count": 23,
     "metadata": {},
     "output_type": "execute_result"
    },
    {
     "data": {
      "text/plain": [
       "731"
      ]
     },
     "execution_count": 23,
     "metadata": {},
     "output_type": "execute_result"
    },
    {
     "data": {
      "text/plain": [
       "727"
      ]
     },
     "execution_count": 23,
     "metadata": {},
     "output_type": "execute_result"
    },
    {
     "data": {
      "text/plain": [
       "727"
      ]
     },
     "execution_count": 23,
     "metadata": {},
     "output_type": "execute_result"
    },
    {
     "data": {
      "text/plain": [
       "397   2009-02-01\n",
       "398   2009-02-02\n",
       "399   2009-02-03\n",
       "400   2009-02-04\n",
       "Name: Date, dtype: datetime64[ns]"
      ]
     },
     "execution_count": 23,
     "metadata": {},
     "output_type": "execute_result"
    },
    {
     "data": {
      "text/plain": [
       "397   2009-02-01\n",
       "398   2009-02-02\n",
       "399   2009-02-03\n",
       "400   2009-02-04\n",
       "Name: Date, dtype: datetime64[ns]"
      ]
     },
     "execution_count": 23,
     "metadata": {},
     "output_type": "execute_result"
    },
    {
     "data": {
      "text/plain": [
       "397   2009-02-01\n",
       "398   2009-02-02\n",
       "399   2009-02-03\n",
       "400   2009-02-04\n",
       "Name: Date, dtype: datetime64[ns]"
      ]
     },
     "execution_count": 23,
     "metadata": {},
     "output_type": "execute_result"
    },
    {
     "data": {
      "text/plain": [
       "727"
      ]
     },
     "execution_count": 23,
     "metadata": {},
     "output_type": "execute_result"
    },
    {
     "data": {
      "text/plain": [
       "731"
      ]
     },
     "execution_count": 23,
     "metadata": {},
     "output_type": "execute_result"
    },
    {
     "data": {
      "text/plain": [
       "(727, 727, 727, 727)"
      ]
     },
     "execution_count": 23,
     "metadata": {},
     "output_type": "execute_result"
    },
    {
     "data": {
      "text/html": [
       "<div>\n",
       "<style scoped>\n",
       "    .dataframe tbody tr th:only-of-type {\n",
       "        vertical-align: middle;\n",
       "    }\n",
       "\n",
       "    .dataframe tbody tr th {\n",
       "        vertical-align: top;\n",
       "    }\n",
       "\n",
       "    .dataframe thead th {\n",
       "        text-align: right;\n",
       "    }\n",
       "</style>\n",
       "<table border=\"1\" class=\"dataframe\">\n",
       "  <thead>\n",
       "    <tr style=\"text-align: right;\">\n",
       "      <th></th>\n",
       "      <th>Date</th>\n",
       "      <th>GRP (OOH)</th>\n",
       "      <th>PPC Spend</th>\n",
       "      <th>Display Spend</th>\n",
       "      <th>email Spend</th>\n",
       "    </tr>\n",
       "  </thead>\n",
       "  <tbody>\n",
       "    <tr>\n",
       "      <th>0</th>\n",
       "      <td>2008-01-01</td>\n",
       "      <td>118500</td>\n",
       "      <td>1890.000</td>\n",
       "      <td>1491</td>\n",
       "      <td>1275.000</td>\n",
       "    </tr>\n",
       "  </tbody>\n",
       "</table>\n",
       "</div>"
      ],
      "text/plain": [
       "        Date  GRP (OOH)  PPC Spend  Display Spend  email Spend\n",
       "0 2008-01-01     118500   1890.000           1491     1275.000"
      ]
     },
     "execution_count": 23,
     "metadata": {},
     "output_type": "execute_result"
    },
    {
     "data": {
      "text/html": [
       "<div>\n",
       "<style scoped>\n",
       "    .dataframe tbody tr th:only-of-type {\n",
       "        vertical-align: middle;\n",
       "    }\n",
       "\n",
       "    .dataframe tbody tr th {\n",
       "        vertical-align: top;\n",
       "    }\n",
       "\n",
       "    .dataframe thead th {\n",
       "        text-align: right;\n",
       "    }\n",
       "</style>\n",
       "<table border=\"1\" class=\"dataframe\">\n",
       "  <thead>\n",
       "    <tr style=\"text-align: right;\">\n",
       "      <th></th>\n",
       "      <th>Date</th>\n",
       "      <th>Visitors</th>\n",
       "      <th>Visits</th>\n",
       "      <th>Page Views</th>\n",
       "    </tr>\n",
       "  </thead>\n",
       "  <tbody>\n",
       "    <tr>\n",
       "      <th>0</th>\n",
       "      <td>2008-01-01</td>\n",
       "      <td>1100599</td>\n",
       "      <td>1430780</td>\n",
       "      <td>1650898</td>\n",
       "    </tr>\n",
       "  </tbody>\n",
       "</table>\n",
       "</div>"
      ],
      "text/plain": [
       "        Date  Visitors   Visits  Page Views\n",
       "0 2008-01-01   1100599  1430780     1650898"
      ]
     },
     "execution_count": 23,
     "metadata": {},
     "output_type": "execute_result"
    },
    {
     "data": {
      "text/html": [
       "<div>\n",
       "<style scoped>\n",
       "    .dataframe tbody tr th:only-of-type {\n",
       "        vertical-align: middle;\n",
       "    }\n",
       "\n",
       "    .dataframe tbody tr th {\n",
       "        vertical-align: top;\n",
       "    }\n",
       "\n",
       "    .dataframe thead th {\n",
       "        text-align: right;\n",
       "    }\n",
       "</style>\n",
       "<table border=\"1\" class=\"dataframe\">\n",
       "  <thead>\n",
       "    <tr style=\"text-align: right;\">\n",
       "      <th></th>\n",
       "      <th>Date</th>\n",
       "      <th>Visits to competitor sites</th>\n",
       "      <th>Social Media Mentions</th>\n",
       "    </tr>\n",
       "  </thead>\n",
       "  <tbody>\n",
       "    <tr>\n",
       "      <th>0</th>\n",
       "      <td>2008-01-01</td>\n",
       "      <td>1216161</td>\n",
       "      <td>210225</td>\n",
       "    </tr>\n",
       "  </tbody>\n",
       "</table>\n",
       "</div>"
      ],
      "text/plain": [
       "        Date  Visits to competitor sites  Social Media Mentions\n",
       "0 2008-01-01                     1216161                 210225"
      ]
     },
     "execution_count": 23,
     "metadata": {},
     "output_type": "execute_result"
    },
    {
     "data": {
      "text/html": [
       "<div>\n",
       "<style scoped>\n",
       "    .dataframe tbody tr th:only-of-type {\n",
       "        vertical-align: middle;\n",
       "    }\n",
       "\n",
       "    .dataframe tbody tr th {\n",
       "        vertical-align: top;\n",
       "    }\n",
       "\n",
       "    .dataframe thead th {\n",
       "        text-align: right;\n",
       "    }\n",
       "</style>\n",
       "<table border=\"1\" class=\"dataframe\">\n",
       "  <thead>\n",
       "    <tr style=\"text-align: right;\">\n",
       "      <th></th>\n",
       "      <th>Date</th>\n",
       "      <th>101</th>\n",
       "      <th>102</th>\n",
       "      <th>103</th>\n",
       "      <th>104</th>\n",
       "      <th>105</th>\n",
       "      <th>106</th>\n",
       "      <th>107</th>\n",
       "      <th>108</th>\n",
       "      <th>109</th>\n",
       "      <th>110</th>\n",
       "    </tr>\n",
       "  </thead>\n",
       "  <tbody>\n",
       "    <tr>\n",
       "      <th>0</th>\n",
       "      <td>2008-01-01</td>\n",
       "      <td>250.000</td>\n",
       "      <td>600.000</td>\n",
       "      <td>150.000</td>\n",
       "      <td>0.000</td>\n",
       "      <td>0.000</td>\n",
       "      <td>0.000</td>\n",
       "      <td>0.000</td>\n",
       "      <td>0.000</td>\n",
       "      <td>0.000</td>\n",
       "      <td>0.000</td>\n",
       "    </tr>\n",
       "  </tbody>\n",
       "</table>\n",
       "</div>"
      ],
      "text/plain": [
       "        Date     101     102     103   104   105   106   107   108   109   110\n",
       "0 2008-01-01 250.000 600.000 150.000 0.000 0.000 0.000 0.000 0.000 0.000 0.000"
      ]
     },
     "execution_count": 23,
     "metadata": {},
     "output_type": "execute_result"
    }
   ],
   "source": [
    "# check that dates have same format\n",
    "media_spend.Date.head(2)\n",
    "market2.Date.head(2)\n",
    "traffic2.Date.head(2)\n",
    "\n",
    "#Check if some days are missing from certain dataframes; how many rows in each df?\n",
    "len(sales2)\n",
    "len(media_spend)\n",
    "len(market2)\n",
    "len(traffic2)\n",
    "\n",
    "temp=media_spend.Date.isin(sales2.Date)\n",
    "temp=temp[temp==False].index.values #media spend index rows not in sales2\n",
    "media_spend.iloc[temp,:].Date #sales2 is missing 02-01-09 through 02-04-09\n",
    "\n",
    "temp=media_spend.Date.isin(market2.Date)\n",
    "temp=temp[temp==False].index.values #media spend index rows not in market2\n",
    "media_spend.iloc[temp,:].Date #market2 is missing 02-01-09 through 02-04-09, AS WELL!\n",
    "\n",
    "temp=media_spend.Date.isin(traffic2.Date)\n",
    "temp=temp[temp==False].index.values #media spend index rows not in traffic2\n",
    "media_spend.iloc[temp,:].Date #traffic2 is missing 02-01-09 through 02-04-09\n",
    "\n",
    "media_spend2=media_spend.drop(temp) #remove media_spend days not in other datasets\n",
    "len(media_spend2) #new number of rows\n",
    "len(media_spend)  #old number of rows\n",
    "\n",
    "len(media_spend2), len(traffic2), len(market2), len(sales2)\n",
    "media_spend2.head(1)\n",
    "traffic2.head(1)\n",
    "market2.head(1)\n",
    "sales2.head(1)"
   ]
  },
  {
   "cell_type": "markdown",
   "metadata": {},
   "source": [
    "## Combine Datasets"
   ]
  },
  {
   "cell_type": "markdown",
   "metadata": {},
   "source": [
    "### Monthly"
   ]
  },
  {
   "cell_type": "code",
   "execution_count": 81,
   "metadata": {
    "collapsed": false
   },
   "outputs": [],
   "source": [
    "df=pd.merge(media_spend2,traffic2,on='Date')\n",
    "df=pd.merge(df,market2,on='Date')\n",
    "df=pd.merge(df,sales2,on='Date')\n",
    "\n",
    "df_tableau=copy.deepcopy(df)\n",
    "df['Day']  =df.Date.map(lambda x: x.day)\n",
    "df['Month']=df.Date.map(lambda x: x.month)\n",
    "df['Year'] =df.Date.map(lambda x: x.year)\n",
    "\n",
    "cols=df.columns.tolist() #make a list out of column values\n",
    "cols1=[cols[-3]]+[cols[-2]]+[cols[-1]]+cols[1:(len(cols)-3)]\n",
    "cols2=[cols[-2]]+[cols[-1]]+cols[1:(len(cols)-3)] #move month/year to front, remove date\n",
    "df=df[cols1]\n",
    "df_month=df[cols2].groupby(['Month','Year']).sum().reset_index().sort_values(by=['Year','Month']).reset_index().drop('index',axis=1)"
   ]
  },
  {
   "cell_type": "markdown",
   "metadata": {},
   "source": [
    "### Bi-Monthly"
   ]
  },
  {
   "cell_type": "code",
   "execution_count": 693,
   "metadata": {
    "collapsed": false
   },
   "outputs": [],
   "source": [
    "df_bi_month = copy.deepcopy(df)\n",
    "df_bi_month['Bi_Month'] = df_bi_month.Day.map(lambda x: 1 if x <=15 else 2 )\n",
    "cols_bi=df_bi_month.columns.tolist()\n",
    "cols3=[cols_bi[-1]]+cols_bi[1:(len(cols_bi)-1)] #move month/year to front, remove Day\n",
    "df_bi_month_non_aggregated = df_bi_month[cols3]\n",
    "df_bi_month = df_bi_month_non_aggregated.groupby(['Bi_Month','Month','Year']).sum().reset_index().sort_values(by=['Year','Month','Bi_Month']).reset_index().drop('index',axis=1)"
   ]
  },
  {
   "cell_type": "markdown",
   "metadata": {},
   "source": [
    "## Creating Total Revenue Datasets"
   ]
  },
  {
   "cell_type": "markdown",
   "metadata": {},
   "source": [
    "### Monthly"
   ]
  },
  {
   "cell_type": "code",
   "execution_count": 37,
   "metadata": {
    "collapsed": false
   },
   "outputs": [],
   "source": [
    "df_month.columns=df_month.columns.astype(str)\n",
    "temp1=df_month.columns.get_loc('101') #starting SKU index\n",
    "temp2=df_month.columns.get_loc('110') #ending SKU index\n",
    "temp3=df_month.iloc[:,temp1:temp2+1].sum(axis=1) #total revenue by month\n",
    "temp4=df_month.iloc[:,:temp1] #df_month excluding revenues\n",
    "temp4['Sales'] = temp3\n",
    "df_month_total_revenue = temp4"
   ]
  },
  {
   "cell_type": "code",
   "execution_count": 83,
   "metadata": {
    "collapsed": false
   },
   "outputs": [],
   "source": [
    "df_tableau.columns=df_tableau.columns.astype(str)\n",
    "temp1=df_tableau.columns.get_loc('101') #starting SKU index\n",
    "temp2=df_tableau.columns.get_loc('110') #ending SKU index\n",
    "temp3=df_tableau.iloc[:,temp1:temp2+1].sum(axis=1) #total revenue by month\n",
    "temp4=df_tableau.iloc[:,:temp1] #df_month excluding revenues\n",
    "temp4['Sales'] = temp3\n",
    "mm_tableau = temp4\n",
    "mm_tableau.to_csv('/Users/Work/Desktop/Work/Projects/Python/mm_tableau.csv')"
   ]
  },
  {
   "cell_type": "markdown",
   "metadata": {},
   "source": [
    "### Bi_Monthly"
   ]
  },
  {
   "cell_type": "code",
   "execution_count": 714,
   "metadata": {
    "collapsed": false
   },
   "outputs": [],
   "source": [
    "df_bi_month.columns=df_bi_month.columns.astype(str)\n",
    "temp1=df_bi_month.columns.get_loc('101') #starting SKU index\n",
    "temp2=df_bi_month.columns.get_loc('110') #ending SKU index\n",
    "temp3=df_bi_month.iloc[:,temp1:temp2+1].sum(axis=1) #total revenue by month\n",
    "temp4=df_bi_month.iloc[:,:temp1] #df_bi_month excluding revenues\n",
    "temp4['Sales'] = temp3\n",
    "df_bi_month_total_revenue = temp4"
   ]
  },
  {
   "cell_type": "markdown",
   "metadata": {},
   "source": [
    "# Working with Monthly Total Revenue as the Outcome"
   ]
  },
  {
   "cell_type": "code",
   "execution_count": 561,
   "metadata": {
    "collapsed": true
   },
   "outputs": [],
   "source": [
    "pickle.dump(df_month_total_revenue, open('mm_df_month_total_revenue.sav', 'wb'))"
   ]
  },
  {
   "cell_type": "code",
   "execution_count": 3,
   "metadata": {
    "collapsed": false
   },
   "outputs": [],
   "source": [
    "df_month_total_revenue = pickle.load(open('mm_df_month_total_revenue.sav', 'rb'))"
   ]
  },
  {
   "cell_type": "code",
   "execution_count": 553,
   "metadata": {
    "collapsed": true
   },
   "outputs": [
    {
     "data": {
      "text/html": [
       "<div>\n",
       "<style scoped>\n",
       "    .dataframe tbody tr th:only-of-type {\n",
       "        vertical-align: middle;\n",
       "    }\n",
       "\n",
       "    .dataframe tbody tr th {\n",
       "        vertical-align: top;\n",
       "    }\n",
       "\n",
       "    .dataframe thead th {\n",
       "        text-align: right;\n",
       "    }\n",
       "</style>\n",
       "<table border=\"1\" class=\"dataframe\">\n",
       "  <thead>\n",
       "    <tr style=\"text-align: right;\">\n",
       "      <th></th>\n",
       "      <th>GRP (OOH)</th>\n",
       "      <th>PPC Spend</th>\n",
       "      <th>Display Spend</th>\n",
       "      <th>email Spend</th>\n",
       "      <th>Visitors</th>\n",
       "      <th>Visits</th>\n",
       "      <th>Page Views</th>\n",
       "      <th>Visits to competitor sites</th>\n",
       "      <th>Social Media Mentions</th>\n",
       "      <th>Sales</th>\n",
       "    </tr>\n",
       "  </thead>\n",
       "  <tbody>\n",
       "    <tr>\n",
       "      <th>count</th>\n",
       "      <td>24.000</td>\n",
       "      <td>24.000</td>\n",
       "      <td>24.000</td>\n",
       "      <td>24.000</td>\n",
       "      <td>24.000</td>\n",
       "      <td>24.000</td>\n",
       "      <td>24.000</td>\n",
       "      <td>24.000</td>\n",
       "      <td>24.000</td>\n",
       "      <td>24.000</td>\n",
       "    </tr>\n",
       "    <tr>\n",
       "      <th>mean</th>\n",
       "      <td>1956083.333</td>\n",
       "      <td>32345.000</td>\n",
       "      <td>38037.333</td>\n",
       "      <td>10443.229</td>\n",
       "      <td>35324450.250</td>\n",
       "      <td>45921787.458</td>\n",
       "      <td>52986681.083</td>\n",
       "      <td>39422064.500</td>\n",
       "      <td>13758738.125</td>\n",
       "      <td>26169.792</td>\n",
       "    </tr>\n",
       "    <tr>\n",
       "      <th>std</th>\n",
       "      <td>1383838.242</td>\n",
       "      <td>21503.212</td>\n",
       "      <td>1784.012</td>\n",
       "      <td>6327.880</td>\n",
       "      <td>2590683.246</td>\n",
       "      <td>3367884.399</td>\n",
       "      <td>3886020.393</td>\n",
       "      <td>2424058.864</td>\n",
       "      <td>3746972.987</td>\n",
       "      <td>8125.009</td>\n",
       "    </tr>\n",
       "    <tr>\n",
       "      <th>min</th>\n",
       "      <td>0.000</td>\n",
       "      <td>3337.500</td>\n",
       "      <td>31280.000</td>\n",
       "      <td>1165.000</td>\n",
       "      <td>28692638.000</td>\n",
       "      <td>37300438.000</td>\n",
       "      <td>43038963.000</td>\n",
       "      <td>35368174.000</td>\n",
       "      <td>7790475.000</td>\n",
       "      <td>17700.000</td>\n",
       "    </tr>\n",
       "    <tr>\n",
       "      <th>25%</th>\n",
       "      <td>340125.000</td>\n",
       "      <td>17467.500</td>\n",
       "      <td>37450.500</td>\n",
       "      <td>5665.938</td>\n",
       "      <td>33944380.750</td>\n",
       "      <td>44127698.500</td>\n",
       "      <td>50916590.500</td>\n",
       "      <td>37910809.250</td>\n",
       "      <td>10627485.000</td>\n",
       "      <td>19341.250</td>\n",
       "    </tr>\n",
       "    <tr>\n",
       "      <th>50%</th>\n",
       "      <td>1678125.000</td>\n",
       "      <td>32075.625</td>\n",
       "      <td>38664.500</td>\n",
       "      <td>10108.125</td>\n",
       "      <td>35020807.000</td>\n",
       "      <td>45527060.000</td>\n",
       "      <td>52531220.000</td>\n",
       "      <td>38942445.000</td>\n",
       "      <td>14017207.500</td>\n",
       "      <td>23675.000</td>\n",
       "    </tr>\n",
       "    <tr>\n",
       "      <th>75%</th>\n",
       "      <td>2833875.000</td>\n",
       "      <td>47176.875</td>\n",
       "      <td>39180.500</td>\n",
       "      <td>15838.125</td>\n",
       "      <td>36558925.000</td>\n",
       "      <td>47526596.750</td>\n",
       "      <td>54838393.500</td>\n",
       "      <td>40572939.000</td>\n",
       "      <td>16411230.000</td>\n",
       "      <td>31431.250</td>\n",
       "    </tr>\n",
       "    <tr>\n",
       "      <th>max</th>\n",
       "      <td>4149000.000</td>\n",
       "      <td>64327.500</td>\n",
       "      <td>39990.000</td>\n",
       "      <td>21375.000</td>\n",
       "      <td>41105720.000</td>\n",
       "      <td>53437435.000</td>\n",
       "      <td>61658570.000</td>\n",
       "      <td>45421813.000</td>\n",
       "      <td>20327840.000</td>\n",
       "      <td>41025.000</td>\n",
       "    </tr>\n",
       "  </tbody>\n",
       "</table>\n",
       "</div>"
      ],
      "text/plain": [
       "        GRP (OOH)  PPC Spend  Display Spend  email Spend     Visitors  \\\n",
       "count      24.000     24.000         24.000       24.000       24.000   \n",
       "mean  1956083.333  32345.000      38037.333    10443.229 35324450.250   \n",
       "std   1383838.242  21503.212       1784.012     6327.880  2590683.246   \n",
       "min         0.000   3337.500      31280.000     1165.000 28692638.000   \n",
       "25%    340125.000  17467.500      37450.500     5665.938 33944380.750   \n",
       "50%   1678125.000  32075.625      38664.500    10108.125 35020807.000   \n",
       "75%   2833875.000  47176.875      39180.500    15838.125 36558925.000   \n",
       "max   4149000.000  64327.500      39990.000    21375.000 41105720.000   \n",
       "\n",
       "            Visits   Page Views  Visits to competitor sites  \\\n",
       "count       24.000       24.000                      24.000   \n",
       "mean  45921787.458 52986681.083                39422064.500   \n",
       "std    3367884.399  3886020.393                 2424058.864   \n",
       "min   37300438.000 43038963.000                35368174.000   \n",
       "25%   44127698.500 50916590.500                37910809.250   \n",
       "50%   45527060.000 52531220.000                38942445.000   \n",
       "75%   47526596.750 54838393.500                40572939.000   \n",
       "max   53437435.000 61658570.000                45421813.000   \n",
       "\n",
       "       Social Media Mentions     Sales  \n",
       "count                 24.000    24.000  \n",
       "mean            13758738.125 26169.792  \n",
       "std              3746972.987  8125.009  \n",
       "min              7790475.000 17700.000  \n",
       "25%             10627485.000 19341.250  \n",
       "50%             14017207.500 23675.000  \n",
       "75%             16411230.000 31431.250  \n",
       "max             20327840.000 41025.000  "
      ]
     },
     "execution_count": 553,
     "metadata": {},
     "output_type": "execute_result"
    }
   ],
   "source": [
    "df_month_total_revenue.drop(['Month','Year'],axis=1).describe()"
   ]
  },
  {
   "cell_type": "code",
   "execution_count": 552,
   "metadata": {
    "collapsed": true
   },
   "outputs": [
    {
     "data": {
      "text/plain": [
       "array([[<matplotlib.axes._subplots.AxesSubplot object at 0x110f9a410>,\n",
       "        <matplotlib.axes._subplots.AxesSubplot object at 0x111376410>,\n",
       "        <matplotlib.axes._subplots.AxesSubplot object at 0x1113efb10>],\n",
       "       [<matplotlib.axes._subplots.AxesSubplot object at 0x11145f0d0>,\n",
       "        <matplotlib.axes._subplots.AxesSubplot object at 0x1114e1390>,\n",
       "        <matplotlib.axes._subplots.AxesSubplot object at 0x111547e10>],\n",
       "       [<matplotlib.axes._subplots.AxesSubplot object at 0x1115d9210>,\n",
       "        <matplotlib.axes._subplots.AxesSubplot object at 0x111561a10>,\n",
       "        <matplotlib.axes._subplots.AxesSubplot object at 0x1116cf210>],\n",
       "       [<matplotlib.axes._subplots.AxesSubplot object at 0x1116ffdd0>,\n",
       "        <matplotlib.axes._subplots.AxesSubplot object at 0x1117bd610>,\n",
       "        <matplotlib.axes._subplots.AxesSubplot object at 0x111853750>]],\n",
       "      dtype=object)"
      ]
     },
     "execution_count": 552,
     "metadata": {},
     "output_type": "execute_result"
    },
    {
     "data": {
      "image/png": "[encoded data removed]",
      "text/plain": [
       "<matplotlib.figure.Figure at 0x110fc3e50>"
      ]
     },
     "metadata": {},
     "output_type": "display_data"
    }
   ],
   "source": [
    "df_month_total_revenue.drop(['Year','Month'],axis=1).hist(figsize=(14,12))"
   ]
  },
  {
   "cell_type": "code",
   "execution_count": 555,
   "metadata": {
    "collapsed": true
   },
   "outputs": [
    {
     "data": {
      "text/plain": [
       "GRP (OOH)                         Axes(0.125,0.71587;0.227941x0.16413)\n",
       "PPC Spend                      Axes(0.398529,0.71587;0.227941x0.16413)\n",
       "Display Spend                  Axes(0.672059,0.71587;0.227941x0.16413)\n",
       "email Spend                      Axes(0.125,0.518913;0.227941x0.16413)\n",
       "Visitors                      Axes(0.398529,0.518913;0.227941x0.16413)\n",
       "Visits                        Axes(0.672059,0.518913;0.227941x0.16413)\n",
       "Page Views                       Axes(0.125,0.321957;0.227941x0.16413)\n",
       "Visits to competitor sites    Axes(0.398529,0.321957;0.227941x0.16413)\n",
       "Social Media Mentions         Axes(0.672059,0.321957;0.227941x0.16413)\n",
       "Sales                               Axes(0.125,0.125;0.227941x0.16413)\n",
       "dtype: object"
      ]
     },
     "execution_count": 555,
     "metadata": {},
     "output_type": "execute_result"
    },
    {
     "data": {
      "image/png": "[encoded data removed]",
      "text/plain": [
       "<matplotlib.figure.Figure at 0x1116e8790>"
      ]
     },
     "metadata": {},
     "output_type": "display_data"
    }
   ],
   "source": [
    "df_month_total_revenue.drop(['Year','Month'],axis=1).plot(kind='box', subplots=True, layout=(4,3), sharex=False, sharey=False,figsize=(15,15))"
   ]
  },
  {
   "cell_type": "code",
   "execution_count": 557,
   "metadata": {
    "collapsed": true
   },
   "outputs": [
    {
     "data": {
      "text/plain": [
       "PPC Spend                     0.934\n",
       "email Spend                   0.910\n",
       "Page Views                    0.784\n",
       "Visitors                      0.784\n",
       "Visits                        0.784\n",
       "Visits to competitor sites    0.767\n",
       "GRP (OOH)                     0.562\n",
       "Year                          0.005\n",
       "Display Spend                -0.120\n",
       "Social Media Mentions        -0.152\n",
       "Month                        -0.504\n",
       "Name: Sales, dtype: float64"
      ]
     },
     "execution_count": 557,
     "metadata": {},
     "output_type": "execute_result"
    }
   ],
   "source": [
    "df_month_total_revenue.corr(method='pearson')['Sales'].sort_values(ascending=False).drop(['Sales'])"
   ]
  },
  {
   "cell_type": "markdown",
   "metadata": {},
   "source": [
    "There appears to be strong multicollinearity, since many predictors are positively correlated with one another."
   ]
  },
  {
   "cell_type": "code",
   "execution_count": 560,
   "metadata": {
    "collapsed": false,
    "scrolled": false
   },
   "outputs": [
    {
     "data": {
      "image/png": "[encoded data removed]",
      "text/plain": [
       "<matplotlib.figure.Figure at 0x1144b2ed0>"
      ]
     },
     "metadata": {},
     "output_type": "display_data"
    },
    {
     "data": {
      "text/plain": [
       "<matplotlib.axes._subplots.AxesSubplot at 0x1144804d0>"
      ]
     },
     "execution_count": 560,
     "metadata": {},
     "output_type": "execute_result"
    }
   ],
   "source": [
    "sns.set(style=\"white\") #this whites out the upper-right section of the matrix\n",
    "corrmat(df_month_total_revenue.corr(method='pearson'),annotate=False)\n",
    "#set annotate = True to show correlation values"
   ]
  },
  {
   "cell_type": "markdown",
   "metadata": {},
   "source": [
    "## Feature Importances - Predicting Monthly Revenue"
   ]
  },
  {
   "cell_type": "code",
   "execution_count": 9,
   "metadata": {
    "collapsed": true
   },
   "outputs": [
    {
     "data": {
      "text/plain": [
       "RandomForestRegressor(bootstrap=True, criterion='mse', max_depth=None,\n",
       "           max_features='auto', max_leaf_nodes=None,\n",
       "           min_impurity_decrease=0.0, min_impurity_split=None,\n",
       "           min_samples_leaf=1, min_samples_split=2,\n",
       "           min_weight_fraction_leaf=0.0, n_estimators=10, n_jobs=1,\n",
       "           oob_score=False, random_state=0, verbose=0, warm_start=False)"
      ]
     },
     "execution_count": 9,
     "metadata": {},
     "output_type": "execute_result"
    },
    {
     "data": {
      "text/plain": [
       "<matplotlib.figure.Figure at 0x119db04d0>"
      ]
     },
     "execution_count": 9,
     "metadata": {},
     "output_type": "execute_result"
    },
    {
     "data": {
      "text/plain": [
       "<Container object of 11 artists>"
      ]
     },
     "execution_count": 9,
     "metadata": {},
     "output_type": "execute_result"
    },
    {
     "data": {
      "text/plain": [
       "([<matplotlib.axis.XTick at 0x11a09c710>,\n",
       "  <matplotlib.axis.XTick at 0x119f6d290>,\n",
       "  <matplotlib.axis.XTick at 0x11a823a50>,\n",
       "  <matplotlib.axis.XTick at 0x11b3d7890>,\n",
       "  <matplotlib.axis.XTick at 0x11b3d7fd0>,\n",
       "  <matplotlib.axis.XTick at 0x11b3e5750>,\n",
       "  <matplotlib.axis.XTick at 0x11b3e5e90>,\n",
       "  <matplotlib.axis.XTick at 0x11b3ef5d0>,\n",
       "  <matplotlib.axis.XTick at 0x11b3efd10>,\n",
       "  <matplotlib.axis.XTick at 0x11b3fb490>,\n",
       "  <matplotlib.axis.XTick at 0x11b3fbbd0>],\n",
       " <a list of 11 Text xticklabel objects>)"
      ]
     },
     "execution_count": 9,
     "metadata": {},
     "output_type": "execute_result"
    },
    {
     "data": {
      "text/plain": [
       "<matplotlib.text.Text at 0x119e536d0>"
      ]
     },
     "execution_count": 9,
     "metadata": {},
     "output_type": "execute_result"
    },
    {
     "data": {
      "text/plain": [
       "<matplotlib.text.Text at 0x11a620c50>"
      ]
     },
     "execution_count": 9,
     "metadata": {},
     "output_type": "execute_result"
    },
    {
     "data": {
      "text/plain": [
       "<matplotlib.text.Text at 0x11a2a2a10>"
      ]
     },
     "execution_count": 9,
     "metadata": {},
     "output_type": "execute_result"
    },
    {
     "data": {
      "text/plain": [
       "RandomForestRegressor(bootstrap=True, criterion='mse', max_depth=None,\n",
       "           max_features='auto', max_leaf_nodes=None,\n",
       "           min_impurity_decrease=0.0, min_impurity_split=None,\n",
       "           min_samples_leaf=1, min_samples_split=2,\n",
       "           min_weight_fraction_leaf=0.0, n_estimators=10, n_jobs=1,\n",
       "           oob_score=False, random_state=0, verbose=0, warm_start=False)"
      ]
     },
     "execution_count": 9,
     "metadata": {},
     "output_type": "execute_result"
    },
    {
     "data": {
      "text/plain": [
       "<matplotlib.figure.Figure at 0x11b3fb8d0>"
      ]
     },
     "execution_count": 9,
     "metadata": {},
     "output_type": "execute_result"
    },
    {
     "data": {
      "text/plain": [
       "<Container object of 11 artists>"
      ]
     },
     "execution_count": 9,
     "metadata": {},
     "output_type": "execute_result"
    },
    {
     "data": {
      "text/plain": [
       "([<matplotlib.axis.XTick at 0x11b6ca710>,\n",
       "  <matplotlib.axis.XTick at 0x11b6d4f90>,\n",
       "  <matplotlib.axis.XTick at 0x11b6fc890>,\n",
       "  <matplotlib.axis.XTick at 0x11b73d910>,\n",
       "  <matplotlib.axis.XTick at 0x11b74b090>,\n",
       "  <matplotlib.axis.XTick at 0x11b74b7d0>,\n",
       "  <matplotlib.axis.XTick at 0x11b74bf10>,\n",
       "  <matplotlib.axis.XTick at 0x11b754750>,\n",
       "  <matplotlib.axis.XTick at 0x11b754e10>,\n",
       "  <matplotlib.axis.XTick at 0x11b760510>,\n",
       "  <matplotlib.axis.XTick at 0x11b760c50>],\n",
       " <a list of 11 Text xticklabel objects>)"
      ]
     },
     "execution_count": 9,
     "metadata": {},
     "output_type": "execute_result"
    },
    {
     "data": {
      "text/plain": [
       "<matplotlib.text.Text at 0x11a7c6290>"
      ]
     },
     "execution_count": 9,
     "metadata": {},
     "output_type": "execute_result"
    },
    {
     "data": {
      "text/plain": [
       "<matplotlib.text.Text at 0x11a7ee9d0>"
      ]
     },
     "execution_count": 9,
     "metadata": {},
     "output_type": "execute_result"
    },
    {
     "data": {
      "text/plain": [
       "<matplotlib.text.Text at 0x11a7d7710>"
      ]
     },
     "execution_count": 9,
     "metadata": {},
     "output_type": "execute_result"
    },
    {
     "data": {
      "text/plain": [
       "RandomForestRegressor(bootstrap=True, criterion='mse', max_depth=None,\n",
       "           max_features='auto', max_leaf_nodes=None,\n",
       "           min_impurity_decrease=0.0, min_impurity_split=None,\n",
       "           min_samples_leaf=1, min_samples_split=2,\n",
       "           min_weight_fraction_leaf=0.0, n_estimators=10, n_jobs=1,\n",
       "           oob_score=False, random_state=0, verbose=0, warm_start=False)"
      ]
     },
     "execution_count": 9,
     "metadata": {},
     "output_type": "execute_result"
    },
    {
     "data": {
      "text/plain": [
       "<matplotlib.figure.Figure at 0x11b754050>"
      ]
     },
     "execution_count": 9,
     "metadata": {},
     "output_type": "execute_result"
    },
    {
     "data": {
      "text/plain": [
       "<Container object of 11 artists>"
      ]
     },
     "execution_count": 9,
     "metadata": {},
     "output_type": "execute_result"
    },
    {
     "data": {
      "text/plain": [
       "([<matplotlib.axis.XTick at 0x11b7993d0>,\n",
       "  <matplotlib.axis.XTick at 0x11b799d10>,\n",
       "  <matplotlib.axis.XTick at 0x11b7e1710>,\n",
       "  <matplotlib.axis.XTick at 0x11b824750>,\n",
       "  <matplotlib.axis.XTick at 0x11b824e90>,\n",
       "  <matplotlib.axis.XTick at 0x11b830610>,\n",
       "  <matplotlib.axis.XTick at 0x11b830d50>,\n",
       "  <matplotlib.axis.XTick at 0x11b83b4d0>,\n",
       "  <matplotlib.axis.XTick at 0x11b83bc10>,\n",
       "  <matplotlib.axis.XTick at 0x11b846390>,\n",
       "  <matplotlib.axis.XTick at 0x11b846ad0>],\n",
       " <a list of 11 Text xticklabel objects>)"
      ]
     },
     "execution_count": 9,
     "metadata": {},
     "output_type": "execute_result"
    },
    {
     "data": {
      "text/plain": [
       "<matplotlib.text.Text at 0x11b7864d0>"
      ]
     },
     "execution_count": 9,
     "metadata": {},
     "output_type": "execute_result"
    },
    {
     "data": {
      "text/plain": [
       "<matplotlib.text.Text at 0x11b3fbc90>"
      ]
     },
     "execution_count": 9,
     "metadata": {},
     "output_type": "execute_result"
    },
    {
     "data": {
      "text/plain": [
       "<matplotlib.text.Text at 0x11b7ae890>"
      ]
     },
     "execution_count": 9,
     "metadata": {},
     "output_type": "execute_result"
    },
    {
     "data": {
      "image/png": "[encoded data removed]",
      "text/plain": [
       "<matplotlib.figure.Figure at 0x119db04d0>"
      ]
     },
     "metadata": {},
     "output_type": "display_data"
    },
    {
     "data": {
      "image/png": "[encoded data removed]",
      "text/plain": [
       "<matplotlib.figure.Figure at 0x11b3fb8d0>"
      ]
     },
     "metadata": {},
     "output_type": "display_data"
    },
    {
     "data": {
      "image/png": "[encoded data removed]",
      "text/plain": [
       "<matplotlib.figure.Figure at 0x11b754050>"
      ]
     },
     "metadata": {},
     "output_type": "display_data"
    }
   ],
   "source": [
    "from sklearn.model_selection import TimeSeriesSplit\n",
    "x=df_month_total_revenue.drop('Sales',axis=1)\n",
    "y=df_month_total_revenue.iloc[:,-1]\n",
    "\n",
    "feature_names = x.columns.values\n",
    "tss=TimeSeriesSplit(n_splits=3, max_train_size=None)\n",
    "rf = RandomForestRegressor(random_state=0)\n",
    "count = 1\n",
    "\n",
    "# test data is not needed for fitting\n",
    "for train, _ in tss.split(x, y):\n",
    "    rf.fit(x.iloc[train, :], y[train])\n",
    "    # sort the feature index by importance score in descending order\n",
    "    importances_index_desc = np.argsort(rf.feature_importances_)[::-1]\n",
    "    feature_labels = [feature_names[-i] for i in importances_index_desc]\n",
    "    x_index = np.arange(len(feature_labels))\n",
    "\n",
    "    # plot\n",
    "    plt.figure()\n",
    "    plt.bar(x_index,rf.feature_importances_[importances_index_desc])\n",
    "    plt.xticks(x_index, feature_labels, rotation='vertical')\n",
    "    plt.ylabel('Importance')\n",
    "    plt.xlabel('Features')\n",
    "    plt.title('Fold {}'.format(count))\n",
    "    count = count + 1\n",
    "plt.show()"
   ]
  },
  {
   "cell_type": "markdown",
   "metadata": {},
   "source": [
    "## Feature Importances - Scaled - Predicting Monthly Revenue"
   ]
  },
  {
   "cell_type": "code",
   "execution_count": 10,
   "metadata": {
    "collapsed": true
   },
   "outputs": [
    {
     "data": {
      "text/plain": [
       "RandomForestRegressor(bootstrap=True, criterion='mse', max_depth=None,\n",
       "           max_features='auto', max_leaf_nodes=None,\n",
       "           min_impurity_decrease=0.0, min_impurity_split=None,\n",
       "           min_samples_leaf=1, min_samples_split=2,\n",
       "           min_weight_fraction_leaf=0.0, n_estimators=10, n_jobs=1,\n",
       "           oob_score=False, random_state=0, verbose=0, warm_start=False)"
      ]
     },
     "execution_count": 10,
     "metadata": {},
     "output_type": "execute_result"
    },
    {
     "data": {
      "text/plain": [
       "<matplotlib.figure.Figure at 0x11b33d610>"
      ]
     },
     "execution_count": 10,
     "metadata": {},
     "output_type": "execute_result"
    },
    {
     "data": {
      "text/plain": [
       "<Container object of 11 artists>"
      ]
     },
     "execution_count": 10,
     "metadata": {},
     "output_type": "execute_result"
    },
    {
     "data": {
      "text/plain": [
       "([<matplotlib.axis.XTick at 0x11b760290>,\n",
       "  <matplotlib.axis.XTick at 0x11b790e10>,\n",
       "  <matplotlib.axis.XTick at 0x111a5e550>,\n",
       "  <matplotlib.axis.XTick at 0x11b3fba10>,\n",
       "  <matplotlib.axis.XTick at 0x11b852b50>,\n",
       "  <matplotlib.axis.XTick at 0x11b83bf10>,\n",
       "  <matplotlib.axis.XTick at 0x119e53b10>,\n",
       "  <matplotlib.axis.XTick at 0x119e53350>,\n",
       "  <matplotlib.axis.XTick at 0x11b865390>,\n",
       "  <matplotlib.axis.XTick at 0x11b865190>,\n",
       "  <matplotlib.axis.XTick at 0x11b879850>],\n",
       " <a list of 11 Text xticklabel objects>)"
      ]
     },
     "execution_count": 10,
     "metadata": {},
     "output_type": "execute_result"
    },
    {
     "data": {
      "text/plain": [
       "<matplotlib.text.Text at 0x11b6d4050>"
      ]
     },
     "execution_count": 10,
     "metadata": {},
     "output_type": "execute_result"
    },
    {
     "data": {
      "text/plain": [
       "<matplotlib.text.Text at 0x11b754110>"
      ]
     },
     "execution_count": 10,
     "metadata": {},
     "output_type": "execute_result"
    },
    {
     "data": {
      "text/plain": [
       "<matplotlib.text.Text at 0x11a7e5f50>"
      ]
     },
     "execution_count": 10,
     "metadata": {},
     "output_type": "execute_result"
    },
    {
     "data": {
      "text/plain": [
       "RandomForestRegressor(bootstrap=True, criterion='mse', max_depth=None,\n",
       "           max_features='auto', max_leaf_nodes=None,\n",
       "           min_impurity_decrease=0.0, min_impurity_split=None,\n",
       "           min_samples_leaf=1, min_samples_split=2,\n",
       "           min_weight_fraction_leaf=0.0, n_estimators=10, n_jobs=1,\n",
       "           oob_score=False, random_state=0, verbose=0, warm_start=False)"
      ]
     },
     "execution_count": 10,
     "metadata": {},
     "output_type": "execute_result"
    },
    {
     "data": {
      "text/plain": [
       "<matplotlib.figure.Figure at 0x11b879fd0>"
      ]
     },
     "execution_count": 10,
     "metadata": {},
     "output_type": "execute_result"
    },
    {
     "data": {
      "text/plain": [
       "<Container object of 11 artists>"
      ]
     },
     "execution_count": 10,
     "metadata": {},
     "output_type": "execute_result"
    },
    {
     "data": {
      "text/plain": [
       "([<matplotlib.axis.XTick at 0x11aaec390>,\n",
       "  <matplotlib.axis.XTick at 0x11aaec750>,\n",
       "  <matplotlib.axis.XTick at 0x11a85e850>,\n",
       "  <matplotlib.axis.XTick at 0x119e5ef50>,\n",
       "  <matplotlib.axis.XTick at 0x11a8c1fd0>,\n",
       "  <matplotlib.axis.XTick at 0x11a8c1710>,\n",
       "  <matplotlib.axis.XTick at 0x119f80350>,\n",
       "  <matplotlib.axis.XTick at 0x11a2e5d50>,\n",
       "  <matplotlib.axis.XTick at 0x119e7c6d0>,\n",
       "  <matplotlib.axis.XTick at 0x119e7ced0>,\n",
       "  <matplotlib.axis.XTick at 0x11a94bc50>],\n",
       " <a list of 11 Text xticklabel objects>)"
      ]
     },
     "execution_count": 10,
     "metadata": {},
     "output_type": "execute_result"
    },
    {
     "data": {
      "text/plain": [
       "<matplotlib.text.Text at 0x119f5ad50>"
      ]
     },
     "execution_count": 10,
     "metadata": {},
     "output_type": "execute_result"
    },
    {
     "data": {
      "text/plain": [
       "<matplotlib.text.Text at 0x11a640f50>"
      ]
     },
     "execution_count": 10,
     "metadata": {},
     "output_type": "execute_result"
    },
    {
     "data": {
      "text/plain": [
       "<matplotlib.text.Text at 0x11a6403d0>"
      ]
     },
     "execution_count": 10,
     "metadata": {},
     "output_type": "execute_result"
    },
    {
     "data": {
      "text/plain": [
       "RandomForestRegressor(bootstrap=True, criterion='mse', max_depth=None,\n",
       "           max_features='auto', max_leaf_nodes=None,\n",
       "           min_impurity_decrease=0.0, min_impurity_split=None,\n",
       "           min_samples_leaf=1, min_samples_split=2,\n",
       "           min_weight_fraction_leaf=0.0, n_estimators=10, n_jobs=1,\n",
       "           oob_score=False, random_state=0, verbose=0, warm_start=False)"
      ]
     },
     "execution_count": 10,
     "metadata": {},
     "output_type": "execute_result"
    },
    {
     "data": {
      "text/plain": [
       "<matplotlib.figure.Figure at 0x11a30a8d0>"
      ]
     },
     "execution_count": 10,
     "metadata": {},
     "output_type": "execute_result"
    },
    {
     "data": {
      "text/plain": [
       "<Container object of 11 artists>"
      ]
     },
     "execution_count": 10,
     "metadata": {},
     "output_type": "execute_result"
    },
    {
     "data": {
      "text/plain": [
       "([<matplotlib.axis.XTick at 0x119f06a90>,\n",
       "  <matplotlib.axis.XTick at 0x11a923bd0>,\n",
       "  <matplotlib.axis.XTick at 0x11a96ee50>,\n",
       "  <matplotlib.axis.XTick at 0x119eb0450>,\n",
       "  <matplotlib.axis.XTick at 0x119eb0050>,\n",
       "  <matplotlib.axis.XTick at 0x119e9a0d0>,\n",
       "  <matplotlib.axis.XTick at 0x119e9ac90>,\n",
       "  <matplotlib.axis.XTick at 0x119db0d90>,\n",
       "  <matplotlib.axis.XTick at 0x119db0ed0>,\n",
       "  <matplotlib.axis.XTick at 0x11a8a6990>,\n",
       "  <matplotlib.axis.XTick at 0x11ac3ec10>],\n",
       " <a list of 11 Text xticklabel objects>)"
      ]
     },
     "execution_count": 10,
     "metadata": {},
     "output_type": "execute_result"
    },
    {
     "data": {
      "text/plain": [
       "<matplotlib.text.Text at 0x119f06b10>"
      ]
     },
     "execution_count": 10,
     "metadata": {},
     "output_type": "execute_result"
    },
    {
     "data": {
      "text/plain": [
       "<matplotlib.text.Text at 0x11b879d90>"
      ]
     },
     "execution_count": 10,
     "metadata": {},
     "output_type": "execute_result"
    },
    {
     "data": {
      "text/plain": [
       "<matplotlib.text.Text at 0x11a92d2d0>"
      ]
     },
     "execution_count": 10,
     "metadata": {},
     "output_type": "execute_result"
    },
    {
     "data": {
      "image/png": "[encoded data removed]",
      "text/plain": [
       "<matplotlib.figure.Figure at 0x11b33d610>"
      ]
     },
     "metadata": {},
     "output_type": "display_data"
    },
    {
     "data": {
      "image/png": "[encoded data removed]",
      "text/plain": [
       "<matplotlib.figure.Figure at 0x11b879fd0>"
      ]
     },
     "metadata": {},
     "output_type": "display_data"
    },
    {
     "data": {
      "image/png": "[encoded data removed]",
      "text/plain": [
       "<matplotlib.figure.Figure at 0x11a30a8d0>"
      ]
     },
     "metadata": {},
     "output_type": "display_data"
    }
   ],
   "source": [
    "from sklearn.model_selection import TimeSeriesSplit\n",
    "x=df_month_total_revenue.drop('Sales',axis=1)\n",
    "y=df_month_total_revenue.iloc[:,-1]\n",
    "\n",
    "scaler = MinMaxScaler()\n",
    "feature_names = x.columns.values\n",
    "tss=TimeSeriesSplit(n_splits=3, max_train_size=None)\n",
    "rf = RandomForestRegressor(random_state=0)\n",
    "count = 1\n",
    "\n",
    "# test data is not needed for fitting\n",
    "for train, _ in tss.split(x, y):\n",
    "    x_train_scaled = pd.DataFrame(scaler.fit_transform(x.iloc[train, :]), columns = feature_names )\n",
    "    rf.fit(x_train_scaled, y[train])\n",
    "    # sort the feature index by importance score in descending order\n",
    "    importances_index_desc = np.argsort(rf.feature_importances_)[::-1]\n",
    "    feature_labels = [feature_names[-i] for i in importances_index_desc]\n",
    "    x_index = np.arange(len(feature_labels))\n",
    "\n",
    "    # plot\n",
    "    plt.figure()\n",
    "    plt.bar(x_index,rf.feature_importances_[importances_index_desc])\n",
    "    plt.xticks(x_index, feature_labels, rotation='vertical')\n",
    "    plt.ylabel('Importance')\n",
    "    plt.xlabel('Features')\n",
    "    plt.title('Fold {}'.format(count))\n",
    "    count = count + 1\n",
    "plt.show()"
   ]
  },
  {
   "cell_type": "markdown",
   "metadata": {},
   "source": [
    "## Linear Regression - Predicting Monthly Revenue"
   ]
  },
  {
   "cell_type": "markdown",
   "metadata": {},
   "source": [
    "Warning errors likely due to strong multicollinearity make me worried here.  "
   ]
  },
  {
   "cell_type": "code",
   "execution_count": null,
   "metadata": {
    "collapsed": true
   },
   "outputs": [],
   "source": [
    "import statsmodels.api as sm\n",
    "from statsmodels.formula.api import ols\n",
    "\n",
    "clf_lr  = LinearRegression()\n",
    "clf_lr.fit(X_train, y_train)\n",
    "y_pred = clf_lr.predict(X_test)\n",
    "rmse(y_test,y_pred)"
   ]
  },
  {
   "cell_type": "code",
   "execution_count": 645,
   "metadata": {
    "collapsed": true
   },
   "outputs": [
    {
     "name": "stdout",
     "output_type": "stream",
     "text": [
      "                            OLS Regression Results                            \n",
      "==============================================================================\n",
      "Dep. Variable:                y_train   R-squared:                       1.000\n",
      "Model:                            OLS   Adj. R-squared:                    nan\n",
      "Method:                 Least Squares   F-statistic:                     0.000\n",
      "Date:                Tue, 27 Nov 2018   Prob (F-statistic):                nan\n",
      "Time:                        15:22:57   Log-Likelihood:                 87.418\n",
      "No. Observations:                   6   AIC:                            -162.8\n",
      "Df Residuals:                       0   BIC:                            -164.1\n",
      "Df Model:                           5                                         \n",
      "Covariance Type:            nonrobust                                         \n",
      "===============================================================================\n",
      "                  coef    std err          t      P>|t|      [0.025      0.975]\n",
      "-------------------------------------------------------------------------------\n",
      "Intercept      -0.0037        inf         -0        nan         nan         nan\n",
      "X_train[0]     -0.0033        inf         -0        nan         nan         nan\n",
      "X_train[1]     -7.3299        inf         -0        nan         nan         nan\n",
      "X_train[2]  -9.447e-05        inf         -0        nan         nan         nan\n",
      "X_train[3]     -0.2657        inf         -0        nan         nan         nan\n",
      "X_train[4]      0.2901        inf          0        nan         nan         nan\n",
      "X_train[5]      3.5062        inf          0        nan         nan         nan\n",
      "X_train[6]      0.8820        inf          0        nan         nan         nan\n",
      "X_train[7]      0.0766        inf          0        nan         nan         nan\n",
      "X_train[8]     -0.3876        inf         -0        nan         nan         nan\n",
      "X_train[9]     -0.3636        inf         -0        nan         nan         nan\n",
      "X_train[10]     0.0055        inf          0        nan         nan         nan\n",
      "==============================================================================\n",
      "Omnibus:                          nan   Durbin-Watson:                   0.007\n",
      "Prob(Omnibus):                    nan   Jarque-Bera (JB):                0.870\n",
      "Skew:                           0.576   Prob(JB):                        0.647\n",
      "Kurtosis:                       1.533   Cond. No.                     2.05e+06\n",
      "==============================================================================\n",
      "\n",
      "Warnings:\n",
      "[1] Standard Errors assume that the covariance matrix of the errors is correctly specified.\n",
      "[2] The input rank is higher than the number of observations.\n",
      "[3] The condition number is large, 2.05e+06. This might indicate that there are\n",
      "strong multicollinearity or other numerical problems.\n",
      "                            OLS Regression Results                            \n",
      "==============================================================================\n",
      "Dep. Variable:                y_train   R-squared:                       0.997\n",
      "Model:                            OLS   Adj. R-squared:                  0.966\n",
      "Method:                 Least Squares   F-statistic:                     32.07\n",
      "Date:                Tue, 27 Nov 2018   Prob (F-statistic):              0.137\n",
      "Time:                        15:22:57   Log-Likelihood:                -89.765\n",
      "No. Observations:                  12   AIC:                             201.5\n",
      "Df Residuals:                       1   BIC:                             206.9\n",
      "Df Model:                          10                                         \n",
      "Covariance Type:            nonrobust                                         \n",
      "===============================================================================\n",
      "                  coef    std err          t      P>|t|      [0.025      0.975]\n",
      "-------------------------------------------------------------------------------\n",
      "Intercept      -0.1324      0.042     -3.185      0.194      -0.661       0.396\n",
      "X_train[0]   8.847e+04   2.99e+04      2.958      0.208   -2.92e+05    4.69e+05\n",
      "X_train[1]   -265.9314     83.505     -3.185      0.194   -1326.957     795.094\n",
      "X_train[2]     -0.0076      0.005     -1.643      0.348      -0.067       0.051\n",
      "X_train[3]      4.8943      1.431      3.421      0.181     -13.286      23.075\n",
      "X_train[4]     31.7620     11.052      2.874      0.213    -108.672     172.196\n",
      "X_train[5]     -9.0463      2.389     -3.787      0.164     -39.397      21.304\n",
      "X_train[6]   -727.8370    275.601     -2.641      0.230   -4229.678    2774.004\n",
      "X_train[7]   -775.6998    261.484     -2.967      0.207   -4098.172    2546.772\n",
      "X_train[8]  -2560.2679    996.864     -2.568      0.236   -1.52e+04    1.01e+04\n",
      "X_train[9]   5046.7500   1852.569      2.724      0.224   -1.85e+04    2.86e+04\n",
      "X_train[10]    -0.1543      0.052     -2.969      0.207      -0.814       0.506\n",
      "==============================================================================\n",
      "Omnibus:                        2.070   Durbin-Watson:                   2.150\n",
      "Prob(Omnibus):                  0.355   Jarque-Bera (JB):                1.396\n",
      "Skew:                           0.643   Prob(JB):                        0.498\n",
      "Kurtosis:                       1.934   Cond. No.                     2.96e+21\n",
      "==============================================================================\n",
      "\n",
      "Warnings:\n",
      "[1] Standard Errors assume that the covariance matrix of the errors is correctly specified.\n",
      "[2] The smallest eigenvalue is 1.09e-26. This might indicate that there are\n",
      "strong multicollinearity problems or that the design matrix is singular.\n",
      "                            OLS Regression Results                            \n",
      "==============================================================================\n",
      "Dep. Variable:                y_train   R-squared:                       0.924\n",
      "Model:                            OLS   Adj. R-squared:                  0.784\n",
      "Method:                 Least Squares   F-statistic:                     6.612\n",
      "Date:                Tue, 27 Nov 2018   Prob (F-statistic):             0.0152\n",
      "Time:                        15:22:57   Log-Likelihood:                -165.17\n",
      "No. Observations:                  18   AIC:                             354.3\n",
      "Df Residuals:                       6   BIC:                             365.0\n",
      "Df Model:                          11                                         \n",
      "Covariance Type:            nonrobust                                         \n",
      "===============================================================================\n",
      "                  coef    std err          t      P>|t|      [0.025      0.975]\n",
      "-------------------------------------------------------------------------------\n",
      "Intercept   -3.663e+07   1.23e+08     -0.297      0.776   -3.38e+08    2.65e+08\n",
      "X_train[0]   1336.1166   5280.078      0.253      0.809   -1.16e+04    1.43e+04\n",
      "X_train[1]   1.823e+04   6.13e+04      0.297      0.776   -1.32e+05    1.68e+05\n",
      "X_train[2]      0.0014      0.002      0.589      0.577      -0.004       0.007\n",
      "X_train[3]      0.5161      0.724      0.712      0.503      -1.257       2.289\n",
      "X_train[4]      0.0664      1.408      0.047      0.964      -3.378       3.511\n",
      "X_train[5]     -1.0936      2.383     -0.459      0.662      -6.924       4.737\n",
      "X_train[6]      7.0202    255.206      0.028      0.979    -617.446     631.487\n",
      "X_train[7]    -81.8901    213.762     -0.383      0.715    -604.948     441.168\n",
      "X_train[8]    109.5297    357.404      0.306      0.770    -765.007     984.066\n",
      "X_train[9]    -58.6932    539.294     -0.109      0.917   -1378.298    1260.911\n",
      "X_train[10]    -0.0028      0.009     -0.310      0.767      -0.025       0.019\n",
      "==============================================================================\n",
      "Omnibus:                        0.123   Durbin-Watson:                   1.828\n",
      "Prob(Omnibus):                  0.941   Jarque-Bera (JB):                0.194\n",
      "Skew:                           0.155   Prob(JB):                        0.908\n",
      "Kurtosis:                       2.597   Cond. No.                     1.17e+13\n",
      "==============================================================================\n",
      "\n",
      "Warnings:\n",
      "[1] Standard Errors assume that the covariance matrix of the errors is correctly specified.\n",
      "[2] The condition number is large, 1.17e+13. This might indicate that there are\n",
      "strong multicollinearity or other numerical problems.\n"
     ]
    },
    {
     "name": "stderr",
     "output_type": "stream",
     "text": [
      "/Users/Work/anaconda/lib/python2.7/site-packages/statsmodels/stats/stattools.py:72: ValueWarning: omni_normtest is not valid with less than 8 observations; 6 samples were given.\n",
      "  \"samples were given.\" % int(n), ValueWarning)\n",
      "/Users/Work/anaconda/lib/python2.7/site-packages/statsmodels/regression/linear_model.py:1392: RuntimeWarning: divide by zero encountered in divide\n",
      "  return 1 - np.divide(self.nobs - self.k_constant, self.df_resid) * (1 - self.rsquared)\n",
      "/Users/Work/anaconda/lib/python2.7/site-packages/statsmodels/regression/linear_model.py:1392: RuntimeWarning: invalid value encountered in double_scalars\n",
      "  return 1 - np.divide(self.nobs - self.k_constant, self.df_resid) * (1 - self.rsquared)\n",
      "/Users/Work/anaconda/lib/python2.7/site-packages/statsmodels/regression/linear_model.py:1400: RuntimeWarning: divide by zero encountered in double_scalars\n",
      "  return self.ssr/self.df_resid\n",
      "/Users/Work/anaconda/lib/python2.7/site-packages/statsmodels/regression/linear_model.py:1353: RuntimeWarning: divide by zero encountered in double_scalars\n",
      "  return np.dot(wresid, wresid) / self.df_resid\n",
      "/Users/Work/anaconda/lib/python2.7/site-packages/scipy/stats/stats.py:1334: UserWarning: kurtosistest only valid for n>=20 ... continuing anyway, n=12\n",
      "  \"anyway, n=%i\" % int(n))\n",
      "/Users/Work/anaconda/lib/python2.7/site-packages/scipy/stats/stats.py:1334: UserWarning: kurtosistest only valid for n>=20 ... continuing anyway, n=18\n",
      "  \"anyway, n=%i\" % int(n))\n"
     ]
    }
   ],
   "source": [
    "from sklearn.model_selection import TimeSeriesSplit\n",
    "x=df_month_total_revenue.drop('Sales',axis=1)\n",
    "y=df_month_total_revenue.iloc[:,-1]\n",
    "\n",
    "feature_names = x.columns.values\n",
    "x_index = np.arange(len(feature_labels))\n",
    "tss=TimeSeriesSplit(n_splits=3, max_train_size=None)\n",
    "lr = LinearRegression()\n",
    "\n",
    "# test data is not needed for fitting\n",
    "for train, _ in tss.split(x, y):\n",
    "    X_train = x.iloc[train, :]\n",
    "    y_train = y[train]\n",
    "    m = ols('y_train ~ X_train', X_train).fit()\n",
    "    print m.summary()"
   ]
  },
  {
   "cell_type": "markdown",
   "metadata": {},
   "source": [
    "# Working with Bi-Monthly Total Revenue as the Outcome"
   ]
  },
  {
   "cell_type": "code",
   "execution_count": 716,
   "metadata": {
    "collapsed": true
   },
   "outputs": [],
   "source": [
    "pickle.dump(df_bi_month_total_revenue, open('mm_bi_df_month_total_revenue.sav', 'wb'))"
   ]
  },
  {
   "cell_type": "code",
   "execution_count": 92,
   "metadata": {
    "collapsed": false,
    "scrolled": true
   },
   "outputs": [
    {
     "data": {
      "text/html": [
       "<div>\n",
       "<style scoped>\n",
       "    .dataframe tbody tr th:only-of-type {\n",
       "        vertical-align: middle;\n",
       "    }\n",
       "\n",
       "    .dataframe tbody tr th {\n",
       "        vertical-align: top;\n",
       "    }\n",
       "\n",
       "    .dataframe thead th {\n",
       "        text-align: right;\n",
       "    }\n",
       "</style>\n",
       "<table border=\"1\" class=\"dataframe\">\n",
       "  <thead>\n",
       "    <tr style=\"text-align: right;\">\n",
       "      <th></th>\n",
       "      <th>Bi_Month</th>\n",
       "      <th>Month</th>\n",
       "      <th>Year</th>\n",
       "      <th>GRP (OOH)</th>\n",
       "      <th>PPC Spend</th>\n",
       "      <th>Display Spend</th>\n",
       "      <th>email Spend</th>\n",
       "      <th>Visitors</th>\n",
       "      <th>Visits</th>\n",
       "      <th>Page Views</th>\n",
       "      <th>Visits to competitor sites</th>\n",
       "      <th>Social Media Mentions</th>\n",
       "      <th>Sales</th>\n",
       "    </tr>\n",
       "  </thead>\n",
       "  <tbody>\n",
       "    <tr>\n",
       "      <th>0</th>\n",
       "      <td>1</td>\n",
       "      <td>1</td>\n",
       "      <td>2008</td>\n",
       "      <td>1974000</td>\n",
       "      <td>31860.000</td>\n",
       "      <td>19422</td>\n",
       "      <td>10710.000</td>\n",
       "      <td>19598266</td>\n",
       "      <td>25477739</td>\n",
       "      <td>29397396</td>\n",
       "      <td>21656077</td>\n",
       "      <td>3834055</td>\n",
       "      <td>19500.000</td>\n",
       "    </tr>\n",
       "    <tr>\n",
       "      <th>1</th>\n",
       "      <td>2</td>\n",
       "      <td>1</td>\n",
       "      <td>2008</td>\n",
       "      <td>1984500</td>\n",
       "      <td>32467.500</td>\n",
       "      <td>19819</td>\n",
       "      <td>10665.000</td>\n",
       "      <td>20536053</td>\n",
       "      <td>26696859</td>\n",
       "      <td>30804069</td>\n",
       "      <td>22692332</td>\n",
       "      <td>4194750</td>\n",
       "      <td>21525.000</td>\n",
       "    </tr>\n",
       "    <tr>\n",
       "      <th>2</th>\n",
       "      <td>1</td>\n",
       "      <td>2</td>\n",
       "      <td>2008</td>\n",
       "      <td>1951500</td>\n",
       "      <td>29610.000</td>\n",
       "      <td>18125</td>\n",
       "      <td>9667.500</td>\n",
       "      <td>18842855</td>\n",
       "      <td>24495710</td>\n",
       "      <td>28264292</td>\n",
       "      <td>20821358</td>\n",
       "      <td>4016195</td>\n",
       "      <td>20100.000</td>\n",
       "    </tr>\n",
       "    <tr>\n",
       "      <th>3</th>\n",
       "      <td>2</td>\n",
       "      <td>2</td>\n",
       "      <td>2008</td>\n",
       "      <td>2002500</td>\n",
       "      <td>26910.000</td>\n",
       "      <td>17670</td>\n",
       "      <td>8767.500</td>\n",
       "      <td>17151637</td>\n",
       "      <td>22297128</td>\n",
       "      <td>25727460</td>\n",
       "      <td>18952565</td>\n",
       "      <td>3774280</td>\n",
       "      <td>16300.000</td>\n",
       "    </tr>\n",
       "    <tr>\n",
       "      <th>4</th>\n",
       "      <td>1</td>\n",
       "      <td>3</td>\n",
       "      <td>2008</td>\n",
       "      <td>596000</td>\n",
       "      <td>27765.000</td>\n",
       "      <td>18987</td>\n",
       "      <td>10320.000</td>\n",
       "      <td>16922910</td>\n",
       "      <td>21999789</td>\n",
       "      <td>25384384</td>\n",
       "      <td>18699813</td>\n",
       "      <td>3947970</td>\n",
       "      <td>16450.000</td>\n",
       "    </tr>\n",
       "    <tr>\n",
       "      <th>5</th>\n",
       "      <td>2</td>\n",
       "      <td>3</td>\n",
       "      <td>2008</td>\n",
       "      <td>940500</td>\n",
       "      <td>34402.500</td>\n",
       "      <td>19669</td>\n",
       "      <td>7323.750</td>\n",
       "      <td>20211534</td>\n",
       "      <td>26274987</td>\n",
       "      <td>30317297</td>\n",
       "      <td>22333741</td>\n",
       "      <td>4883475</td>\n",
       "      <td>20875.000</td>\n",
       "    </tr>\n",
       "    <tr>\n",
       "      <th>6</th>\n",
       "      <td>1</td>\n",
       "      <td>4</td>\n",
       "      <td>2008</td>\n",
       "      <td>801250</td>\n",
       "      <td>8940.000</td>\n",
       "      <td>19564</td>\n",
       "      <td>3851.250</td>\n",
       "      <td>15477831</td>\n",
       "      <td>20121182</td>\n",
       "      <td>23216747</td>\n",
       "      <td>17103000</td>\n",
       "      <td>3902115</td>\n",
       "      <td>8240.000</td>\n",
       "    </tr>\n",
       "    <tr>\n",
       "      <th>7</th>\n",
       "      <td>2</td>\n",
       "      <td>4</td>\n",
       "      <td>2008</td>\n",
       "      <td>756000</td>\n",
       "      <td>13065.000</td>\n",
       "      <td>18179</td>\n",
       "      <td>4405.000</td>\n",
       "      <td>19468727</td>\n",
       "      <td>25309354</td>\n",
       "      <td>29203099</td>\n",
       "      <td>21512955</td>\n",
       "      <td>5092215</td>\n",
       "      <td>10620.000</td>\n",
       "    </tr>\n",
       "    <tr>\n",
       "      <th>8</th>\n",
       "      <td>1</td>\n",
       "      <td>5</td>\n",
       "      <td>2008</td>\n",
       "      <td>804000</td>\n",
       "      <td>11925.000</td>\n",
       "      <td>19136</td>\n",
       "      <td>3782.500</td>\n",
       "      <td>16668455</td>\n",
       "      <td>21668997</td>\n",
       "      <td>25002689</td>\n",
       "      <td>18418644</td>\n",
       "      <td>4576095</td>\n",
       "      <td>10270.000</td>\n",
       "    </tr>\n",
       "    <tr>\n",
       "      <th>9</th>\n",
       "      <td>2</td>\n",
       "      <td>5</td>\n",
       "      <td>2008</td>\n",
       "      <td>818750</td>\n",
       "      <td>12476.250</td>\n",
       "      <td>20052</td>\n",
       "      <td>4097.500</td>\n",
       "      <td>17802134</td>\n",
       "      <td>23142772</td>\n",
       "      <td>26703198</td>\n",
       "      <td>19671352</td>\n",
       "      <td>5031705</td>\n",
       "      <td>11140.000</td>\n",
       "    </tr>\n",
       "    <tr>\n",
       "      <th>10</th>\n",
       "      <td>1</td>\n",
       "      <td>6</td>\n",
       "      <td>2008</td>\n",
       "      <td>116500</td>\n",
       "      <td>12060.000</td>\n",
       "      <td>19305</td>\n",
       "      <td>3855.000</td>\n",
       "      <td>17573262</td>\n",
       "      <td>22845240</td>\n",
       "      <td>26359893</td>\n",
       "      <td>19418452</td>\n",
       "      <td>5120595</td>\n",
       "      <td>10040.000</td>\n",
       "    </tr>\n",
       "    <tr>\n",
       "      <th>11</th>\n",
       "      <td>2</td>\n",
       "      <td>6</td>\n",
       "      <td>2008</td>\n",
       "      <td>129750</td>\n",
       "      <td>12120.000</td>\n",
       "      <td>18316</td>\n",
       "      <td>2806.250</td>\n",
       "      <td>16458567</td>\n",
       "      <td>21396135</td>\n",
       "      <td>24687847</td>\n",
       "      <td>18186712</td>\n",
       "      <td>4923600</td>\n",
       "      <td>9885.000</td>\n",
       "    </tr>\n",
       "    <tr>\n",
       "      <th>12</th>\n",
       "      <td>1</td>\n",
       "      <td>7</td>\n",
       "      <td>2008</td>\n",
       "      <td>123750</td>\n",
       "      <td>1796.250</td>\n",
       "      <td>19355</td>\n",
       "      <td>603.750</td>\n",
       "      <td>16062144</td>\n",
       "      <td>20880784</td>\n",
       "      <td>24093218</td>\n",
       "      <td>17748672</td>\n",
       "      <td>4923750</td>\n",
       "      <td>9275.000</td>\n",
       "    </tr>\n",
       "    <tr>\n",
       "      <th>13</th>\n",
       "      <td>2</td>\n",
       "      <td>7</td>\n",
       "      <td>2008</td>\n",
       "      <td>129750</td>\n",
       "      <td>2058.750</td>\n",
       "      <td>19942</td>\n",
       "      <td>731.250</td>\n",
       "      <td>18686565</td>\n",
       "      <td>24292533</td>\n",
       "      <td>28029845</td>\n",
       "      <td>20648650</td>\n",
       "      <td>5898165</td>\n",
       "      <td>10925.000</td>\n",
       "    </tr>\n",
       "    <tr>\n",
       "      <th>14</th>\n",
       "      <td>1</td>\n",
       "      <td>8</td>\n",
       "      <td>2008</td>\n",
       "      <td>130500</td>\n",
       "      <td>1856.250</td>\n",
       "      <td>19087</td>\n",
       "      <td>588.750</td>\n",
       "      <td>16568635</td>\n",
       "      <td>21539229</td>\n",
       "      <td>24852949</td>\n",
       "      <td>18308341</td>\n",
       "      <td>5389335</td>\n",
       "      <td>9375.000</td>\n",
       "    </tr>\n",
       "    <tr>\n",
       "      <th>15</th>\n",
       "      <td>2</td>\n",
       "      <td>8</td>\n",
       "      <td>2008</td>\n",
       "      <td>219000</td>\n",
       "      <td>1946.250</td>\n",
       "      <td>20091</td>\n",
       "      <td>651.250</td>\n",
       "      <td>17831987</td>\n",
       "      <td>23181595</td>\n",
       "      <td>26747989</td>\n",
       "      <td>19704350</td>\n",
       "      <td>5934705</td>\n",
       "      <td>10025.000</td>\n",
       "    </tr>\n",
       "    <tr>\n",
       "      <th>16</th>\n",
       "      <td>1</td>\n",
       "      <td>9</td>\n",
       "      <td>2008</td>\n",
       "      <td>1482500</td>\n",
       "      <td>1957.500</td>\n",
       "      <td>18946</td>\n",
       "      <td>620.000</td>\n",
       "      <td>17735181</td>\n",
       "      <td>23055734</td>\n",
       "      <td>26602770</td>\n",
       "      <td>19597373</td>\n",
       "      <td>6015270</td>\n",
       "      <td>9900.000</td>\n",
       "    </tr>\n",
       "    <tr>\n",
       "      <th>17</th>\n",
       "      <td>2</td>\n",
       "      <td>9</td>\n",
       "      <td>2008</td>\n",
       "      <td>1350000</td>\n",
       "      <td>1687.500</td>\n",
       "      <td>18506</td>\n",
       "      <td>3830.000</td>\n",
       "      <td>15428072</td>\n",
       "      <td>20056492</td>\n",
       "      <td>23142110</td>\n",
       "      <td>17048027</td>\n",
       "      <td>5366625</td>\n",
       "      <td>8450.000</td>\n",
       "    </tr>\n",
       "    <tr>\n",
       "      <th>18</th>\n",
       "      <td>1</td>\n",
       "      <td>10</td>\n",
       "      <td>2008</td>\n",
       "      <td>1378000</td>\n",
       "      <td>22185.000</td>\n",
       "      <td>18758</td>\n",
       "      <td>7077.500</td>\n",
       "      <td>18359384</td>\n",
       "      <td>23867199</td>\n",
       "      <td>27539069</td>\n",
       "      <td>20287118</td>\n",
       "      <td>6255180</td>\n",
       "      <td>13610.000</td>\n",
       "    </tr>\n",
       "    <tr>\n",
       "      <th>19</th>\n",
       "      <td>2</td>\n",
       "      <td>10</td>\n",
       "      <td>2008</td>\n",
       "      <td>1413500</td>\n",
       "      <td>21900.000</td>\n",
       "      <td>19726</td>\n",
       "      <td>7257.500</td>\n",
       "      <td>19086641</td>\n",
       "      <td>24812639</td>\n",
       "      <td>28629959</td>\n",
       "      <td>21090736</td>\n",
       "      <td>6666545</td>\n",
       "      <td>14280.000</td>\n",
       "    </tr>\n",
       "    <tr>\n",
       "      <th>20</th>\n",
       "      <td>1</td>\n",
       "      <td>11</td>\n",
       "      <td>2008</td>\n",
       "      <td>1150500</td>\n",
       "      <td>20670.000</td>\n",
       "      <td>18943</td>\n",
       "      <td>7177.500</td>\n",
       "      <td>18613631</td>\n",
       "      <td>24197725</td>\n",
       "      <td>27920458</td>\n",
       "      <td>20568067</td>\n",
       "      <td>6669855</td>\n",
       "      <td>12940.000</td>\n",
       "    </tr>\n",
       "    <tr>\n",
       "      <th>21</th>\n",
       "      <td>2</td>\n",
       "      <td>11</td>\n",
       "      <td>2008</td>\n",
       "      <td>1475000</td>\n",
       "      <td>20265.000</td>\n",
       "      <td>18308</td>\n",
       "      <td>5845.000</td>\n",
       "      <td>17615274</td>\n",
       "      <td>22899853</td>\n",
       "      <td>26422905</td>\n",
       "      <td>19464876</td>\n",
       "      <td>6464700</td>\n",
       "      <td>13490.000</td>\n",
       "    </tr>\n",
       "    <tr>\n",
       "      <th>22</th>\n",
       "      <td>1</td>\n",
       "      <td>12</td>\n",
       "      <td>2008</td>\n",
       "      <td>1965000</td>\n",
       "      <td>17062.500</td>\n",
       "      <td>18436</td>\n",
       "      <td>5907.500</td>\n",
       "      <td>14801348</td>\n",
       "      <td>19241747</td>\n",
       "      <td>22202019</td>\n",
       "      <td>16355487</td>\n",
       "      <td>5551660</td>\n",
       "      <td>11455.000</td>\n",
       "    </tr>\n",
       "    <tr>\n",
       "      <th>23</th>\n",
       "      <td>2</td>\n",
       "      <td>12</td>\n",
       "      <td>2008</td>\n",
       "      <td>2184000</td>\n",
       "      <td>23257.500</td>\n",
       "      <td>21204</td>\n",
       "      <td>9457.500</td>\n",
       "      <td>20587656</td>\n",
       "      <td>26763951</td>\n",
       "      <td>30881485</td>\n",
       "      <td>22749354</td>\n",
       "      <td>8157500</td>\n",
       "      <td>14905.000</td>\n",
       "    </tr>\n",
       "    <tr>\n",
       "      <th>24</th>\n",
       "      <td>1</td>\n",
       "      <td>1</td>\n",
       "      <td>2009</td>\n",
       "      <td>1708500</td>\n",
       "      <td>29475.000</td>\n",
       "      <td>18814</td>\n",
       "      <td>10080.000</td>\n",
       "      <td>19694415</td>\n",
       "      <td>25602739</td>\n",
       "      <td>29541615</td>\n",
       "      <td>21762322</td>\n",
       "      <td>7344040</td>\n",
       "      <td>20150.000</td>\n",
       "    </tr>\n",
       "    <tr>\n",
       "      <th>25</th>\n",
       "      <td>2</td>\n",
       "      <td>1</td>\n",
       "      <td>2009</td>\n",
       "      <td>2298000</td>\n",
       "      <td>32760.000</td>\n",
       "      <td>20412</td>\n",
       "      <td>7987.500</td>\n",
       "      <td>21411305</td>\n",
       "      <td>27834696</td>\n",
       "      <td>32116955</td>\n",
       "      <td>23659491</td>\n",
       "      <td>8188320</td>\n",
       "      <td>19900.000</td>\n",
       "    </tr>\n",
       "    <tr>\n",
       "      <th>26</th>\n",
       "      <td>1</td>\n",
       "      <td>2</td>\n",
       "      <td>2009</td>\n",
       "      <td>1480500</td>\n",
       "      <td>25627.500</td>\n",
       "      <td>14057</td>\n",
       "      <td>8662.500</td>\n",
       "      <td>16120640</td>\n",
       "      <td>20956830</td>\n",
       "      <td>24180957</td>\n",
       "      <td>17813312</td>\n",
       "      <td>6262200</td>\n",
       "      <td>16825.000</td>\n",
       "    </tr>\n",
       "    <tr>\n",
       "      <th>27</th>\n",
       "      <td>2</td>\n",
       "      <td>2</td>\n",
       "      <td>2009</td>\n",
       "      <td>1750500</td>\n",
       "      <td>30825.000</td>\n",
       "      <td>17223</td>\n",
       "      <td>8595.000</td>\n",
       "      <td>20458931</td>\n",
       "      <td>26596601</td>\n",
       "      <td>30688389</td>\n",
       "      <td>22607114</td>\n",
       "      <td>8063055</td>\n",
       "      <td>20450.000</td>\n",
       "    </tr>\n",
       "    <tr>\n",
       "      <th>28</th>\n",
       "      <td>1</td>\n",
       "      <td>3</td>\n",
       "      <td>2009</td>\n",
       "      <td>729250</td>\n",
       "      <td>28057.500</td>\n",
       "      <td>19420</td>\n",
       "      <td>10125.000</td>\n",
       "      <td>17628439</td>\n",
       "      <td>22916970</td>\n",
       "      <td>26442666</td>\n",
       "      <td>19479425</td>\n",
       "      <td>7316325</td>\n",
       "      <td>18225.000</td>\n",
       "    </tr>\n",
       "    <tr>\n",
       "      <th>29</th>\n",
       "      <td>2</td>\n",
       "      <td>3</td>\n",
       "      <td>2009</td>\n",
       "      <td>997250</td>\n",
       "      <td>31815.000</td>\n",
       "      <td>20570</td>\n",
       "      <td>7752.500</td>\n",
       "      <td>20851808</td>\n",
       "      <td>27107353</td>\n",
       "      <td>31277716</td>\n",
       "      <td>23041252</td>\n",
       "      <td>8841120</td>\n",
       "      <td>21650.000</td>\n",
       "    </tr>\n",
       "    <tr>\n",
       "      <th>30</th>\n",
       "      <td>1</td>\n",
       "      <td>4</td>\n",
       "      <td>2009</td>\n",
       "      <td>885000</td>\n",
       "      <td>10938.750</td>\n",
       "      <td>18064</td>\n",
       "      <td>3793.750</td>\n",
       "      <td>16550823</td>\n",
       "      <td>21516071</td>\n",
       "      <td>24826241</td>\n",
       "      <td>18288664</td>\n",
       "      <td>7224525</td>\n",
       "      <td>9720.000</td>\n",
       "    </tr>\n",
       "    <tr>\n",
       "      <th>31</th>\n",
       "      <td>2</td>\n",
       "      <td>4</td>\n",
       "      <td>2009</td>\n",
       "      <td>744750</td>\n",
       "      <td>14216.250</td>\n",
       "      <td>19559</td>\n",
       "      <td>4912.500</td>\n",
       "      <td>20001220</td>\n",
       "      <td>26001581</td>\n",
       "      <td>30001835</td>\n",
       "      <td>22101357</td>\n",
       "      <td>8932055</td>\n",
       "      <td>10565.000</td>\n",
       "    </tr>\n",
       "    <tr>\n",
       "      <th>32</th>\n",
       "      <td>1</td>\n",
       "      <td>5</td>\n",
       "      <td>2009</td>\n",
       "      <td>737750</td>\n",
       "      <td>13188.750</td>\n",
       "      <td>18135</td>\n",
       "      <td>4306.250</td>\n",
       "      <td>17664437</td>\n",
       "      <td>22963789</td>\n",
       "      <td>26496668</td>\n",
       "      <td>19519210</td>\n",
       "      <td>8173620</td>\n",
       "      <td>10690.000</td>\n",
       "    </tr>\n",
       "    <tr>\n",
       "      <th>33</th>\n",
       "      <td>2</td>\n",
       "      <td>5</td>\n",
       "      <td>2009</td>\n",
       "      <td>778000</td>\n",
       "      <td>12000.000</td>\n",
       "      <td>20658</td>\n",
       "      <td>3792.500</td>\n",
       "      <td>17221628</td>\n",
       "      <td>22388114</td>\n",
       "      <td>25832436</td>\n",
       "      <td>19029900</td>\n",
       "      <td>8115130</td>\n",
       "      <td>11225.000</td>\n",
       "    </tr>\n",
       "    <tr>\n",
       "      <th>34</th>\n",
       "      <td>1</td>\n",
       "      <td>6</td>\n",
       "      <td>2009</td>\n",
       "      <td>114250</td>\n",
       "      <td>11066.250</td>\n",
       "      <td>18862</td>\n",
       "      <td>3657.500</td>\n",
       "      <td>16606711</td>\n",
       "      <td>21588726</td>\n",
       "      <td>24910058</td>\n",
       "      <td>18350408</td>\n",
       "      <td>7945425</td>\n",
       "      <td>9370.000</td>\n",
       "    </tr>\n",
       "    <tr>\n",
       "      <th>35</th>\n",
       "      <td>2</td>\n",
       "      <td>6</td>\n",
       "      <td>2009</td>\n",
       "      <td>120750</td>\n",
       "      <td>11538.750</td>\n",
       "      <td>18283</td>\n",
       "      <td>2413.750</td>\n",
       "      <td>16498304</td>\n",
       "      <td>21447793</td>\n",
       "      <td>24747449</td>\n",
       "      <td>18230626</td>\n",
       "      <td>8018775</td>\n",
       "      <td>9795.000</td>\n",
       "    </tr>\n",
       "    <tr>\n",
       "      <th>36</th>\n",
       "      <td>1</td>\n",
       "      <td>7</td>\n",
       "      <td>2009</td>\n",
       "      <td>123000</td>\n",
       "      <td>1755.000</td>\n",
       "      <td>18659</td>\n",
       "      <td>570.000</td>\n",
       "      <td>13940094</td>\n",
       "      <td>18122119</td>\n",
       "      <td>20910139</td>\n",
       "      <td>19934336</td>\n",
       "      <td>8089770</td>\n",
       "      <td>9000.000</td>\n",
       "    </tr>\n",
       "    <tr>\n",
       "      <th>37</th>\n",
       "      <td>2</td>\n",
       "      <td>7</td>\n",
       "      <td>2009</td>\n",
       "      <td>114750</td>\n",
       "      <td>1901.250</td>\n",
       "      <td>20083</td>\n",
       "      <td>645.000</td>\n",
       "      <td>14752544</td>\n",
       "      <td>19178319</td>\n",
       "      <td>22128824</td>\n",
       "      <td>21096142</td>\n",
       "      <td>8688900</td>\n",
       "      <td>9475.000</td>\n",
       "    </tr>\n",
       "    <tr>\n",
       "      <th>38</th>\n",
       "      <td>1</td>\n",
       "      <td>8</td>\n",
       "      <td>2009</td>\n",
       "      <td>103500</td>\n",
       "      <td>1845.000</td>\n",
       "      <td>18784</td>\n",
       "      <td>573.750</td>\n",
       "      <td>17474207</td>\n",
       "      <td>22716471</td>\n",
       "      <td>26211319</td>\n",
       "      <td>19309002</td>\n",
       "      <td>8986740</td>\n",
       "      <td>9800.000</td>\n",
       "    </tr>\n",
       "    <tr>\n",
       "      <th>39</th>\n",
       "      <td>2</td>\n",
       "      <td>8</td>\n",
       "      <td>2009</td>\n",
       "      <td>208500</td>\n",
       "      <td>1721.250</td>\n",
       "      <td>20261</td>\n",
       "      <td>591.250</td>\n",
       "      <td>15899236</td>\n",
       "      <td>20669008</td>\n",
       "      <td>23848855</td>\n",
       "      <td>17568661</td>\n",
       "      <td>8252460</td>\n",
       "      <td>8775.000</td>\n",
       "    </tr>\n",
       "    <tr>\n",
       "      <th>40</th>\n",
       "      <td>1</td>\n",
       "      <td>9</td>\n",
       "      <td>2009</td>\n",
       "      <td>1440500</td>\n",
       "      <td>1552.500</td>\n",
       "      <td>18989</td>\n",
       "      <td>535.000</td>\n",
       "      <td>15182158</td>\n",
       "      <td>19736805</td>\n",
       "      <td>22773244</td>\n",
       "      <td>16776290</td>\n",
       "      <td>7980075</td>\n",
       "      <td>8300.000</td>\n",
       "    </tr>\n",
       "    <tr>\n",
       "      <th>41</th>\n",
       "      <td>2</td>\n",
       "      <td>9</td>\n",
       "      <td>2009</td>\n",
       "      <td>1067500</td>\n",
       "      <td>1785.000</td>\n",
       "      <td>18457</td>\n",
       "      <td>3910.000</td>\n",
       "      <td>16825237</td>\n",
       "      <td>21872814</td>\n",
       "      <td>25237855</td>\n",
       "      <td>18591884</td>\n",
       "      <td>8927600</td>\n",
       "      <td>9400.000</td>\n",
       "    </tr>\n",
       "    <tr>\n",
       "      <th>42</th>\n",
       "      <td>1</td>\n",
       "      <td>10</td>\n",
       "      <td>2009</td>\n",
       "      <td>1375500</td>\n",
       "      <td>21577.500</td>\n",
       "      <td>18768</td>\n",
       "      <td>6092.500</td>\n",
       "      <td>19633935</td>\n",
       "      <td>25524112</td>\n",
       "      <td>29450908</td>\n",
       "      <td>21695499</td>\n",
       "      <td>10424980</td>\n",
       "      <td>13945.000</td>\n",
       "    </tr>\n",
       "    <tr>\n",
       "      <th>43</th>\n",
       "      <td>2</td>\n",
       "      <td>10</td>\n",
       "      <td>2009</td>\n",
       "      <td>1462500</td>\n",
       "      <td>17385.000</td>\n",
       "      <td>19905</td>\n",
       "      <td>6562.500</td>\n",
       "      <td>15461121</td>\n",
       "      <td>20099472</td>\n",
       "      <td>23191686</td>\n",
       "      <td>17084550</td>\n",
       "      <td>8161095</td>\n",
       "      <td>11490.000</td>\n",
       "    </tr>\n",
       "    <tr>\n",
       "      <th>44</th>\n",
       "      <td>1</td>\n",
       "      <td>11</td>\n",
       "      <td>2009</td>\n",
       "      <td>1357000</td>\n",
       "      <td>20632.500</td>\n",
       "      <td>18310</td>\n",
       "      <td>6827.500</td>\n",
       "      <td>17552528</td>\n",
       "      <td>22818279</td>\n",
       "      <td>26328786</td>\n",
       "      <td>19395538</td>\n",
       "      <td>9316400</td>\n",
       "      <td>13335.000</td>\n",
       "    </tr>\n",
       "    <tr>\n",
       "      <th>45</th>\n",
       "      <td>2</td>\n",
       "      <td>11</td>\n",
       "      <td>2009</td>\n",
       "      <td>1472000</td>\n",
       "      <td>20580.000</td>\n",
       "      <td>18116</td>\n",
       "      <td>6742.500</td>\n",
       "      <td>18586300</td>\n",
       "      <td>24162195</td>\n",
       "      <td>27879456</td>\n",
       "      <td>20537871</td>\n",
       "      <td>10038925</td>\n",
       "      <td>12640.000</td>\n",
       "    </tr>\n",
       "    <tr>\n",
       "      <th>46</th>\n",
       "      <td>1</td>\n",
       "      <td>12</td>\n",
       "      <td>2009</td>\n",
       "      <td>0</td>\n",
       "      <td>20685.000</td>\n",
       "      <td>18714</td>\n",
       "      <td>7345.000</td>\n",
       "      <td>16275098</td>\n",
       "      <td>21157639</td>\n",
       "      <td>24412692</td>\n",
       "      <td>17983978</td>\n",
       "      <td>9761255</td>\n",
       "      <td>14110.000</td>\n",
       "    </tr>\n",
       "    <tr>\n",
       "      <th>47</th>\n",
       "      <td>2</td>\n",
       "      <td>12</td>\n",
       "      <td>2009</td>\n",
       "      <td>0</td>\n",
       "      <td>23107.500</td>\n",
       "      <td>20247</td>\n",
       "      <td>4165.000</td>\n",
       "      <td>17406938</td>\n",
       "      <td>22629030</td>\n",
       "      <td>26110450</td>\n",
       "      <td>19234664</td>\n",
       "      <td>10566585</td>\n",
       "      <td>15665.000</td>\n",
       "    </tr>\n",
       "  </tbody>\n",
       "</table>\n",
       "</div>"
      ],
      "text/plain": [
       "    Bi_Month  Month  Year  GRP (OOH)  PPC Spend  Display Spend  email Spend  \\\n",
       "0          1      1  2008    1974000  31860.000          19422    10710.000   \n",
       "1          2      1  2008    1984500  32467.500          19819    10665.000   \n",
       "2          1      2  2008    1951500  29610.000          18125     9667.500   \n",
       "3          2      2  2008    2002500  26910.000          17670     8767.500   \n",
       "4          1      3  2008     596000  27765.000          18987    10320.000   \n",
       "5          2      3  2008     940500  34402.500          19669     7323.750   \n",
       "6          1      4  2008     801250   8940.000          19564     3851.250   \n",
       "7          2      4  2008     756000  13065.000          18179     4405.000   \n",
       "8          1      5  2008     804000  11925.000          19136     3782.500   \n",
       "9          2      5  2008     818750  12476.250          20052     4097.500   \n",
       "10         1      6  2008     116500  12060.000          19305     3855.000   \n",
       "11         2      6  2008     129750  12120.000          18316     2806.250   \n",
       "12         1      7  2008     123750   1796.250          19355      603.750   \n",
       "13         2      7  2008     129750   2058.750          19942      731.250   \n",
       "14         1      8  2008     130500   1856.250          19087      588.750   \n",
       "15         2      8  2008     219000   1946.250          20091      651.250   \n",
       "16         1      9  2008    1482500   1957.500          18946      620.000   \n",
       "17         2      9  2008    1350000   1687.500          18506     3830.000   \n",
       "18         1     10  2008    1378000  22185.000          18758     7077.500   \n",
       "19         2     10  2008    1413500  21900.000          19726     7257.500   \n",
       "20         1     11  2008    1150500  20670.000          18943     7177.500   \n",
       "21         2     11  2008    1475000  20265.000          18308     5845.000   \n",
       "22         1     12  2008    1965000  17062.500          18436     5907.500   \n",
       "23         2     12  2008    2184000  23257.500          21204     9457.500   \n",
       "24         1      1  2009    1708500  29475.000          18814    10080.000   \n",
       "25         2      1  2009    2298000  32760.000          20412     7987.500   \n",
       "26         1      2  2009    1480500  25627.500          14057     8662.500   \n",
       "27         2      2  2009    1750500  30825.000          17223     8595.000   \n",
       "28         1      3  2009     729250  28057.500          19420    10125.000   \n",
       "29         2      3  2009     997250  31815.000          20570     7752.500   \n",
       "30         1      4  2009     885000  10938.750          18064     3793.750   \n",
       "31         2      4  2009     744750  14216.250          19559     4912.500   \n",
       "32         1      5  2009     737750  13188.750          18135     4306.250   \n",
       "33         2      5  2009     778000  12000.000          20658     3792.500   \n",
       "34         1      6  2009     114250  11066.250          18862     3657.500   \n",
       "35         2      6  2009     120750  11538.750          18283     2413.750   \n",
       "36         1      7  2009     123000   1755.000          18659      570.000   \n",
       "37         2      7  2009     114750   1901.250          20083      645.000   \n",
       "38         1      8  2009     103500   1845.000          18784      573.750   \n",
       "39         2      8  2009     208500   1721.250          20261      591.250   \n",
       "40         1      9  2009    1440500   1552.500          18989      535.000   \n",
       "41         2      9  2009    1067500   1785.000          18457     3910.000   \n",
       "42         1     10  2009    1375500  21577.500          18768     6092.500   \n",
       "43         2     10  2009    1462500  17385.000          19905     6562.500   \n",
       "44         1     11  2009    1357000  20632.500          18310     6827.500   \n",
       "45         2     11  2009    1472000  20580.000          18116     6742.500   \n",
       "46         1     12  2009          0  20685.000          18714     7345.000   \n",
       "47         2     12  2009          0  23107.500          20247     4165.000   \n",
       "\n",
       "    Visitors    Visits  Page Views  Visits to competitor sites  \\\n",
       "0   19598266  25477739    29397396                    21656077   \n",
       "1   20536053  26696859    30804069                    22692332   \n",
       "2   18842855  24495710    28264292                    20821358   \n",
       "3   17151637  22297128    25727460                    18952565   \n",
       "4   16922910  21999789    25384384                    18699813   \n",
       "5   20211534  26274987    30317297                    22333741   \n",
       "6   15477831  20121182    23216747                    17103000   \n",
       "7   19468727  25309354    29203099                    21512955   \n",
       "8   16668455  21668997    25002689                    18418644   \n",
       "9   17802134  23142772    26703198                    19671352   \n",
       "10  17573262  22845240    26359893                    19418452   \n",
       "11  16458567  21396135    24687847                    18186712   \n",
       "12  16062144  20880784    24093218                    17748672   \n",
       "13  18686565  24292533    28029845                    20648650   \n",
       "14  16568635  21539229    24852949                    18308341   \n",
       "15  17831987  23181595    26747989                    19704350   \n",
       "16  17735181  23055734    26602770                    19597373   \n",
       "17  15428072  20056492    23142110                    17048027   \n",
       "18  18359384  23867199    27539069                    20287118   \n",
       "19  19086641  24812639    28629959                    21090736   \n",
       "20  18613631  24197725    27920458                    20568067   \n",
       "21  17615274  22899853    26422905                    19464876   \n",
       "22  14801348  19241747    22202019                    16355487   \n",
       "23  20587656  26763951    30881485                    22749354   \n",
       "24  19694415  25602739    29541615                    21762322   \n",
       "25  21411305  27834696    32116955                    23659491   \n",
       "26  16120640  20956830    24180957                    17813312   \n",
       "27  20458931  26596601    30688389                    22607114   \n",
       "28  17628439  22916970    26442666                    19479425   \n",
       "29  20851808  27107353    31277716                    23041252   \n",
       "30  16550823  21516071    24826241                    18288664   \n",
       "31  20001220  26001581    30001835                    22101357   \n",
       "32  17664437  22963789    26496668                    19519210   \n",
       "33  17221628  22388114    25832436                    19029900   \n",
       "34  16606711  21588726    24910058                    18350408   \n",
       "35  16498304  21447793    24747449                    18230626   \n",
       "36  13940094  18122119    20910139                    19934336   \n",
       "37  14752544  19178319    22128824                    21096142   \n",
       "38  17474207  22716471    26211319                    19309002   \n",
       "39  15899236  20669008    23848855                    17568661   \n",
       "40  15182158  19736805    22773244                    16776290   \n",
       "41  16825237  21872814    25237855                    18591884   \n",
       "42  19633935  25524112    29450908                    21695499   \n",
       "43  15461121  20099472    23191686                    17084550   \n",
       "44  17552528  22818279    26328786                    19395538   \n",
       "45  18586300  24162195    27879456                    20537871   \n",
       "46  16275098  21157639    24412692                    17983978   \n",
       "47  17406938  22629030    26110450                    19234664   \n",
       "\n",
       "    Social Media Mentions     Sales  \n",
       "0                 3834055 19500.000  \n",
       "1                 4194750 21525.000  \n",
       "2                 4016195 20100.000  \n",
       "3                 3774280 16300.000  \n",
       "4                 3947970 16450.000  \n",
       "5                 4883475 20875.000  \n",
       "6                 3902115  8240.000  \n",
       "7                 5092215 10620.000  \n",
       "8                 4576095 10270.000  \n",
       "9                 5031705 11140.000  \n",
       "10                5120595 10040.000  \n",
       "11                4923600  9885.000  \n",
       "12                4923750  9275.000  \n",
       "13                5898165 10925.000  \n",
       "14                5389335  9375.000  \n",
       "15                5934705 10025.000  \n",
       "16                6015270  9900.000  \n",
       "17                5366625  8450.000  \n",
       "18                6255180 13610.000  \n",
       "19                6666545 14280.000  \n",
       "20                6669855 12940.000  \n",
       "21                6464700 13490.000  \n",
       "22                5551660 11455.000  \n",
       "23                8157500 14905.000  \n",
       "24                7344040 20150.000  \n",
       "25                8188320 19900.000  \n",
       "26                6262200 16825.000  \n",
       "27                8063055 20450.000  \n",
       "28                7316325 18225.000  \n",
       "29                8841120 21650.000  \n",
       "30                7224525  9720.000  \n",
       "31                8932055 10565.000  \n",
       "32                8173620 10690.000  \n",
       "33                8115130 11225.000  \n",
       "34                7945425  9370.000  \n",
       "35                8018775  9795.000  \n",
       "36                8089770  9000.000  \n",
       "37                8688900  9475.000  \n",
       "38                8986740  9800.000  \n",
       "39                8252460  8775.000  \n",
       "40                7980075  8300.000  \n",
       "41                8927600  9400.000  \n",
       "42               10424980 13945.000  \n",
       "43                8161095 11490.000  \n",
       "44                9316400 13335.000  \n",
       "45               10038925 12640.000  \n",
       "46                9761255 14110.000  \n",
       "47               10566585 15665.000  "
      ]
     },
     "execution_count": 92,
     "metadata": {},
     "output_type": "execute_result"
    }
   ],
   "source": [
    "df_bi_month_total_revenue"
   ]
  },
  {
   "cell_type": "code",
   "execution_count": 12,
   "metadata": {
    "collapsed": true
   },
   "outputs": [],
   "source": [
    "df_bi_month_total_revenue = pickle.load(open('mm_bi_df_month_total_revenue.sav', 'rb'))"
   ]
  },
  {
   "cell_type": "code",
   "execution_count": 13,
   "metadata": {
    "collapsed": true
   },
   "outputs": [
    {
     "data": {
      "text/html": [
       "<div>\n",
       "<style scoped>\n",
       "    .dataframe tbody tr th:only-of-type {\n",
       "        vertical-align: middle;\n",
       "    }\n",
       "\n",
       "    .dataframe tbody tr th {\n",
       "        vertical-align: top;\n",
       "    }\n",
       "\n",
       "    .dataframe thead th {\n",
       "        text-align: right;\n",
       "    }\n",
       "</style>\n",
       "<table border=\"1\" class=\"dataframe\">\n",
       "  <thead>\n",
       "    <tr style=\"text-align: right;\">\n",
       "      <th></th>\n",
       "      <th>GRP (OOH)</th>\n",
       "      <th>PPC Spend</th>\n",
       "      <th>Display Spend</th>\n",
       "      <th>email Spend</th>\n",
       "      <th>Visitors</th>\n",
       "      <th>Visits</th>\n",
       "      <th>Page Views</th>\n",
       "      <th>Visits to competitor sites</th>\n",
       "      <th>Social Media Mentions</th>\n",
       "      <th>Sales</th>\n",
       "    </tr>\n",
       "  </thead>\n",
       "  <tbody>\n",
       "    <tr>\n",
       "      <th>count</th>\n",
       "      <td>48.000</td>\n",
       "      <td>48.000</td>\n",
       "      <td>48.000</td>\n",
       "      <td>48.000</td>\n",
       "      <td>48.000</td>\n",
       "      <td>48.000</td>\n",
       "      <td>48.000</td>\n",
       "      <td>48.000</td>\n",
       "      <td>48.000</td>\n",
       "      <td>48.000</td>\n",
       "    </tr>\n",
       "    <tr>\n",
       "      <th>mean</th>\n",
       "      <td>978041.667</td>\n",
       "      <td>16172.500</td>\n",
       "      <td>19018.667</td>\n",
       "      <td>5221.615</td>\n",
       "      <td>17662225.125</td>\n",
       "      <td>22960893.729</td>\n",
       "      <td>26493340.542</td>\n",
       "      <td>19711032.250</td>\n",
       "      <td>6879369.062</td>\n",
       "      <td>13084.896</td>\n",
       "    </tr>\n",
       "    <tr>\n",
       "      <th>std</th>\n",
       "      <td>692156.293</td>\n",
       "      <td>10734.008</td>\n",
       "      <td>1126.677</td>\n",
       "      <td>3248.255</td>\n",
       "      <td>1804441.689</td>\n",
       "      <td>2345772.558</td>\n",
       "      <td>2706660.917</td>\n",
       "      <td>1847710.538</td>\n",
       "      <td>1934041.310</td>\n",
       "      <td>4149.288</td>\n",
       "    </tr>\n",
       "    <tr>\n",
       "      <th>min</th>\n",
       "      <td>0.000</td>\n",
       "      <td>1552.500</td>\n",
       "      <td>14057.000</td>\n",
       "      <td>535.000</td>\n",
       "      <td>13940094.000</td>\n",
       "      <td>18122119.000</td>\n",
       "      <td>20910139.000</td>\n",
       "      <td>16355487.000</td>\n",
       "      <td>3774280.000</td>\n",
       "      <td>8240.000</td>\n",
       "    </tr>\n",
       "    <tr>\n",
       "      <th>25%</th>\n",
       "      <td>189000.000</td>\n",
       "      <td>7219.688</td>\n",
       "      <td>18406.000</td>\n",
       "      <td>3444.688</td>\n",
       "      <td>16488369.750</td>\n",
       "      <td>21434878.500</td>\n",
       "      <td>24732548.500</td>\n",
       "      <td>18303421.750</td>\n",
       "      <td>5113500.000</td>\n",
       "      <td>9798.750</td>\n",
       "    </tr>\n",
       "    <tr>\n",
       "      <th>50%</th>\n",
       "      <td>912750.000</td>\n",
       "      <td>15639.375</td>\n",
       "      <td>18966.500</td>\n",
       "      <td>4658.750</td>\n",
       "      <td>17562895.000</td>\n",
       "      <td>22831759.500</td>\n",
       "      <td>26344339.500</td>\n",
       "      <td>19472150.500</td>\n",
       "      <td>6947190.000</td>\n",
       "      <td>11340.000</td>\n",
       "    </tr>\n",
       "    <tr>\n",
       "      <th>75%</th>\n",
       "      <td>1472750.000</td>\n",
       "      <td>23850.000</td>\n",
       "      <td>19749.250</td>\n",
       "      <td>7446.875</td>\n",
       "      <td>18903801.500</td>\n",
       "      <td>24574942.250</td>\n",
       "      <td>28355708.750</td>\n",
       "      <td>21092087.500</td>\n",
       "      <td>8177295.000</td>\n",
       "      <td>15823.750</td>\n",
       "    </tr>\n",
       "    <tr>\n",
       "      <th>max</th>\n",
       "      <td>2298000.000</td>\n",
       "      <td>34402.500</td>\n",
       "      <td>21204.000</td>\n",
       "      <td>10710.000</td>\n",
       "      <td>21411305.000</td>\n",
       "      <td>27834696.000</td>\n",
       "      <td>32116955.000</td>\n",
       "      <td>23659491.000</td>\n",
       "      <td>10566585.000</td>\n",
       "      <td>21650.000</td>\n",
       "    </tr>\n",
       "  </tbody>\n",
       "</table>\n",
       "</div>"
      ],
      "text/plain": [
       "        GRP (OOH)  PPC Spend  Display Spend  email Spend     Visitors  \\\n",
       "count      48.000     48.000         48.000       48.000       48.000   \n",
       "mean   978041.667  16172.500      19018.667     5221.615 17662225.125   \n",
       "std    692156.293  10734.008       1126.677     3248.255  1804441.689   \n",
       "min         0.000   1552.500      14057.000      535.000 13940094.000   \n",
       "25%    189000.000   7219.688      18406.000     3444.688 16488369.750   \n",
       "50%    912750.000  15639.375      18966.500     4658.750 17562895.000   \n",
       "75%   1472750.000  23850.000      19749.250     7446.875 18903801.500   \n",
       "max   2298000.000  34402.500      21204.000    10710.000 21411305.000   \n",
       "\n",
       "            Visits   Page Views  Visits to competitor sites  \\\n",
       "count       48.000       48.000                      48.000   \n",
       "mean  22960893.729 26493340.542                19711032.250   \n",
       "std    2345772.558  2706660.917                 1847710.538   \n",
       "min   18122119.000 20910139.000                16355487.000   \n",
       "25%   21434878.500 24732548.500                18303421.750   \n",
       "50%   22831759.500 26344339.500                19472150.500   \n",
       "75%   24574942.250 28355708.750                21092087.500   \n",
       "max   27834696.000 32116955.000                23659491.000   \n",
       "\n",
       "       Social Media Mentions     Sales  \n",
       "count                 48.000    48.000  \n",
       "mean             6879369.062 13084.896  \n",
       "std              1934041.310  4149.288  \n",
       "min              3774280.000  8240.000  \n",
       "25%              5113500.000  9798.750  \n",
       "50%              6947190.000 11340.000  \n",
       "75%              8177295.000 15823.750  \n",
       "max             10566585.000 21650.000  "
      ]
     },
     "execution_count": 13,
     "metadata": {},
     "output_type": "execute_result"
    }
   ],
   "source": [
    "df_bi_month_total_revenue.drop(['Bi_Month','Month','Year'],axis=1).describe()"
   ]
  },
  {
   "cell_type": "code",
   "execution_count": 719,
   "metadata": {
    "collapsed": true
   },
   "outputs": [
    {
     "data": {
      "text/plain": [
       "array([[<matplotlib.axes._subplots.AxesSubplot object at 0x11663e450>,\n",
       "        <matplotlib.axes._subplots.AxesSubplot object at 0x116a1d610>,\n",
       "        <matplotlib.axes._subplots.AxesSubplot object at 0x116461110>],\n",
       "       [<matplotlib.axes._subplots.AxesSubplot object at 0x116b99dd0>,\n",
       "        <matplotlib.axes._subplots.AxesSubplot object at 0x1163cf450>,\n",
       "        <matplotlib.axes._subplots.AxesSubplot object at 0x115b94810>],\n",
       "       [<matplotlib.axes._subplots.AxesSubplot object at 0x116faf610>,\n",
       "        <matplotlib.axes._subplots.AxesSubplot object at 0x117013910>,\n",
       "        <matplotlib.axes._subplots.AxesSubplot object at 0x117097950>],\n",
       "       [<matplotlib.axes._subplots.AxesSubplot object at 0x11710b690>,\n",
       "        <matplotlib.axes._subplots.AxesSubplot object at 0x11718ea50>,\n",
       "        <matplotlib.axes._subplots.AxesSubplot object at 0x117201410>]],\n",
       "      dtype=object)"
      ]
     },
     "execution_count": 719,
     "metadata": {},
     "output_type": "execute_result"
    },
    {
     "data": {
      "image/png": "[encoded data removed]",
      "text/plain": [
       "<matplotlib.figure.Figure at 0x116c38850>"
      ]
     },
     "metadata": {},
     "output_type": "display_data"
    }
   ],
   "source": [
    "df_bi_month_total_revenue.drop(['Bi_Month','Year','Month'],axis=1).hist(figsize=(14,12))"
   ]
  },
  {
   "cell_type": "code",
   "execution_count": 720,
   "metadata": {
    "collapsed": true
   },
   "outputs": [
    {
     "data": {
      "text/plain": [
       "GRP (OOH)                         Axes(0.125,0.71587;0.227941x0.16413)\n",
       "PPC Spend                      Axes(0.398529,0.71587;0.227941x0.16413)\n",
       "Display Spend                  Axes(0.672059,0.71587;0.227941x0.16413)\n",
       "email Spend                      Axes(0.125,0.518913;0.227941x0.16413)\n",
       "Visitors                      Axes(0.398529,0.518913;0.227941x0.16413)\n",
       "Visits                        Axes(0.672059,0.518913;0.227941x0.16413)\n",
       "Page Views                       Axes(0.125,0.321957;0.227941x0.16413)\n",
       "Visits to competitor sites    Axes(0.398529,0.321957;0.227941x0.16413)\n",
       "Social Media Mentions         Axes(0.672059,0.321957;0.227941x0.16413)\n",
       "Sales                               Axes(0.125,0.125;0.227941x0.16413)\n",
       "dtype: object"
      ]
     },
     "execution_count": 720,
     "metadata": {},
     "output_type": "execute_result"
    },
    {
     "data": {
      "image/png": "[encoded data removed]",
      "text/plain": [
       "<matplotlib.figure.Figure at 0x1172d64d0>"
      ]
     },
     "metadata": {},
     "output_type": "display_data"
    }
   ],
   "source": [
    "df_bi_month_total_revenue.drop(['Bi_Month','Year','Month'],axis=1).plot(kind='box', subplots=True, layout=(4,3), sharex=False, sharey=False,figsize=(15,15))"
   ]
  },
  {
   "cell_type": "code",
   "execution_count": 721,
   "metadata": {
    "collapsed": true
   },
   "outputs": [
    {
     "data": {
      "text/plain": [
       "PPC Spend                     0.925\n",
       "email Spend                   0.841\n",
       "Page Views                    0.690\n",
       "Visitors                      0.690\n",
       "Visits                        0.690\n",
       "Visits to competitor sites    0.645\n",
       "GRP (OOH)                     0.551\n",
       "Bi_Month                      0.096\n",
       "Year                          0.005\n",
       "Display Spend                -0.020\n",
       "Social Media Mentions        -0.084\n",
       "Month                        -0.489\n",
       "Name: Sales, dtype: float64"
      ]
     },
     "execution_count": 721,
     "metadata": {},
     "output_type": "execute_result"
    }
   ],
   "source": [
    "df_bi_month_total_revenue.corr(method='pearson')['Sales'].sort_values(ascending=False).drop(['Sales'])"
   ]
  },
  {
   "cell_type": "code",
   "execution_count": 14,
   "metadata": {
    "collapsed": true
   },
   "outputs": [
    {
     "data": {
      "image/png": "[encoded data removed]",
      "text/plain": [
       "<matplotlib.figure.Figure at 0x11ab1ab50>"
      ]
     },
     "metadata": {},
     "output_type": "display_data"
    },
    {
     "data": {
      "text/plain": [
       "<matplotlib.axes._subplots.AxesSubplot at 0x11ae12cd0>"
      ]
     },
     "execution_count": 14,
     "metadata": {},
     "output_type": "execute_result"
    }
   ],
   "source": [
    "sns.set(style=\"white\") #this whites out the upper-right section of the matrix\n",
    "corrmat(df_bi_month_total_revenue.corr(method='pearson'),annotate=False)\n",
    "#set annotate = True to show correlation values"
   ]
  },
  {
   "cell_type": "markdown",
   "metadata": {},
   "source": [
    "## Feature Importances - Predicting Bi-Monthly Revenue"
   ]
  },
  {
   "cell_type": "code",
   "execution_count": 729,
   "metadata": {
    "collapsed": true
   },
   "outputs": [
    {
     "data": {
      "text/plain": [
       "RandomForestRegressor(bootstrap=True, criterion='mse', max_depth=None,\n",
       "           max_features='auto', max_leaf_nodes=None,\n",
       "           min_impurity_decrease=0.0, min_impurity_split=None,\n",
       "           min_samples_leaf=1, min_samples_split=2,\n",
       "           min_weight_fraction_leaf=0.0, n_estimators=10, n_jobs=1,\n",
       "           oob_score=False, random_state=None, verbose=0, warm_start=False)"
      ]
     },
     "execution_count": 729,
     "metadata": {},
     "output_type": "execute_result"
    },
    {
     "data": {
      "text/plain": [
       "<matplotlib.figure.Figure at 0x1181476d0>"
      ]
     },
     "execution_count": 729,
     "metadata": {},
     "output_type": "execute_result"
    },
    {
     "data": {
      "text/plain": [
       "<Container object of 12 artists>"
      ]
     },
     "execution_count": 729,
     "metadata": {},
     "output_type": "execute_result"
    },
    {
     "data": {
      "text/plain": [
       "([<matplotlib.axis.XTick at 0x118862bd0>,\n",
       "  <matplotlib.axis.XTick at 0x118862ad0>,\n",
       "  <matplotlib.axis.XTick at 0x11880b690>,\n",
       "  <matplotlib.axis.XTick at 0x1188d0d90>,\n",
       "  <matplotlib.axis.XTick at 0x1188dd4d0>,\n",
       "  <matplotlib.axis.XTick at 0x1188ddbd0>,\n",
       "  <matplotlib.axis.XTick at 0x1188e83d0>,\n",
       "  <matplotlib.axis.XTick at 0x1188e8ad0>,\n",
       "  <matplotlib.axis.XTick at 0x1188f2210>,\n",
       "  <matplotlib.axis.XTick at 0x1188f2910>,\n",
       "  <matplotlib.axis.XTick at 0x1188ff050>,\n",
       "  <matplotlib.axis.XTick at 0x1188ff650>],\n",
       " <a list of 12 Text xticklabel objects>)"
      ]
     },
     "execution_count": 729,
     "metadata": {},
     "output_type": "execute_result"
    },
    {
     "data": {
      "text/plain": [
       "<matplotlib.text.Text at 0x118871d10>"
      ]
     },
     "execution_count": 729,
     "metadata": {},
     "output_type": "execute_result"
    },
    {
     "data": {
      "text/plain": [
       "<matplotlib.text.Text at 0x118862710>"
      ]
     },
     "execution_count": 729,
     "metadata": {},
     "output_type": "execute_result"
    },
    {
     "data": {
      "text/plain": [
       "<matplotlib.text.Text at 0x118888990>"
      ]
     },
     "execution_count": 729,
     "metadata": {},
     "output_type": "execute_result"
    },
    {
     "data": {
      "text/plain": [
       "RandomForestRegressor(bootstrap=True, criterion='mse', max_depth=None,\n",
       "           max_features='auto', max_leaf_nodes=None,\n",
       "           min_impurity_decrease=0.0, min_impurity_split=None,\n",
       "           min_samples_leaf=1, min_samples_split=2,\n",
       "           min_weight_fraction_leaf=0.0, n_estimators=10, n_jobs=1,\n",
       "           oob_score=False, random_state=None, verbose=0, warm_start=False)"
      ]
     },
     "execution_count": 729,
     "metadata": {},
     "output_type": "execute_result"
    },
    {
     "data": {
      "text/plain": [
       "<matplotlib.figure.Figure at 0x1188f2990>"
      ]
     },
     "execution_count": 729,
     "metadata": {},
     "output_type": "execute_result"
    },
    {
     "data": {
      "text/plain": [
       "<Container object of 12 artists>"
      ]
     },
     "execution_count": 729,
     "metadata": {},
     "output_type": "execute_result"
    },
    {
     "data": {
      "text/plain": [
       "([<matplotlib.axis.XTick at 0x1188f22d0>,\n",
       "  <matplotlib.axis.XTick at 0x11893b390>,\n",
       "  <matplotlib.axis.XTick at 0x118976d10>,\n",
       "  <matplotlib.axis.XTick at 0x1189c7450>,\n",
       "  <matplotlib.axis.XTick at 0x1189c7b50>,\n",
       "  <matplotlib.axis.XTick at 0x1189d1250>,\n",
       "  <matplotlib.axis.XTick at 0x1189d1950>,\n",
       "  <matplotlib.axis.XTick at 0x1189dd090>,\n",
       "  <matplotlib.axis.XTick at 0x1189dd790>,\n",
       "  <matplotlib.axis.XTick at 0x1189dde90>,\n",
       "  <matplotlib.axis.XTick at 0x1189e65d0>,\n",
       "  <matplotlib.axis.XTick at 0x1189e6cd0>],\n",
       " <a list of 12 Text xticklabel objects>)"
      ]
     },
     "execution_count": 729,
     "metadata": {},
     "output_type": "execute_result"
    },
    {
     "data": {
      "text/plain": [
       "<matplotlib.text.Text at 0x11891fa50>"
      ]
     },
     "execution_count": 729,
     "metadata": {},
     "output_type": "execute_result"
    },
    {
     "data": {
      "text/plain": [
       "<matplotlib.text.Text at 0x1188ff190>"
      ]
     },
     "execution_count": 729,
     "metadata": {},
     "output_type": "execute_result"
    },
    {
     "data": {
      "text/plain": [
       "<matplotlib.text.Text at 0x118945e90>"
      ]
     },
     "execution_count": 729,
     "metadata": {},
     "output_type": "execute_result"
    },
    {
     "data": {
      "text/plain": [
       "RandomForestRegressor(bootstrap=True, criterion='mse', max_depth=None,\n",
       "           max_features='auto', max_leaf_nodes=None,\n",
       "           min_impurity_decrease=0.0, min_impurity_split=None,\n",
       "           min_samples_leaf=1, min_samples_split=2,\n",
       "           min_weight_fraction_leaf=0.0, n_estimators=10, n_jobs=1,\n",
       "           oob_score=False, random_state=None, verbose=0, warm_start=False)"
      ]
     },
     "execution_count": 729,
     "metadata": {},
     "output_type": "execute_result"
    },
    {
     "data": {
      "text/plain": [
       "<matplotlib.figure.Figure at 0x1189d1490>"
      ]
     },
     "execution_count": 729,
     "metadata": {},
     "output_type": "execute_result"
    },
    {
     "data": {
      "text/plain": [
       "<Container object of 12 artists>"
      ]
     },
     "execution_count": 729,
     "metadata": {},
     "output_type": "execute_result"
    },
    {
     "data": {
      "text/plain": [
       "([<matplotlib.axis.XTick at 0x1189e6690>,\n",
       "  <matplotlib.axis.XTick at 0x1188ff390>,\n",
       "  <matplotlib.axis.XTick at 0x118a57b90>,\n",
       "  <matplotlib.axis.XTick at 0x1189dd9d0>,\n",
       "  <matplotlib.axis.XTick at 0x118a989d0>,\n",
       "  <matplotlib.axis.XTick at 0x118aa6210>,\n",
       "  <matplotlib.axis.XTick at 0x118aa6910>,\n",
       "  <matplotlib.axis.XTick at 0x118ab2050>,\n",
       "  <matplotlib.axis.XTick at 0x118ab2610>,\n",
       "  <matplotlib.axis.XTick at 0x118ab2d10>,\n",
       "  <matplotlib.axis.XTick at 0x118abb450>,\n",
       "  <matplotlib.axis.XTick at 0x118abbb50>],\n",
       " <a list of 12 Text xticklabel objects>)"
      ]
     },
     "execution_count": 729,
     "metadata": {},
     "output_type": "execute_result"
    },
    {
     "data": {
      "text/plain": [
       "<matplotlib.text.Text at 0x1189f2d90>"
      ]
     },
     "execution_count": 729,
     "metadata": {},
     "output_type": "execute_result"
    },
    {
     "data": {
      "text/plain": [
       "<matplotlib.text.Text at 0x11891f250>"
      ]
     },
     "execution_count": 729,
     "metadata": {},
     "output_type": "execute_result"
    },
    {
     "data": {
      "text/plain": [
       "<matplotlib.text.Text at 0x118a2f150>"
      ]
     },
     "execution_count": 729,
     "metadata": {},
     "output_type": "execute_result"
    },
    {
     "data": {
      "image/png": "[encoded data removed]",
      "text/plain": [
       "<matplotlib.figure.Figure at 0x1181476d0>"
      ]
     },
     "metadata": {},
     "output_type": "display_data"
    },
    {
     "data": {
      "image/png": "[encoded data removed]",
      "text/plain": [
       "<matplotlib.figure.Figure at 0x1188f2990>"
      ]
     },
     "metadata": {},
     "output_type": "display_data"
    },
    {
     "data": {
      "image/png": "[encoded data removed]",
      "text/plain": [
       "<matplotlib.figure.Figure at 0x1189d1490>"
      ]
     },
     "metadata": {},
     "output_type": "display_data"
    }
   ],
   "source": [
    "from sklearn.model_selection import TimeSeriesSplit\n",
    "x=df_bi_month_total_revenue.drop('Sales',axis=1)\n",
    "y=df_bi_month_total_revenue.iloc[:,-1]\n",
    "\n",
    "feature_names = x.columns.values\n",
    "\n",
    "tss=TimeSeriesSplit(n_splits=3, max_train_size=None)\n",
    "rf = RandomForestRegressor(random_state=0)\n",
    "count = 1\n",
    "\n",
    "# test data is not needed for fitting\n",
    "for train, _ in tss.split(x, y):\n",
    "    rf.fit(x.iloc[train, :], y[train])\n",
    "    # sort the feature index by importance score in descending order\n",
    "    importances_index_desc = np.argsort(rf.feature_importances_)[::-1]\n",
    "    feature_labels = [feature_names[-i] for i in importances_index_desc]\n",
    "    x_index = np.arange(len(feature_labels))\n",
    "\n",
    "    # plot\n",
    "    plt.figure()\n",
    "    plt.bar(x_index,rf.feature_importances_[importances_index_desc])\n",
    "    plt.xticks(x_index, feature_labels, rotation='vertical')\n",
    "    plt.ylabel('Importance')\n",
    "    plt.xlabel('Features')\n",
    "    plt.title('Fold {}'.format(count))\n",
    "    count = count + 1\n",
    "plt.show()"
   ]
  },
  {
   "cell_type": "markdown",
   "metadata": {},
   "source": [
    "## Feature Importances - Scaled - Predicting Bi-Monthly Revenue"
   ]
  },
  {
   "cell_type": "code",
   "execution_count": 644,
   "metadata": {
    "collapsed": true
   },
   "outputs": [
    {
     "data": {
      "text/plain": [
       "RandomForestRegressor(bootstrap=True, criterion='mse', max_depth=None,\n",
       "           max_features='auto', max_leaf_nodes=None,\n",
       "           min_impurity_decrease=0.0, min_impurity_split=None,\n",
       "           min_samples_leaf=1, min_samples_split=2,\n",
       "           min_weight_fraction_leaf=0.0, n_estimators=10, n_jobs=1,\n",
       "           oob_score=False, random_state=None, verbose=0, warm_start=False)"
      ]
     },
     "execution_count": 644,
     "metadata": {},
     "output_type": "execute_result"
    },
    {
     "data": {
      "text/plain": [
       "<matplotlib.figure.Figure at 0x1160d66d0>"
      ]
     },
     "execution_count": 644,
     "metadata": {},
     "output_type": "execute_result"
    },
    {
     "data": {
      "text/plain": [
       "<Container object of 11 artists>"
      ]
     },
     "execution_count": 644,
     "metadata": {},
     "output_type": "execute_result"
    },
    {
     "data": {
      "text/plain": [
       "([<matplotlib.axis.XTick at 0x116ae8290>,\n",
       "  <matplotlib.axis.XTick at 0x116bbbbd0>,\n",
       "  <matplotlib.axis.XTick at 0x116a74e90>,\n",
       "  <matplotlib.axis.XTick at 0x116a3a610>,\n",
       "  <matplotlib.axis.XTick at 0x116a3a210>,\n",
       "  <matplotlib.axis.XTick at 0x116a1d7d0>,\n",
       "  <matplotlib.axis.XTick at 0x116a1df50>,\n",
       "  <matplotlib.axis.XTick at 0x116a43910>,\n",
       "  <matplotlib.axis.XTick at 0x116a439d0>,\n",
       "  <matplotlib.axis.XTick at 0x116c0cbd0>,\n",
       "  <matplotlib.axis.XTick at 0x116c0c6d0>],\n",
       " <a list of 11 Text xticklabel objects>)"
      ]
     },
     "execution_count": 644,
     "metadata": {},
     "output_type": "execute_result"
    },
    {
     "data": {
      "text/plain": [
       "<matplotlib.text.Text at 0x116afad10>"
      ]
     },
     "execution_count": 644,
     "metadata": {},
     "output_type": "execute_result"
    },
    {
     "data": {
      "text/plain": [
       "<matplotlib.text.Text at 0x116a68290>"
      ]
     },
     "execution_count": 644,
     "metadata": {},
     "output_type": "execute_result"
    },
    {
     "data": {
      "text/plain": [
       "<matplotlib.text.Text at 0x116ba4b50>"
      ]
     },
     "execution_count": 644,
     "metadata": {},
     "output_type": "execute_result"
    },
    {
     "data": {
      "text/plain": [
       "RandomForestRegressor(bootstrap=True, criterion='mse', max_depth=None,\n",
       "           max_features='auto', max_leaf_nodes=None,\n",
       "           min_impurity_decrease=0.0, min_impurity_split=None,\n",
       "           min_samples_leaf=1, min_samples_split=2,\n",
       "           min_weight_fraction_leaf=0.0, n_estimators=10, n_jobs=1,\n",
       "           oob_score=False, random_state=None, verbose=0, warm_start=False)"
      ]
     },
     "execution_count": 644,
     "metadata": {},
     "output_type": "execute_result"
    },
    {
     "data": {
      "text/plain": [
       "<matplotlib.figure.Figure at 0x116a1d4d0>"
      ]
     },
     "execution_count": 644,
     "metadata": {},
     "output_type": "execute_result"
    },
    {
     "data": {
      "text/plain": [
       "<Container object of 11 artists>"
      ]
     },
     "execution_count": 644,
     "metadata": {},
     "output_type": "execute_result"
    },
    {
     "data": {
      "text/plain": [
       "([<matplotlib.axis.XTick at 0x116c0c950>,\n",
       "  <matplotlib.axis.XTick at 0x116a81bd0>,\n",
       "  <matplotlib.axis.XTick at 0x1169b1310>,\n",
       "  <matplotlib.axis.XTick at 0x116773890>,\n",
       "  <matplotlib.axis.XTick at 0x11675e550>,\n",
       "  <matplotlib.axis.XTick at 0x11694ddd0>,\n",
       "  <matplotlib.axis.XTick at 0x11694d090>,\n",
       "  <matplotlib.axis.XTick at 0x116769590>,\n",
       "  <matplotlib.axis.XTick at 0x116be4c90>,\n",
       "  <matplotlib.axis.XTick at 0x116969ed0>,\n",
       "  <matplotlib.axis.XTick at 0x116a58510>],\n",
       " <a list of 11 Text xticklabel objects>)"
      ]
     },
     "execution_count": 644,
     "metadata": {},
     "output_type": "execute_result"
    },
    {
     "data": {
      "text/plain": [
       "<matplotlib.text.Text at 0x116c00310>"
      ]
     },
     "execution_count": 644,
     "metadata": {},
     "output_type": "execute_result"
    },
    {
     "data": {
      "text/plain": [
       "<matplotlib.text.Text at 0x116b0e890>"
      ]
     },
     "execution_count": 644,
     "metadata": {},
     "output_type": "execute_result"
    },
    {
     "data": {
      "text/plain": [
       "<matplotlib.text.Text at 0x116a06610>"
      ]
     },
     "execution_count": 644,
     "metadata": {},
     "output_type": "execute_result"
    },
    {
     "data": {
      "text/plain": [
       "RandomForestRegressor(bootstrap=True, criterion='mse', max_depth=None,\n",
       "           max_features='auto', max_leaf_nodes=None,\n",
       "           min_impurity_decrease=0.0, min_impurity_split=None,\n",
       "           min_samples_leaf=1, min_samples_split=2,\n",
       "           min_weight_fraction_leaf=0.0, n_estimators=10, n_jobs=1,\n",
       "           oob_score=False, random_state=None, verbose=0, warm_start=False)"
      ]
     },
     "execution_count": 644,
     "metadata": {},
     "output_type": "execute_result"
    },
    {
     "data": {
      "text/plain": [
       "<matplotlib.figure.Figure at 0x116c00810>"
      ]
     },
     "execution_count": 644,
     "metadata": {},
     "output_type": "execute_result"
    },
    {
     "data": {
      "text/plain": [
       "<Container object of 11 artists>"
      ]
     },
     "execution_count": 644,
     "metadata": {},
     "output_type": "execute_result"
    },
    {
     "data": {
      "text/plain": [
       "([<matplotlib.axis.XTick at 0x116573350>,\n",
       "  <matplotlib.axis.XTick at 0x1164b1250>,\n",
       "  <matplotlib.axis.XTick at 0x11648a090>,\n",
       "  <matplotlib.axis.XTick at 0x11646a8d0>,\n",
       "  <matplotlib.axis.XTick at 0x11646a310>,\n",
       "  <matplotlib.axis.XTick at 0x116266410>,\n",
       "  <matplotlib.axis.XTick at 0x1165470d0>,\n",
       "  <matplotlib.axis.XTick at 0x1163f37d0>,\n",
       "  <matplotlib.axis.XTick at 0x1163f3590>,\n",
       "  <matplotlib.axis.XTick at 0x116653190>,\n",
       "  <matplotlib.axis.XTick at 0x116653e10>],\n",
       " <a list of 11 Text xticklabel objects>)"
      ]
     },
     "execution_count": 644,
     "metadata": {},
     "output_type": "execute_result"
    },
    {
     "data": {
      "text/plain": [
       "<matplotlib.text.Text at 0x1164b1490>"
      ]
     },
     "execution_count": 644,
     "metadata": {},
     "output_type": "execute_result"
    },
    {
     "data": {
      "text/plain": [
       "<matplotlib.text.Text at 0x116601e10>"
      ]
     },
     "execution_count": 644,
     "metadata": {},
     "output_type": "execute_result"
    },
    {
     "data": {
      "text/plain": [
       "<matplotlib.text.Text at 0x1164e69d0>"
      ]
     },
     "execution_count": 644,
     "metadata": {},
     "output_type": "execute_result"
    },
    {
     "data": {
      "image/png": "[encoded data removed]",
      "text/plain": [
       "<matplotlib.figure.Figure at 0x1160d66d0>"
      ]
     },
     "metadata": {},
     "output_type": "display_data"
    },
    {
     "data": {
      "image/png": "[encoded data removed]",
      "text/plain": [
       "<matplotlib.figure.Figure at 0x116a1d4d0>"
      ]
     },
     "metadata": {},
     "output_type": "display_data"
    },
    {
     "data": {
      "image/png": "[encoded data removed]",
      "text/plain": [
       "<matplotlib.figure.Figure at 0x116c00810>"
      ]
     },
     "metadata": {},
     "output_type": "display_data"
    }
   ],
   "source": [
    "from sklearn.model_selection import TimeSeriesSplit\n",
    "x=df_bi_month_total_revenue.drop('Sales',axis=1)\n",
    "y=df_bi_month_total_revenue.iloc[:,-1]\n",
    "\n",
    "scaler = MinMaxScaler()\n",
    "feature_names = x.columns.values\n",
    "x_index = np.arange(len(feature_labels))\n",
    "tss=TimeSeriesSplit(n_splits=3, max_train_size=None)\n",
    "rf = RandomForestRegressor(random_state=0)\n",
    "count = 1\n",
    "\n",
    "# test data is not needed for fitting\n",
    "for train, _ in tss.split(x, y):\n",
    "    x_train_scaled = pd.DataFrame(scaler.fit_transform(x.iloc[train, :]), columns = feature_names )\n",
    "    rf.fit(x_train_scaled, y[train])\n",
    "    # sort the feature index by importance score in descending order\n",
    "    importances_index_desc = np.argsort(rf.feature_importances_)[::-1]\n",
    "    feature_labels = [feature_names[-i] for i in importances_index_desc]\n",
    "\n",
    "    # plot\n",
    "    plt.figure()\n",
    "    plt.bar(x_index,rf.feature_importances_[importances_index_desc])\n",
    "    plt.xticks(x_index, feature_labels, rotation='vertical')\n",
    "    plt.ylabel('Importance')\n",
    "    plt.xlabel('Features')\n",
    "    plt.title('Fold {}'.format(count))\n",
    "    count = count + 1\n",
    "plt.show()"
   ]
  }
 ],
 "metadata": {
  "kernelspec": {
   "display_name": "Python 2",
   "language": "python",
   "name": "python2"
  },
  "language_info": {
   "codemirror_mode": {
    "name": "ipython",
    "version": 2
   },
   "file_extension": ".py",
   "mimetype": "text/x-python",
   "name": "python",
   "nbconvert_exporter": "python",
   "pygments_lexer": "ipython2",
   "version": "2.7.13"
  }
 },
 "nbformat": 4,
 "nbformat_minor": 2
}
