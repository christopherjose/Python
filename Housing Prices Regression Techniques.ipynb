{
 "cells": [
  {
   "cell_type": "code",
   "execution_count": 178,
   "metadata": {
    "collapsed": false
   },
   "outputs": [
    {
     "name": "stdout",
     "output_type": "stream",
     "text": [
      "This file is located in the following directory: \n",
      "/Users/Work/Desktop/Work/Projects/Kaggle/House Prices-Advanced Regression Techniques \n"
     ]
    }
   ],
   "source": [
    "import os\n",
    "import time\n",
    "import pandas as pd\n",
    "from pandas import ExcelWriter\n",
    "import pickle\n",
    "import imblearn\n",
    "import numpy as np\n",
    "import sklearn\n",
    "import copy\n",
    "from pandasql import *\n",
    "from pandasql import sqldf\n",
    "from mlens.visualization import corrmat\n",
    "sql = lambda q: sqldf(q, globals()) \n",
    "\n",
    "from sklearn import preprocessing\n",
    "from sklearn.model_selection import GridSearchCV\n",
    "from sklearn.model_selection import train_test_split\n",
    "from sklearn.metrics import mean_squared_error\n",
    "from sklearn.preprocessing import StandardScaler\n",
    "from sklearn.pipeline import make_pipeline\n",
    "from sklearn.pipeline import Pipeline\n",
    "from sklearn.decomposition import PCA\n",
    "from scipy import interp\n",
    "import matplotlib.pyplot as plt\n",
    "import seaborn as sns\n",
    "from sklearn import svm, datasets\n",
    "from sklearn.metrics import roc_curve, auc, f1_score\n",
    "\n",
    "import statsmodels.api as sm\n",
    "from statsmodels.formula.api import ols\n",
    "from sklearn.metrics import classification_report\n",
    "from statsmodels.stats.outliers_influence import variance_inflation_factor\n",
    "from sklearn.naive_bayes import MultinomialNB\n",
    "from sklearn.ensemble import RandomForestRegressor\n",
    "from sklearn.linear_model import LogisticRegression\n",
    "from sklearn.neighbors import KNeighborsRegressor\n",
    "from sklearn.tree import DecisionTreeRegressor\n",
    "from sklearn.ensemble import AdaBoostRegressor\n",
    "from sklearn.feature_selection import SelectKBest\n",
    "from sklearn.feature_selection import chi2\n",
    "from sklearn import svm\n",
    "from sklearn.naive_bayes import GaussianNB\n",
    "from sklearn.ensemble import GradientBoostingRegressor\n",
    "from sklearn.linear_model import LinearRegression\n",
    "import statsmodels.api as sm\n",
    "from statsmodels.formula.api import ols\n",
    "\n",
    "from sklearn.preprocessing import Imputer\n",
    "from sklearn.model_selection import cross_val_score\n",
    "from sklearn.preprocessing import MinMaxScaler \n",
    "from sklearn.model_selection import KFold\n",
    "from sklearn.model_selection import cross_validate\n",
    "from sklearn.metrics import precision_score, recall_score, accuracy_score, confusion_matrix,f1_score\n",
    "from sklearn.metrics import precision_recall_fscore_support, classification_report, accuracy_score, make_scorer\n",
    "\n",
    "from imblearn.over_sampling import SMOTE\n",
    "#from imblearn.pipeline import Pipeline \n",
    "from sklearn.feature_selection import SelectFromModel\n",
    "from sklearn.model_selection import StratifiedKFold\n",
    "from sklearn.model_selection import RandomizedSearchCV\n",
    "from sklearn.model_selection import cross_val_score\n",
    "from sklearn.metrics import roc_auc_score, make_scorer\n",
    "\n",
    "pd.set_option('display.float_format', lambda x: '%.3f' %x)\n",
    "pd.set_option('display.float_format', lambda x: '%.f' %x)\n",
    "from IPython.core.interactiveshell import InteractiveShell\n",
    "InteractiveShell.ast_node_interactivity = \"all\"\n",
    "pd.set_option('display.max_columns', None)  \n",
    "%matplotlib inline\n",
    "pd.options.display.float_format = '{:.3f}'.format\n",
    "\n",
    "import matplotlib.pyplot as plt\n",
    "plt.rcParams['figure.figsize'] = 10,8\n",
    "\n",
    "print('This file is located in the following directory: \\n'+os.getcwd())"
   ]
  },
  {
   "cell_type": "code",
   "execution_count": 27,
   "metadata": {
    "collapsed": false
   },
   "outputs": [
    {
     "data": {
      "text/html": [
       "<div>\n",
       "<style scoped>\n",
       "    .dataframe tbody tr th:only-of-type {\n",
       "        vertical-align: middle;\n",
       "    }\n",
       "\n",
       "    .dataframe tbody tr th {\n",
       "        vertical-align: top;\n",
       "    }\n",
       "\n",
       "    .dataframe thead th {\n",
       "        text-align: right;\n",
       "    }\n",
       "</style>\n",
       "<table border=\"1\" class=\"dataframe\">\n",
       "  <thead>\n",
       "    <tr style=\"text-align: right;\">\n",
       "      <th></th>\n",
       "      <th>Id</th>\n",
       "      <th>MSSubClass</th>\n",
       "      <th>MSZoning</th>\n",
       "      <th>LotFrontage</th>\n",
       "      <th>LotArea</th>\n",
       "      <th>Street</th>\n",
       "      <th>Alley</th>\n",
       "      <th>LotShape</th>\n",
       "      <th>LandContour</th>\n",
       "      <th>Utilities</th>\n",
       "      <th>LotConfig</th>\n",
       "      <th>LandSlope</th>\n",
       "      <th>Neighborhood</th>\n",
       "      <th>Condition1</th>\n",
       "      <th>Condition2</th>\n",
       "      <th>BldgType</th>\n",
       "      <th>HouseStyle</th>\n",
       "      <th>OverallQual</th>\n",
       "      <th>OverallCond</th>\n",
       "      <th>YearBuilt</th>\n",
       "      <th>YearRemodAdd</th>\n",
       "      <th>RoofStyle</th>\n",
       "      <th>RoofMatl</th>\n",
       "      <th>Exterior1st</th>\n",
       "      <th>Exterior2nd</th>\n",
       "      <th>MasVnrType</th>\n",
       "      <th>MasVnrArea</th>\n",
       "      <th>ExterQual</th>\n",
       "      <th>ExterCond</th>\n",
       "      <th>Foundation</th>\n",
       "      <th>BsmtQual</th>\n",
       "      <th>BsmtCond</th>\n",
       "      <th>BsmtExposure</th>\n",
       "      <th>BsmtFinType1</th>\n",
       "      <th>BsmtFinSF1</th>\n",
       "      <th>BsmtFinType2</th>\n",
       "      <th>BsmtFinSF2</th>\n",
       "      <th>BsmtUnfSF</th>\n",
       "      <th>TotalBsmtSF</th>\n",
       "      <th>Heating</th>\n",
       "      <th>HeatingQC</th>\n",
       "      <th>CentralAir</th>\n",
       "      <th>Electrical</th>\n",
       "      <th>1stFlrSF</th>\n",
       "      <th>2ndFlrSF</th>\n",
       "      <th>LowQualFinSF</th>\n",
       "      <th>GrLivArea</th>\n",
       "      <th>BsmtFullBath</th>\n",
       "      <th>BsmtHalfBath</th>\n",
       "      <th>FullBath</th>\n",
       "      <th>HalfBath</th>\n",
       "      <th>BedroomAbvGr</th>\n",
       "      <th>KitchenAbvGr</th>\n",
       "      <th>KitchenQual</th>\n",
       "      <th>TotRmsAbvGrd</th>\n",
       "      <th>Functional</th>\n",
       "      <th>Fireplaces</th>\n",
       "      <th>FireplaceQu</th>\n",
       "      <th>GarageType</th>\n",
       "      <th>GarageYrBlt</th>\n",
       "      <th>GarageFinish</th>\n",
       "      <th>GarageCars</th>\n",
       "      <th>GarageArea</th>\n",
       "      <th>GarageQual</th>\n",
       "      <th>GarageCond</th>\n",
       "      <th>PavedDrive</th>\n",
       "      <th>WoodDeckSF</th>\n",
       "      <th>OpenPorchSF</th>\n",
       "      <th>EnclosedPorch</th>\n",
       "      <th>3SsnPorch</th>\n",
       "      <th>ScreenPorch</th>\n",
       "      <th>PoolArea</th>\n",
       "      <th>PoolQC</th>\n",
       "      <th>Fence</th>\n",
       "      <th>MiscFeature</th>\n",
       "      <th>MiscVal</th>\n",
       "      <th>MoSold</th>\n",
       "      <th>YrSold</th>\n",
       "      <th>SaleType</th>\n",
       "      <th>SaleCondition</th>\n",
       "      <th>SalePrice</th>\n",
       "    </tr>\n",
       "  </thead>\n",
       "  <tbody>\n",
       "    <tr>\n",
       "      <th>0</th>\n",
       "      <td>1</td>\n",
       "      <td>60</td>\n",
       "      <td>RL</td>\n",
       "      <td>65.000</td>\n",
       "      <td>8450</td>\n",
       "      <td>Pave</td>\n",
       "      <td>NaN</td>\n",
       "      <td>Reg</td>\n",
       "      <td>Lvl</td>\n",
       "      <td>AllPub</td>\n",
       "      <td>Inside</td>\n",
       "      <td>Gtl</td>\n",
       "      <td>CollgCr</td>\n",
       "      <td>Norm</td>\n",
       "      <td>Norm</td>\n",
       "      <td>1Fam</td>\n",
       "      <td>2Story</td>\n",
       "      <td>7</td>\n",
       "      <td>5</td>\n",
       "      <td>2003</td>\n",
       "      <td>2003</td>\n",
       "      <td>Gable</td>\n",
       "      <td>CompShg</td>\n",
       "      <td>VinylSd</td>\n",
       "      <td>VinylSd</td>\n",
       "      <td>BrkFace</td>\n",
       "      <td>196.000</td>\n",
       "      <td>Gd</td>\n",
       "      <td>TA</td>\n",
       "      <td>PConc</td>\n",
       "      <td>Gd</td>\n",
       "      <td>TA</td>\n",
       "      <td>No</td>\n",
       "      <td>GLQ</td>\n",
       "      <td>706</td>\n",
       "      <td>Unf</td>\n",
       "      <td>0</td>\n",
       "      <td>150</td>\n",
       "      <td>856</td>\n",
       "      <td>GasA</td>\n",
       "      <td>Ex</td>\n",
       "      <td>Y</td>\n",
       "      <td>SBrkr</td>\n",
       "      <td>856</td>\n",
       "      <td>854</td>\n",
       "      <td>0</td>\n",
       "      <td>1710</td>\n",
       "      <td>1</td>\n",
       "      <td>0</td>\n",
       "      <td>2</td>\n",
       "      <td>1</td>\n",
       "      <td>3</td>\n",
       "      <td>1</td>\n",
       "      <td>Gd</td>\n",
       "      <td>8</td>\n",
       "      <td>Typ</td>\n",
       "      <td>0</td>\n",
       "      <td>NaN</td>\n",
       "      <td>Attchd</td>\n",
       "      <td>2003.000</td>\n",
       "      <td>RFn</td>\n",
       "      <td>2</td>\n",
       "      <td>548</td>\n",
       "      <td>TA</td>\n",
       "      <td>TA</td>\n",
       "      <td>Y</td>\n",
       "      <td>0</td>\n",
       "      <td>61</td>\n",
       "      <td>0</td>\n",
       "      <td>0</td>\n",
       "      <td>0</td>\n",
       "      <td>0</td>\n",
       "      <td>NaN</td>\n",
       "      <td>NaN</td>\n",
       "      <td>NaN</td>\n",
       "      <td>0</td>\n",
       "      <td>2</td>\n",
       "      <td>2008</td>\n",
       "      <td>WD</td>\n",
       "      <td>Normal</td>\n",
       "      <td>208500</td>\n",
       "    </tr>\n",
       "  </tbody>\n",
       "</table>\n",
       "</div>"
      ],
      "text/plain": [
       "   Id  MSSubClass MSZoning  LotFrontage  LotArea Street Alley LotShape  \\\n",
       "0   1          60       RL       65.000     8450   Pave   NaN      Reg   \n",
       "\n",
       "  LandContour Utilities LotConfig LandSlope Neighborhood Condition1  \\\n",
       "0         Lvl    AllPub    Inside       Gtl      CollgCr       Norm   \n",
       "\n",
       "  Condition2 BldgType HouseStyle  OverallQual  OverallCond  YearBuilt  \\\n",
       "0       Norm     1Fam     2Story            7            5       2003   \n",
       "\n",
       "   YearRemodAdd RoofStyle RoofMatl Exterior1st Exterior2nd MasVnrType  \\\n",
       "0          2003     Gable  CompShg     VinylSd     VinylSd    BrkFace   \n",
       "\n",
       "   MasVnrArea ExterQual ExterCond Foundation BsmtQual BsmtCond BsmtExposure  \\\n",
       "0     196.000        Gd        TA      PConc       Gd       TA           No   \n",
       "\n",
       "  BsmtFinType1  BsmtFinSF1 BsmtFinType2  BsmtFinSF2  BsmtUnfSF  TotalBsmtSF  \\\n",
       "0          GLQ         706          Unf           0        150          856   \n",
       "\n",
       "  Heating HeatingQC CentralAir Electrical  1stFlrSF  2ndFlrSF  LowQualFinSF  \\\n",
       "0    GasA        Ex          Y      SBrkr       856       854             0   \n",
       "\n",
       "   GrLivArea  BsmtFullBath  BsmtHalfBath  FullBath  HalfBath  BedroomAbvGr  \\\n",
       "0       1710             1             0         2         1             3   \n",
       "\n",
       "   KitchenAbvGr KitchenQual  TotRmsAbvGrd Functional  Fireplaces FireplaceQu  \\\n",
       "0             1          Gd             8        Typ           0         NaN   \n",
       "\n",
       "  GarageType  GarageYrBlt GarageFinish  GarageCars  GarageArea GarageQual  \\\n",
       "0     Attchd     2003.000          RFn           2         548         TA   \n",
       "\n",
       "  GarageCond PavedDrive  WoodDeckSF  OpenPorchSF  EnclosedPorch  3SsnPorch  \\\n",
       "0         TA          Y           0           61              0          0   \n",
       "\n",
       "   ScreenPorch  PoolArea PoolQC Fence MiscFeature  MiscVal  MoSold  YrSold  \\\n",
       "0            0         0    NaN   NaN         NaN        0       2    2008   \n",
       "\n",
       "  SaleType SaleCondition  SalePrice  \n",
       "0       WD        Normal     208500  "
      ]
     },
     "execution_count": 27,
     "metadata": {},
     "output_type": "execute_result"
    }
   ],
   "source": [
    "df = pd.read_csv('/Users/Work/Desktop/Work/Projects/Kaggle/House Prices-Advanced Regression Techniques /train.csv')\n",
    "df.head(1)"
   ]
  },
  {
   "cell_type": "markdown",
   "metadata": {},
   "source": [
    "# Examining and Cleaning the Data Prior to EDA \n",
    "(which is for assessing model predictability)"
   ]
  },
  {
   "cell_type": "markdown",
   "metadata": {},
   "source": [
    "### Dealing with Null Values\n",
    "\n",
    "Nulls can either be kept if they have predictive power, median/mean imputed, predicted via a method like Random Forests, or the column can be removed\n",
    "Inspect Nulls, Drop High % Nulls, Drop Id\n",
    "\n"
   ]
  },
  {
   "cell_type": "code",
   "execution_count": 11,
   "metadata": {
    "collapsed": false
   },
   "outputs": [
    {
     "data": {
      "text/plain": [
       "19"
      ]
     },
     "execution_count": 11,
     "metadata": {},
     "output_type": "execute_result"
    },
    {
     "data": {
      "text/html": [
       "<div>\n",
       "<style scoped>\n",
       "    .dataframe tbody tr th:only-of-type {\n",
       "        vertical-align: middle;\n",
       "    }\n",
       "\n",
       "    .dataframe tbody tr th {\n",
       "        vertical-align: top;\n",
       "    }\n",
       "\n",
       "    .dataframe thead th {\n",
       "        text-align: right;\n",
       "    }\n",
       "</style>\n",
       "<table border=\"1\" class=\"dataframe\">\n",
       "  <thead>\n",
       "    <tr style=\"text-align: right;\">\n",
       "      <th></th>\n",
       "      <th>PoolQC</th>\n",
       "      <th>MiscFeature</th>\n",
       "      <th>Alley</th>\n",
       "      <th>Fence</th>\n",
       "      <th>FireplaceQu</th>\n",
       "      <th>LotFrontage</th>\n",
       "      <th>GarageType</th>\n",
       "      <th>GarageYrBlt</th>\n",
       "    </tr>\n",
       "  </thead>\n",
       "  <tbody>\n",
       "    <tr>\n",
       "      <th>Nulls</th>\n",
       "      <td>0.995</td>\n",
       "      <td>0.963</td>\n",
       "      <td>0.938</td>\n",
       "      <td>0.808</td>\n",
       "      <td>0.473</td>\n",
       "      <td>0.177</td>\n",
       "      <td>0.055</td>\n",
       "      <td>0.055</td>\n",
       "    </tr>\n",
       "  </tbody>\n",
       "</table>\n",
       "</div>"
      ],
      "text/plain": [
       "       PoolQC  MiscFeature  Alley  Fence  FireplaceQu  LotFrontage  \\\n",
       "Nulls   0.995        0.963  0.938  0.808        0.473        0.177   \n",
       "\n",
       "       GarageType  GarageYrBlt  \n",
       "Nulls       0.055        0.055  "
      ]
     },
     "execution_count": 11,
     "metadata": {},
     "output_type": "execute_result"
    },
    {
     "data": {
      "text/html": [
       "<div>\n",
       "<style scoped>\n",
       "    .dataframe tbody tr th:only-of-type {\n",
       "        vertical-align: middle;\n",
       "    }\n",
       "\n",
       "    .dataframe tbody tr th {\n",
       "        vertical-align: top;\n",
       "    }\n",
       "\n",
       "    .dataframe thead th {\n",
       "        text-align: right;\n",
       "    }\n",
       "</style>\n",
       "<table border=\"1\" class=\"dataframe\">\n",
       "  <thead>\n",
       "    <tr style=\"text-align: right;\">\n",
       "      <th></th>\n",
       "      <th>PoolQC</th>\n",
       "      <th>MiscFeature</th>\n",
       "      <th>Alley</th>\n",
       "      <th>Fence</th>\n",
       "      <th>FireplaceQu</th>\n",
       "      <th>LotFrontage</th>\n",
       "      <th>GarageType</th>\n",
       "      <th>GarageYrBlt</th>\n",
       "    </tr>\n",
       "  </thead>\n",
       "  <tbody>\n",
       "    <tr>\n",
       "      <th>Nulls</th>\n",
       "      <td>1453</td>\n",
       "      <td>1406</td>\n",
       "      <td>1369</td>\n",
       "      <td>1179</td>\n",
       "      <td>690</td>\n",
       "      <td>259</td>\n",
       "      <td>81</td>\n",
       "      <td>81</td>\n",
       "    </tr>\n",
       "  </tbody>\n",
       "</table>\n",
       "</div>"
      ],
      "text/plain": [
       "       PoolQC  MiscFeature  Alley  Fence  FireplaceQu  LotFrontage  \\\n",
       "Nulls    1453         1406   1369   1179          690          259   \n",
       "\n",
       "       GarageType  GarageYrBlt  \n",
       "Nulls          81           81  "
      ]
     },
     "execution_count": 11,
     "metadata": {},
     "output_type": "execute_result"
    }
   ],
   "source": [
    "nulls=pd.DataFrame(df.isnull().sum(),columns=['Nulls'])\n",
    "nulls=nulls[nulls.Nulls>0]\n",
    "len(nulls)\n",
    "temp=nulls/len(df)\n",
    "temp.sort_values(by='Nulls',ascending=False)[:8].transpose()\n",
    "nulls.sort_values(by='Nulls',ascending=False)[:8].transpose()"
   ]
  },
  {
   "cell_type": "markdown",
   "metadata": {},
   "source": [
    "### Subsetting out Each Variable Type"
   ]
  },
  {
   "cell_type": "code",
   "execution_count": 64,
   "metadata": {
    "collapsed": true
   },
   "outputs": [],
   "source": [
    "#outcome excluded\n",
    "df2=df.drop(['PoolQC','MiscFeature','Alley','Fence','FireplaceQu','Id'],axis=1) #remove cols w >40% nulls\n",
    "\n",
    "df2_numeric=df2[[\n",
    "'LotFrontage',\n",
    "'LotArea',\n",
    "'MasVnrArea',\n",
    "'BsmtFinSF1',\n",
    "'TotalBsmtSF',\n",
    "'1stFlrSF',\n",
    "'2ndFlrSF',\n",
    "'LowQualFinSF',\n",
    "'GrLivArea',\n",
    "'GarageArea',\n",
    "'WoodDeckSF',\n",
    "'OpenPorchSF',\n",
    "'EnclosedPorch',\n",
    "'3SsnPorch',\n",
    "'ScreenPorch',\n",
    "'PoolArea',\n",
    "'MiscVal']]\n",
    "\n",
    "df2_discrete=df2[[\n",
    "'BsmtFullBath',\n",
    "'BsmtHalfBath',\n",
    "'FullBath',\n",
    "'HalfBath',\n",
    "'BedroomAbvGr',\n",
    "'KitchenAbvGr',\n",
    "'TotRmsAbvGrd',\n",
    "'Fireplaces',\n",
    "'GarageCars']]\n",
    "\n",
    "df2_nominal=df2[[\n",
    "'MSSubClass',\n",
    "'MSZoning',\n",
    "'LotShape',\n",
    "'LandContour',\n",
    "'Utilities',\n",
    "'LotConfig',\n",
    "'LandSlope',\n",
    "'Neighborhood',\n",
    "'Condition1',\n",
    "'Condition2',\n",
    "'BldgType',\n",
    "'HouseStyle',\n",
    "'RoofStyle',\n",
    "'RoofMatl',\n",
    "'Heating',\n",
    "'Exterior1st',\n",
    "'Exterior2nd',\n",
    "'MasVnrType',\n",
    "'Foundation',\n",
    "'Electrical',\n",
    "'Functional',\n",
    "'GarageType',\n",
    "'GarageFinish',\n",
    "'PavedDrive',\n",
    "'SaleType',\n",
    "'SaleCondition',\n",
    "'BsmtFinType2',\n",
    "'BsmtFinType1',\n",
    "'Street',\n",
    "'CentralAir'\n",
    "]]\n",
    "\n",
    "df2_ordinal=df[[\n",
    "'BsmtQual',\n",
    "'BsmtCond',\n",
    "'BsmtExposure',\n",
    "'HeatingQC',\n",
    "'KitchenQual',\n",
    "'GarageQual',\n",
    "'GarageCond',\n",
    "'OverallQual',\n",
    "'OverallCond',\n",
    "'ExterQual',\n",
    "'ExterCond'    \n",
    "]]\n",
    "\n",
    "df2_date=df[[\n",
    "'YearBuilt',\n",
    "'YearRemodAdd',\n",
    "'GarageYrBlt',\n",
    "'MoSold',\n",
    "'YrSold'\n",
    "]]\n",
    "\n",
    "df2_ordinal=df2_ordinal.apply(lambda x: x.astype('str'))"
   ]
  },
  {
   "cell_type": "markdown",
   "metadata": {},
   "source": [
    "### Checking the Data for Reasonability"
   ]
  },
  {
   "cell_type": "code",
   "execution_count": 15,
   "metadata": {
    "collapsed": true
   },
   "outputs": [
    {
     "name": "stderr",
     "output_type": "stream",
     "text": [
      "/Users/Work/anaconda/lib/python2.7/site-packages/seaborn/categorical.py:454: FutureWarning: remove_na is deprecated and is a private function. Do not use.\n",
      "  box_data = remove_na(group_data)\n"
     ]
    },
    {
     "data": {
      "text/plain": [
       "<matplotlib.axes._subplots.AxesSubplot at 0x11d58c090>"
      ]
     },
     "execution_count": 15,
     "metadata": {},
     "output_type": "execute_result"
    },
    {
     "data": {
      "image/png": "[encoded data removed]",
      "text/plain": [
       "<matplotlib.figure.Figure at 0x11d585e10>"
      ]
     },
     "metadata": {},
     "output_type": "display_data"
    }
   ],
   "source": [
    "#df2['SalePrice'].plot(kind='box')\n",
    "fig, axes = plt.subplots(1,1,figsize=(3,9))\n",
    "sns.boxplot(data=df2['SalePrice'])"
   ]
  },
  {
   "cell_type": "code",
   "execution_count": 16,
   "metadata": {
    "collapsed": true
   },
   "outputs": [
    {
     "data": {
      "text/plain": [
       "array([[<matplotlib.axes._subplots.AxesSubplot object at 0x11e045e90>,\n",
       "        <matplotlib.axes._subplots.AxesSubplot object at 0x11e131610>,\n",
       "        <matplotlib.axes._subplots.AxesSubplot object at 0x11e1b6810>,\n",
       "        <matplotlib.axes._subplots.AxesSubplot object at 0x11e2282d0>],\n",
       "       [<matplotlib.axes._subplots.AxesSubplot object at 0x11e2ae4d0>,\n",
       "        <matplotlib.axes._subplots.AxesSubplot object at 0x11e2e6f50>,\n",
       "        <matplotlib.axes._subplots.AxesSubplot object at 0x11e376190>,\n",
       "        <matplotlib.axes._subplots.AxesSubplot object at 0x11e3cfcd0>],\n",
       "       [<matplotlib.axes._subplots.AxesSubplot object at 0x11e46c190>,\n",
       "        <matplotlib.axes._subplots.AxesSubplot object at 0x11e47a650>,\n",
       "        <matplotlib.axes._subplots.AxesSubplot object at 0x11e5650d0>,\n",
       "        <matplotlib.axes._subplots.AxesSubplot object at 0x11e5ec050>],\n",
       "       [<matplotlib.axes._subplots.AxesSubplot object at 0x11e64ee10>,\n",
       "        <matplotlib.axes._subplots.AxesSubplot object at 0x11e6d5e90>,\n",
       "        <matplotlib.axes._subplots.AxesSubplot object at 0x11e749750>,\n",
       "        <matplotlib.axes._subplots.AxesSubplot object at 0x11e7ce890>],\n",
       "       [<matplotlib.axes._subplots.AxesSubplot object at 0x11e843090>,\n",
       "        <matplotlib.axes._subplots.AxesSubplot object at 0x11e8c6350>,\n",
       "        <matplotlib.axes._subplots.AxesSubplot object at 0x11e92cdd0>,\n",
       "        <matplotlib.axes._subplots.AxesSubplot object at 0x11e9bf0d0>]],\n",
       "      dtype=object)"
      ]
     },
     "execution_count": 16,
     "metadata": {},
     "output_type": "execute_result"
    },
    {
     "data": {
      "image/png": "[encoded data removed]",
      "text/plain": [
       "<matplotlib.figure.Figure at 0x11e0349d0>"
      ]
     },
     "metadata": {},
     "output_type": "display_data"
    }
   ],
   "source": [
    "df2_numeric.hist(figsize=(14,12))"
   ]
  },
  {
   "cell_type": "code",
   "execution_count": 17,
   "metadata": {
    "collapsed": true
   },
   "outputs": [
    {
     "data": {
      "text/plain": [
       "LotFrontage         Axes(0.125,0.749828;0.168478x0.130172)\n",
       "LotArea          Axes(0.327174,0.749828;0.168478x0.130172)\n",
       "MasVnrArea       Axes(0.529348,0.749828;0.168478x0.130172)\n",
       "BsmtFinSF1       Axes(0.731522,0.749828;0.168478x0.130172)\n",
       "TotalBsmtSF         Axes(0.125,0.593621;0.168478x0.130172)\n",
       "1stFlrSF         Axes(0.327174,0.593621;0.168478x0.130172)\n",
       "2ndFlrSF         Axes(0.529348,0.593621;0.168478x0.130172)\n",
       "LowQualFinSF     Axes(0.731522,0.593621;0.168478x0.130172)\n",
       "GrLivArea           Axes(0.125,0.437414;0.168478x0.130172)\n",
       "GarageArea       Axes(0.327174,0.437414;0.168478x0.130172)\n",
       "WoodDeckSF       Axes(0.529348,0.437414;0.168478x0.130172)\n",
       "OpenPorchSF      Axes(0.731522,0.437414;0.168478x0.130172)\n",
       "EnclosedPorch       Axes(0.125,0.281207;0.168478x0.130172)\n",
       "3SsnPorch        Axes(0.327174,0.281207;0.168478x0.130172)\n",
       "ScreenPorch      Axes(0.529348,0.281207;0.168478x0.130172)\n",
       "PoolArea         Axes(0.731522,0.281207;0.168478x0.130172)\n",
       "MiscVal                Axes(0.125,0.125;0.168478x0.130172)\n",
       "dtype: object"
      ]
     },
     "execution_count": 17,
     "metadata": {},
     "output_type": "execute_result"
    },
    {
     "data": {
      "image/png": "[encoded data removed]",
      "text/plain": [
       "<matplotlib.figure.Figure at 0x11edf4310>"
      ]
     },
     "metadata": {},
     "output_type": "display_data"
    }
   ],
   "source": [
    "df2_numeric.plot(kind='box', subplots=True, layout=(5,4), sharex=False, sharey=False,figsize=(15,15))"
   ]
  },
  {
   "cell_type": "markdown",
   "metadata": {},
   "source": [
    "Inspecting the below:\n",
    "\n",
    "1. There are no negative values in the numerics, which makes sense. \n",
    "2. 1stFlrSF (square footage of 1st floor) has a min greater than zero which makes sense.\n",
    "3. 2sndFlrSF (square footage of 2nd floor) has a min of zero indicating some placees do not have second floors, which makes sense.\n",
    "\n"
   ]
  },
  {
   "cell_type": "code",
   "execution_count": 18,
   "metadata": {
    "collapsed": false
   },
   "outputs": [
    {
     "data": {
      "text/html": [
       "<div>\n",
       "<style scoped>\n",
       "    .dataframe tbody tr th:only-of-type {\n",
       "        vertical-align: middle;\n",
       "    }\n",
       "\n",
       "    .dataframe tbody tr th {\n",
       "        vertical-align: top;\n",
       "    }\n",
       "\n",
       "    .dataframe thead th {\n",
       "        text-align: right;\n",
       "    }\n",
       "</style>\n",
       "<table border=\"1\" class=\"dataframe\">\n",
       "  <thead>\n",
       "    <tr style=\"text-align: right;\">\n",
       "      <th></th>\n",
       "      <th>LotFrontage</th>\n",
       "      <th>LotArea</th>\n",
       "      <th>MasVnrArea</th>\n",
       "      <th>BsmtFinSF1</th>\n",
       "      <th>TotalBsmtSF</th>\n",
       "      <th>1stFlrSF</th>\n",
       "      <th>2ndFlrSF</th>\n",
       "      <th>LowQualFinSF</th>\n",
       "      <th>GrLivArea</th>\n",
       "      <th>GarageArea</th>\n",
       "      <th>WoodDeckSF</th>\n",
       "      <th>OpenPorchSF</th>\n",
       "      <th>EnclosedPorch</th>\n",
       "      <th>3SsnPorch</th>\n",
       "      <th>ScreenPorch</th>\n",
       "      <th>PoolArea</th>\n",
       "      <th>MiscVal</th>\n",
       "    </tr>\n",
       "  </thead>\n",
       "  <tbody>\n",
       "    <tr>\n",
       "      <th>count</th>\n",
       "      <td>1201.000</td>\n",
       "      <td>1460.000</td>\n",
       "      <td>1452.000</td>\n",
       "      <td>1460.000</td>\n",
       "      <td>1460.000</td>\n",
       "      <td>1460.000</td>\n",
       "      <td>1460.000</td>\n",
       "      <td>1460.000</td>\n",
       "      <td>1460.000</td>\n",
       "      <td>1460.000</td>\n",
       "      <td>1460.000</td>\n",
       "      <td>1460.000</td>\n",
       "      <td>1460.000</td>\n",
       "      <td>1460.000</td>\n",
       "      <td>1460.000</td>\n",
       "      <td>1460.000</td>\n",
       "      <td>1460.000</td>\n",
       "    </tr>\n",
       "    <tr>\n",
       "      <th>mean</th>\n",
       "      <td>70.050</td>\n",
       "      <td>10516.828</td>\n",
       "      <td>103.685</td>\n",
       "      <td>443.640</td>\n",
       "      <td>1057.429</td>\n",
       "      <td>1162.627</td>\n",
       "      <td>346.992</td>\n",
       "      <td>5.845</td>\n",
       "      <td>1515.464</td>\n",
       "      <td>472.980</td>\n",
       "      <td>94.245</td>\n",
       "      <td>46.660</td>\n",
       "      <td>21.954</td>\n",
       "      <td>3.410</td>\n",
       "      <td>15.061</td>\n",
       "      <td>2.759</td>\n",
       "      <td>43.489</td>\n",
       "    </tr>\n",
       "    <tr>\n",
       "      <th>std</th>\n",
       "      <td>24.285</td>\n",
       "      <td>9981.265</td>\n",
       "      <td>181.066</td>\n",
       "      <td>456.098</td>\n",
       "      <td>438.705</td>\n",
       "      <td>386.588</td>\n",
       "      <td>436.528</td>\n",
       "      <td>48.623</td>\n",
       "      <td>525.480</td>\n",
       "      <td>213.805</td>\n",
       "      <td>125.339</td>\n",
       "      <td>66.256</td>\n",
       "      <td>61.119</td>\n",
       "      <td>29.317</td>\n",
       "      <td>55.757</td>\n",
       "      <td>40.177</td>\n",
       "      <td>496.123</td>\n",
       "    </tr>\n",
       "    <tr>\n",
       "      <th>min</th>\n",
       "      <td>21.000</td>\n",
       "      <td>1300.000</td>\n",
       "      <td>0.000</td>\n",
       "      <td>0.000</td>\n",
       "      <td>0.000</td>\n",
       "      <td>334.000</td>\n",
       "      <td>0.000</td>\n",
       "      <td>0.000</td>\n",
       "      <td>334.000</td>\n",
       "      <td>0.000</td>\n",
       "      <td>0.000</td>\n",
       "      <td>0.000</td>\n",
       "      <td>0.000</td>\n",
       "      <td>0.000</td>\n",
       "      <td>0.000</td>\n",
       "      <td>0.000</td>\n",
       "      <td>0.000</td>\n",
       "    </tr>\n",
       "    <tr>\n",
       "      <th>25%</th>\n",
       "      <td>59.000</td>\n",
       "      <td>7553.500</td>\n",
       "      <td>0.000</td>\n",
       "      <td>0.000</td>\n",
       "      <td>795.750</td>\n",
       "      <td>882.000</td>\n",
       "      <td>0.000</td>\n",
       "      <td>0.000</td>\n",
       "      <td>1129.500</td>\n",
       "      <td>334.500</td>\n",
       "      <td>0.000</td>\n",
       "      <td>0.000</td>\n",
       "      <td>0.000</td>\n",
       "      <td>0.000</td>\n",
       "      <td>0.000</td>\n",
       "      <td>0.000</td>\n",
       "      <td>0.000</td>\n",
       "    </tr>\n",
       "    <tr>\n",
       "      <th>50%</th>\n",
       "      <td>69.000</td>\n",
       "      <td>9478.500</td>\n",
       "      <td>0.000</td>\n",
       "      <td>383.500</td>\n",
       "      <td>991.500</td>\n",
       "      <td>1087.000</td>\n",
       "      <td>0.000</td>\n",
       "      <td>0.000</td>\n",
       "      <td>1464.000</td>\n",
       "      <td>480.000</td>\n",
       "      <td>0.000</td>\n",
       "      <td>25.000</td>\n",
       "      <td>0.000</td>\n",
       "      <td>0.000</td>\n",
       "      <td>0.000</td>\n",
       "      <td>0.000</td>\n",
       "      <td>0.000</td>\n",
       "    </tr>\n",
       "    <tr>\n",
       "      <th>75%</th>\n",
       "      <td>80.000</td>\n",
       "      <td>11601.500</td>\n",
       "      <td>166.000</td>\n",
       "      <td>712.250</td>\n",
       "      <td>1298.250</td>\n",
       "      <td>1391.250</td>\n",
       "      <td>728.000</td>\n",
       "      <td>0.000</td>\n",
       "      <td>1776.750</td>\n",
       "      <td>576.000</td>\n",
       "      <td>168.000</td>\n",
       "      <td>68.000</td>\n",
       "      <td>0.000</td>\n",
       "      <td>0.000</td>\n",
       "      <td>0.000</td>\n",
       "      <td>0.000</td>\n",
       "      <td>0.000</td>\n",
       "    </tr>\n",
       "    <tr>\n",
       "      <th>max</th>\n",
       "      <td>313.000</td>\n",
       "      <td>215245.000</td>\n",
       "      <td>1600.000</td>\n",
       "      <td>5644.000</td>\n",
       "      <td>6110.000</td>\n",
       "      <td>4692.000</td>\n",
       "      <td>2065.000</td>\n",
       "      <td>572.000</td>\n",
       "      <td>5642.000</td>\n",
       "      <td>1418.000</td>\n",
       "      <td>857.000</td>\n",
       "      <td>547.000</td>\n",
       "      <td>552.000</td>\n",
       "      <td>508.000</td>\n",
       "      <td>480.000</td>\n",
       "      <td>738.000</td>\n",
       "      <td>15500.000</td>\n",
       "    </tr>\n",
       "  </tbody>\n",
       "</table>\n",
       "</div>"
      ],
      "text/plain": [
       "       LotFrontage    LotArea  MasVnrArea  BsmtFinSF1  TotalBsmtSF  1stFlrSF  \\\n",
       "count     1201.000   1460.000    1452.000    1460.000     1460.000  1460.000   \n",
       "mean        70.050  10516.828     103.685     443.640     1057.429  1162.627   \n",
       "std         24.285   9981.265     181.066     456.098      438.705   386.588   \n",
       "min         21.000   1300.000       0.000       0.000        0.000   334.000   \n",
       "25%         59.000   7553.500       0.000       0.000      795.750   882.000   \n",
       "50%         69.000   9478.500       0.000     383.500      991.500  1087.000   \n",
       "75%         80.000  11601.500     166.000     712.250     1298.250  1391.250   \n",
       "max        313.000 215245.000    1600.000    5644.000     6110.000  4692.000   \n",
       "\n",
       "       2ndFlrSF  LowQualFinSF  GrLivArea  GarageArea  WoodDeckSF  OpenPorchSF  \\\n",
       "count  1460.000      1460.000   1460.000    1460.000    1460.000     1460.000   \n",
       "mean    346.992         5.845   1515.464     472.980      94.245       46.660   \n",
       "std     436.528        48.623    525.480     213.805     125.339       66.256   \n",
       "min       0.000         0.000    334.000       0.000       0.000        0.000   \n",
       "25%       0.000         0.000   1129.500     334.500       0.000        0.000   \n",
       "50%       0.000         0.000   1464.000     480.000       0.000       25.000   \n",
       "75%     728.000         0.000   1776.750     576.000     168.000       68.000   \n",
       "max    2065.000       572.000   5642.000    1418.000     857.000      547.000   \n",
       "\n",
       "       EnclosedPorch  3SsnPorch  ScreenPorch  PoolArea   MiscVal  \n",
       "count       1460.000   1460.000     1460.000  1460.000  1460.000  \n",
       "mean          21.954      3.410       15.061     2.759    43.489  \n",
       "std           61.119     29.317       55.757    40.177   496.123  \n",
       "min            0.000      0.000        0.000     0.000     0.000  \n",
       "25%            0.000      0.000        0.000     0.000     0.000  \n",
       "50%            0.000      0.000        0.000     0.000     0.000  \n",
       "75%            0.000      0.000        0.000     0.000     0.000  \n",
       "max          552.000    508.000      480.000   738.000 15500.000  "
      ]
     },
     "execution_count": 18,
     "metadata": {},
     "output_type": "execute_result"
    }
   ],
   "source": [
    "df2_numeric.describe()"
   ]
  },
  {
   "cell_type": "markdown",
   "metadata": {},
   "source": [
    "### Label Encode the Ordinal Data"
   ]
  },
  {
   "cell_type": "code",
   "execution_count": 117,
   "metadata": {
    "collapsed": true
   },
   "outputs": [],
   "source": [
    "df2_ordinal_encoded=copy.deepcopy(df2_ordinal)\n",
    "\n",
    "def label_encode(col):\n",
    "    if col =='Ex':\n",
    "        return 5\n",
    "    elif col=='Gd':\n",
    "        return 4\n",
    "    elif col=='TA':\n",
    "        return 3\n",
    "    elif col=='Fa':\n",
    "        return 2\n",
    "    elif col=='Po':\n",
    "        return 1\n",
    "    elif col=='NA':\n",
    "        return 0\n",
    "    elif col=='nan':\n",
    "        return 'nan'\n",
    "    else: \n",
    "        return 'WHAT HAPPENED?'\n",
    "\n",
    "def bsmtexposure_encode(col):\n",
    "    if col=='Gd':\n",
    "        return 4\n",
    "    elif col=='Av':\n",
    "        return 3\n",
    "    elif col=='Mn':\n",
    "        return 2\n",
    "    elif col=='No':\n",
    "        return 1\n",
    "    elif col=='NA':\n",
    "        return 0\n",
    "    elif col=='nan':\n",
    "        return 'nan'\n",
    "    else: \n",
    "        return 'WHAT HAPPENED?'\n",
    "    \n",
    "for j in range(len(df2_ordinal_encoded.columns)):\n",
    "    if df2_ordinal_encoded.columns[j] in ['OverallQual', 'OverallCond']:\n",
    "        df2_ordinal_encoded.iloc[:,j]=df2_ordinal.iloc[:,j]\n",
    "    elif df2_ordinal_encoded.columns[j] !='BsmtExposure':\n",
    "        df2_ordinal_encoded.iloc[:,j]=df2_ordinal.iloc[:,j].apply(label_encode) \n",
    "    elif df2_ordinal_encoded.columns[j] =='BsmtExposure':\n",
    "        df2_ordinal_encoded.iloc[:,j]=df2_ordinal.iloc[:,j].apply(bsmtexposure_encode)"
   ]
  },
  {
   "cell_type": "code",
   "execution_count": 118,
   "metadata": {
    "collapsed": false
   },
   "outputs": [
    {
     "data": {
      "text/plain": [
       "BsmtQual        float64\n",
       "BsmtCond        float64\n",
       "BsmtExposure    float64\n",
       "HeatingQC         int64\n",
       "KitchenQual       int64\n",
       "GarageQual      float64\n",
       "GarageCond      float64\n",
       "OverallQual      object\n",
       "OverallCond      object\n",
       "ExterQual         int64\n",
       "ExterCond         int64\n",
       "dtype: object"
      ]
     },
     "execution_count": 118,
     "metadata": {},
     "output_type": "execute_result"
    }
   ],
   "source": [
    "df2_ordinal_encoded2.dtypes"
   ]
  },
  {
   "cell_type": "code",
   "execution_count": 111,
   "metadata": {
    "collapsed": true
   },
   "outputs": [
    {
     "data": {
      "text/plain": [
       "0       5\n",
       "1       8\n",
       "2       5\n",
       "3       5\n",
       "4       5\n",
       "5       5\n",
       "6       5\n",
       "7       6\n",
       "8       5\n",
       "9       6\n",
       "10      5\n",
       "11      5\n",
       "12      6\n",
       "13      5\n",
       "14      5\n",
       "15      8\n",
       "16      7\n",
       "17      5\n",
       "18      5\n",
       "19      6\n",
       "20      5\n",
       "21      7\n",
       "22      5\n",
       "23      7\n",
       "24      8\n",
       "25      5\n",
       "26      7\n",
       "27      5\n",
       "28      6\n",
       "29      6\n",
       "       ..\n",
       "1430    5\n",
       "1431    6\n",
       "1432    6\n",
       "1433    5\n",
       "1434    5\n",
       "1435    9\n",
       "1436    6\n",
       "1437    5\n",
       "1438    7\n",
       "1439    6\n",
       "1440    7\n",
       "1441    5\n",
       "1442    5\n",
       "1443    6\n",
       "1444    5\n",
       "1445    5\n",
       "1446    7\n",
       "1447    5\n",
       "1448    7\n",
       "1449    7\n",
       "1450    5\n",
       "1451    5\n",
       "1452    5\n",
       "1453    5\n",
       "1454    5\n",
       "1455    5\n",
       "1456    6\n",
       "1457    9\n",
       "1458    6\n",
       "1459    6\n",
       "Name: OverallCond, Length: 1460, dtype: int64"
      ]
     },
     "execution_count": 111,
     "metadata": {},
     "output_type": "execute_result"
    }
   ],
   "source": [
    "df2_ordinal_encoded2[\"OverallCond\"].astype('int64')"
   ]
  },
  {
   "cell_type": "code",
   "execution_count": 105,
   "metadata": {
    "collapsed": false
   },
   "outputs": [
    {
     "data": {
      "text/plain": [
       "1.000    953\n",
       "3.000    221\n",
       "4.000    134\n",
       "2.000    114\n",
       "Name: BsmtExposure, dtype: int64"
      ]
     },
     "execution_count": 105,
     "metadata": {},
     "output_type": "execute_result"
    }
   ],
   "source": [
    "df2_numeric_ordinal_encoded_outcome['BsmtExposure'].value_counts()"
   ]
  },
  {
   "cell_type": "code",
   "execution_count": 98,
   "metadata": {
    "collapsed": true
   },
   "outputs": [
    {
     "data": {
      "text/plain": [
       "SalePrice          int64\n",
       "LotFrontage      float64\n",
       "LotArea            int64\n",
       "MasVnrArea       float64\n",
       "BsmtFinSF1         int64\n",
       "TotalBsmtSF        int64\n",
       "1stFlrSF           int64\n",
       "2ndFlrSF           int64\n",
       "LowQualFinSF       int64\n",
       "GrLivArea          int64\n",
       "GarageArea         int64\n",
       "WoodDeckSF         int64\n",
       "OpenPorchSF        int64\n",
       "EnclosedPorch      int64\n",
       "3SsnPorch          int64\n",
       "ScreenPorch        int64\n",
       "PoolArea           int64\n",
       "MiscVal            int64\n",
       "BsmtQual         float64\n",
       "BsmtCond         float64\n",
       "BsmtExposure     float64\n",
       "HeatingQC          int64\n",
       "KitchenQual        int64\n",
       "GarageQual       float64\n",
       "GarageCond       float64\n",
       "OverallQual       object\n",
       "OverallCond       object\n",
       "ExterQual          int64\n",
       "ExterCond          int64\n",
       "dtype: object"
      ]
     },
     "execution_count": 98,
     "metadata": {},
     "output_type": "execute_result"
    }
   ],
   "source": [
    "#df2_ordinal_encoded.dtypes\n",
    "df2_numeric_ordinal_encoded_outcome.dtypes"
   ]
  },
  {
   "cell_type": "markdown",
   "metadata": {},
   "source": [
    "As shown below, ordinals with nans that thus need to be median imputed: <br>\n",
    "BsmtQual, BsmtCond, BsmtExposure, GarageQual, FireplaceQu, GarageCond, PoolQC"
   ]
  },
  {
   "cell_type": "code",
   "execution_count": 38,
   "metadata": {
    "collapsed": true
   },
   "outputs": [
    {
     "data": {
      "text/plain": [
       "3      649\n",
       "4      618\n",
       "5      121\n",
       "nan     37\n",
       "2       35\n",
       "Name: BsmtQual, dtype: int64"
      ]
     },
     "execution_count": 38,
     "metadata": {},
     "output_type": "execute_result"
    },
    {
     "data": {
      "text/plain": [
       "3      1311\n",
       "4        65\n",
       "2        45\n",
       "nan      37\n",
       "1         2\n",
       "Name: BsmtCond, dtype: int64"
      ]
     },
     "execution_count": 38,
     "metadata": {},
     "output_type": "execute_result"
    },
    {
     "data": {
      "text/plain": [
       "1      953\n",
       "3      221\n",
       "4      134\n",
       "2      114\n",
       "nan     38\n",
       "Name: BsmtExposure, dtype: int64"
      ]
     },
     "execution_count": 38,
     "metadata": {},
     "output_type": "execute_result"
    },
    {
     "data": {
      "text/plain": [
       "5    741\n",
       "3    428\n",
       "4    241\n",
       "2     49\n",
       "1      1\n",
       "Name: HeatingQC, dtype: int64"
      ]
     },
     "execution_count": 38,
     "metadata": {},
     "output_type": "execute_result"
    },
    {
     "data": {
      "text/plain": [
       "3    735\n",
       "4    586\n",
       "5    100\n",
       "2     39\n",
       "Name: KitchenQual, dtype: int64"
      ]
     },
     "execution_count": 38,
     "metadata": {},
     "output_type": "execute_result"
    },
    {
     "data": {
      "text/plain": [
       "3      1311\n",
       "nan      81\n",
       "2        48\n",
       "4        14\n",
       "5         3\n",
       "1         3\n",
       "Name: GarageQual, dtype: int64"
      ]
     },
     "execution_count": 38,
     "metadata": {},
     "output_type": "execute_result"
    },
    {
     "data": {
      "text/plain": [
       "3      1326\n",
       "nan      81\n",
       "2        35\n",
       "4         9\n",
       "1         7\n",
       "5         2\n",
       "Name: GarageCond, dtype: int64"
      ]
     },
     "execution_count": 38,
     "metadata": {},
     "output_type": "execute_result"
    },
    {
     "data": {
      "text/plain": [
       "5     397\n",
       "6     374\n",
       "7     319\n",
       "8     168\n",
       "4     116\n",
       "9      43\n",
       "3      20\n",
       "10     18\n",
       "2       3\n",
       "1       2\n",
       "Name: OverallQual, dtype: int64"
      ]
     },
     "execution_count": 38,
     "metadata": {},
     "output_type": "execute_result"
    },
    {
     "data": {
      "text/plain": [
       "5    821\n",
       "6    252\n",
       "7    205\n",
       "8     72\n",
       "4     57\n",
       "3     25\n",
       "9     22\n",
       "2      5\n",
       "1      1\n",
       "Name: OverallCond, dtype: int64"
      ]
     },
     "execution_count": 38,
     "metadata": {},
     "output_type": "execute_result"
    },
    {
     "data": {
      "text/plain": [
       "3    906\n",
       "4    488\n",
       "5     52\n",
       "2     14\n",
       "Name: ExterQual, dtype: int64"
      ]
     },
     "execution_count": 38,
     "metadata": {},
     "output_type": "execute_result"
    },
    {
     "data": {
      "text/plain": [
       "3    1282\n",
       "4     146\n",
       "2      28\n",
       "5       3\n",
       "1       1\n",
       "Name: ExterCond, dtype: int64"
      ]
     },
     "execution_count": 38,
     "metadata": {},
     "output_type": "execute_result"
    }
   ],
   "source": [
    "#Checking encoded variable values\n",
    "for j in range(len(df2_ordinal_encoded.columns)):\n",
    "    df2_ordinal_encoded.iloc[:,j].value_counts()"
   ]
  },
  {
   "cell_type": "markdown",
   "metadata": {},
   "source": [
    "# Exploratory Data Analysis"
   ]
  },
  {
   "cell_type": "markdown",
   "metadata": {},
   "source": [
    "Below, observe that\n",
    "\n",
    "1.  9 numeric/ordinal predictors are at least moderately correlated with the outcome (>|.5|)\n",
    "2.  2 of these predictors are strongly, positively correlated (>|.7|)"
   ]
  },
  {
   "cell_type": "markdown",
   "metadata": {},
   "source": [
    "### Numeric and Ordinal (treated as numeric) Correlations"
   ]
  },
  {
   "cell_type": "markdown",
   "metadata": {},
   "source": [
    "Pandas corr() method needs non-object datatypes (float64 or int64(.  I replace the variables with 'nan' strings to have np.Nan's, which automatically converts them float64.  Vars without nan's are still not converted, however (OverallQual and OverallCond), so I then convert them using the .astype() method."
   ]
  },
  {
   "cell_type": "code",
   "execution_count": 135,
   "metadata": {
    "collapsed": true
   },
   "outputs": [],
   "source": [
    "df2_ordinal_encoded2=df2_ordinal_encoded.replace('nan',np.nan)  #convert vars to float\n",
    "df2_ordinal_encoded2=df2_ordinal_encoded2.astype('float64')  #convert vars to float\n",
    "\n",
    "df2_numeric_ordinal_encoded_outcome=pd.concat([df2['SalePrice'],df2_numeric,df2_ordinal_encoded2],axis=1)\n",
    "df2_discrete_outcome=pd.concat([df2['SalePrice'],df2_discrete],axis=1)"
   ]
  },
  {
   "cell_type": "code",
   "execution_count": 136,
   "metadata": {
    "collapsed": true
   },
   "outputs": [
    {
     "data": {
      "text/plain": [
       "GarageCars      0.691\n",
       "FullBath        0.636\n",
       "TotRmsAbvGrd    0.533\n",
       "Fireplaces      0.519\n",
       "HalfBath        0.343\n",
       "BedroomAbvGr    0.235\n",
       "BsmtFullBath    0.225\n",
       "BsmtHalfBath   -0.012\n",
       "KitchenAbvGr   -0.165\n",
       "Name: SalePrice, dtype: float64"
      ]
     },
     "execution_count": 136,
     "metadata": {},
     "output_type": "execute_result"
    }
   ],
   "source": [
    "df2_discrete_outcome.corr(method='spearman')['SalePrice'].sort_values(ascending=False).drop(['SalePrice'])"
   ]
  },
  {
   "cell_type": "code",
   "execution_count": 137,
   "metadata": {
    "collapsed": true
   },
   "outputs": [
    {
     "data": {
      "text/plain": [
       "OverallQual      0.810\n",
       "GrLivArea        0.731\n",
       "ExterQual        0.684\n",
       "KitchenQual      0.673\n",
       "BsmtQual         0.664\n",
       "GarageArea       0.649\n",
       "TotalBsmtSF      0.603\n",
       "1stFlrSF         0.575\n",
       "HeatingQC        0.491\n",
       "OpenPorchSF      0.478\n",
       "LotArea          0.456\n",
       "MasVnrArea       0.421\n",
       "LotFrontage      0.409\n",
       "WoodDeckSF       0.354\n",
       "BsmtExposure     0.305\n",
       "BsmtFinSF1       0.302\n",
       "2ndFlrSF         0.294\n",
       "GarageQual       0.197\n",
       "BsmtCond         0.196\n",
       "GarageCond       0.171\n",
       "ScreenPorch      0.100\n",
       "3SsnPorch        0.065\n",
       "PoolArea         0.058\n",
       "ExterCond        0.012\n",
       "MiscVal         -0.063\n",
       "LowQualFinSF    -0.068\n",
       "OverallCond     -0.129\n",
       "EnclosedPorch   -0.218\n",
       "Name: SalePrice, dtype: float64"
      ]
     },
     "execution_count": 137,
     "metadata": {},
     "output_type": "execute_result"
    }
   ],
   "source": [
    "df2_numeric_ordinal_encoded_outcome.corr(method='spearman')['SalePrice'].sort_values(ascending=False).drop(['SalePrice'])"
   ]
  },
  {
   "cell_type": "code",
   "execution_count": 134,
   "metadata": {
    "collapsed": false
   },
   "outputs": [
    {
     "data": {
      "image/png": "[encoded data removed]",
      "text/plain": [
       "<matplotlib.figure.Figure at 0x1209b7cd0>"
      ]
     },
     "metadata": {},
     "output_type": "display_data"
    },
    {
     "data": {
      "text/plain": [
       "<matplotlib.axes._subplots.AxesSubplot at 0x1218b3fd0>"
      ]
     },
     "execution_count": 134,
     "metadata": {},
     "output_type": "execute_result"
    }
   ],
   "source": [
    "sns.set(style=\"white\") #this whites out the upper-right section of the matrix\n",
    "corrmat(df2_numeric_ordinal_encoded_outcome.corr(method='spearman'),annotate=False)\n",
    "#set annotate = True to show correlation values"
   ]
  },
  {
   "cell_type": "markdown",
   "metadata": {},
   "source": [
    "### Nominal \"Correlations\""
   ]
  },
  {
   "cell_type": "code",
   "execution_count": 139,
   "metadata": {
    "collapsed": true
   },
   "outputs": [
    {
     "data": {
      "text/plain": [
       "MSSubClass\n",
       "20    185224.812\n",
       "30     95829.725\n",
       "40    156125.000\n",
       "45    108591.667\n",
       "50    143302.972\n",
       "60    239948.502\n",
       "70    166772.417\n",
       "75    192437.500\n",
       "80    169736.552\n",
       "85    147810.000\n",
       "90    133541.077\n",
       "120   200779.080\n",
       "160   138647.381\n",
       "180   102300.000\n",
       "190   129613.333\n",
       "Name: SalePrice, dtype: float64"
      ]
     },
     "execution_count": 139,
     "metadata": {},
     "output_type": "execute_result"
    },
    {
     "data": {
      "text/plain": [
       "MSZoning\n",
       "C (all)    74528.000\n",
       "FV        214014.062\n",
       "RH        131558.375\n",
       "RL        191004.995\n",
       "RM        126316.830\n",
       "Name: SalePrice, dtype: float64"
      ]
     },
     "execution_count": 139,
     "metadata": {},
     "output_type": "execute_result"
    },
    {
     "data": {
      "text/plain": [
       "LotShape\n",
       "IR1   206101.665\n",
       "IR2   239833.366\n",
       "IR3   216036.500\n",
       "Reg   164754.818\n",
       "Name: SalePrice, dtype: float64"
      ]
     },
     "execution_count": 139,
     "metadata": {},
     "output_type": "execute_result"
    },
    {
     "data": {
      "text/plain": [
       "LandContour\n",
       "Bnk   143104.079\n",
       "HLS   231533.940\n",
       "Low   203661.111\n",
       "Lvl   180183.747\n",
       "Name: SalePrice, dtype: float64"
      ]
     },
     "execution_count": 139,
     "metadata": {},
     "output_type": "execute_result"
    },
    {
     "data": {
      "text/plain": [
       "Utilities\n",
       "AllPub   180950.957\n",
       "NoSeWa   137500.000\n",
       "Name: SalePrice, dtype: float64"
      ]
     },
     "execution_count": 139,
     "metadata": {},
     "output_type": "execute_result"
    },
    {
     "data": {
      "text/plain": [
       "LotConfig\n",
       "Corner    181623.426\n",
       "CulDSac   223854.617\n",
       "FR2       177934.574\n",
       "FR3       208475.000\n",
       "Inside    176938.048\n",
       "Name: SalePrice, dtype: float64"
      ]
     },
     "execution_count": 139,
     "metadata": {},
     "output_type": "execute_result"
    },
    {
     "data": {
      "text/plain": [
       "LandSlope\n",
       "Gtl   179956.800\n",
       "Mod   196734.138\n",
       "Sev   204379.231\n",
       "Name: SalePrice, dtype: float64"
      ]
     },
     "execution_count": 139,
     "metadata": {},
     "output_type": "execute_result"
    },
    {
     "data": {
      "text/plain": [
       "Neighborhood\n",
       "Blmngtn   194870.882\n",
       "Blueste   137500.000\n",
       "BrDale    104493.750\n",
       "BrkSide   124834.052\n",
       "ClearCr   212565.429\n",
       "CollgCr   197965.773\n",
       "Crawfor   210624.725\n",
       "Edwards   128219.700\n",
       "Gilbert   192854.506\n",
       "IDOTRR    100123.784\n",
       "MeadowV    98576.471\n",
       "Mitchel   156270.122\n",
       "NAmes     145847.080\n",
       "NPkVill   142694.444\n",
       "NWAmes    189050.068\n",
       "NoRidge   335295.317\n",
       "NridgHt   316270.623\n",
       "OldTown   128225.301\n",
       "SWISU     142591.360\n",
       "Sawyer    136793.135\n",
       "SawyerW   186555.797\n",
       "Somerst   225379.837\n",
       "StoneBr   310499.000\n",
       "Timber    242247.447\n",
       "Veenker   238772.727\n",
       "Name: SalePrice, dtype: float64"
      ]
     },
     "execution_count": 139,
     "metadata": {},
     "output_type": "execute_result"
    },
    {
     "data": {
      "text/plain": [
       "Condition1\n",
       "Artery   135091.667\n",
       "Feedr    142475.481\n",
       "Norm     184495.492\n",
       "PosA     225875.000\n",
       "PosN     215184.211\n",
       "RRAe     138400.000\n",
       "RRAn     184396.615\n",
       "RRNe     190750.000\n",
       "RRNn     212400.000\n",
       "Name: SalePrice, dtype: float64"
      ]
     },
     "execution_count": 139,
     "metadata": {},
     "output_type": "execute_result"
    },
    {
     "data": {
      "text/plain": [
       "Condition2\n",
       "Artery   106500.000\n",
       "Feedr    121166.667\n",
       "Norm     181169.406\n",
       "PosA     325000.000\n",
       "PosN     284875.000\n",
       "RRAe     190000.000\n",
       "RRAn     136905.000\n",
       "RRNn      96750.000\n",
       "Name: SalePrice, dtype: float64"
      ]
     },
     "execution_count": 139,
     "metadata": {},
     "output_type": "execute_result"
    },
    {
     "data": {
      "text/plain": [
       "BldgType\n",
       "1Fam     185763.807\n",
       "2fmCon   128432.258\n",
       "Duplex   133541.077\n",
       "Twnhs    135911.628\n",
       "TwnhsE   181959.342\n",
       "Name: SalePrice, dtype: float64"
      ]
     },
     "execution_count": 139,
     "metadata": {},
     "output_type": "execute_result"
    },
    {
     "data": {
      "text/plain": [
       "HouseStyle\n",
       "1.5Fin   143116.740\n",
       "1.5Unf   110150.000\n",
       "1Story   175985.478\n",
       "2.5Fin   220000.000\n",
       "2.5Unf   157354.545\n",
       "2Story   210051.764\n",
       "SFoyer   135074.486\n",
       "SLvl     166703.385\n",
       "Name: SalePrice, dtype: float64"
      ]
     },
     "execution_count": 139,
     "metadata": {},
     "output_type": "execute_result"
    },
    {
     "data": {
      "text/plain": [
       "RoofStyle\n",
       "Flat      194690.000\n",
       "Gable     171483.956\n",
       "Gambrel   148909.091\n",
       "Hip       218876.934\n",
       "Mansard   180568.429\n",
       "Shed      225000.000\n",
       "Name: SalePrice, dtype: float64"
      ]
     },
     "execution_count": 139,
     "metadata": {},
     "output_type": "execute_result"
    },
    {
     "data": {
      "text/plain": [
       "RoofMatl\n",
       "ClyTile   160000.000\n",
       "CompShg   179803.679\n",
       "Membran   241500.000\n",
       "Metal     180000.000\n",
       "Roll      137000.000\n",
       "Tar&Grv   185406.364\n",
       "WdShake   241400.000\n",
       "WdShngl   390250.000\n",
       "Name: SalePrice, dtype: float64"
      ]
     },
     "execution_count": 139,
     "metadata": {},
     "output_type": "execute_result"
    },
    {
     "data": {
      "text/plain": [
       "Heating\n",
       "Floor    72500.000\n",
       "GasA    182021.195\n",
       "GasW    166632.167\n",
       "Grav     75271.429\n",
       "OthW    125750.000\n",
       "Wall     92100.000\n",
       "Name: SalePrice, dtype: float64"
      ]
     },
     "execution_count": 139,
     "metadata": {},
     "output_type": "execute_result"
    },
    {
     "data": {
      "text/plain": [
       "Exterior1st\n",
       "AsbShng   107385.550\n",
       "AsphShn   100000.000\n",
       "BrkComm    71000.000\n",
       "BrkFace   194573.000\n",
       "CBlock    105000.000\n",
       "CemntBd   231690.656\n",
       "HdBoard   163077.450\n",
       "ImStucc   262000.000\n",
       "MetalSd   149422.177\n",
       "Plywood   175942.380\n",
       "Stone     258500.000\n",
       "Stucco    162990.000\n",
       "VinylSd   213732.901\n",
       "Wd Sdng   149841.646\n",
       "WdShing   150655.077\n",
       "Name: SalePrice, dtype: float64"
      ]
     },
     "execution_count": 139,
     "metadata": {},
     "output_type": "execute_result"
    },
    {
     "data": {
      "text/plain": [
       "Exterior2nd\n",
       "AsbShng   114060.550\n",
       "AsphShn   138000.000\n",
       "Brk Cmn   126714.286\n",
       "BrkFace   195818.000\n",
       "CBlock    105000.000\n",
       "CmentBd   230093.833\n",
       "HdBoard   167661.565\n",
       "ImStucc   252070.000\n",
       "MetalSd   149803.173\n",
       "Other     319000.000\n",
       "Plywood   168112.387\n",
       "Stone     158224.800\n",
       "Stucco    155905.154\n",
       "VinylSd   214432.460\n",
       "Wd Sdng   148386.066\n",
       "Wd Shng   161328.947\n",
       "Name: SalePrice, dtype: float64"
      ]
     },
     "execution_count": 139,
     "metadata": {},
     "output_type": "execute_result"
    },
    {
     "data": {
      "text/plain": [
       "MasVnrType\n",
       "BrkCmn    146318.067\n",
       "BrkFace   204691.872\n",
       "None      156221.891\n",
       "Stone     265583.625\n",
       "Name: SalePrice, dtype: float64"
      ]
     },
     "execution_count": 139,
     "metadata": {},
     "output_type": "execute_result"
    },
    {
     "data": {
      "text/plain": [
       "Foundation\n",
       "BrkTil   132291.075\n",
       "CBlock   149805.715\n",
       "PConc    225230.442\n",
       "Slab     107365.625\n",
       "Stone    165959.167\n",
       "Wood     185666.667\n",
       "Name: SalePrice, dtype: float64"
      ]
     },
     "execution_count": 139,
     "metadata": {},
     "output_type": "execute_result"
    },
    {
     "data": {
      "text/plain": [
       "Electrical\n",
       "FuseA   122196.894\n",
       "FuseF   107675.444\n",
       "FuseP    97333.333\n",
       "Mix      67000.000\n",
       "SBrkr   186825.113\n",
       "Name: SalePrice, dtype: float64"
      ]
     },
     "execution_count": 139,
     "metadata": {},
     "output_type": "execute_result"
    },
    {
     "data": {
      "text/plain": [
       "Functional\n",
       "Maj1   153948.143\n",
       "Maj2    85800.000\n",
       "Min1   146385.484\n",
       "Min2   144240.647\n",
       "Mod    168393.333\n",
       "Sev    129000.000\n",
       "Typ    183429.147\n",
       "Name: SalePrice, dtype: float64"
      ]
     },
     "execution_count": 139,
     "metadata": {},
     "output_type": "execute_result"
    },
    {
     "data": {
      "text/plain": [
       "GarageType\n",
       "2Types    151283.333\n",
       "Attchd    202892.656\n",
       "Basment   160570.684\n",
       "BuiltIn   254751.739\n",
       "CarPort   109962.111\n",
       "Detchd    134091.163\n",
       "Name: SalePrice, dtype: float64"
      ]
     },
     "execution_count": 139,
     "metadata": {},
     "output_type": "execute_result"
    },
    {
     "data": {
      "text/plain": [
       "GarageFinish\n",
       "Fin   240052.690\n",
       "RFn   202068.870\n",
       "Unf   142156.423\n",
       "Name: SalePrice, dtype: float64"
      ]
     },
     "execution_count": 139,
     "metadata": {},
     "output_type": "execute_result"
    },
    {
     "data": {
      "text/plain": [
       "PavedDrive\n",
       "N   115039.122\n",
       "P   132330.000\n",
       "Y   186433.974\n",
       "Name: SalePrice, dtype: float64"
      ]
     },
     "execution_count": 139,
     "metadata": {},
     "output_type": "execute_result"
    },
    {
     "data": {
      "text/plain": [
       "SaleType\n",
       "COD     143973.256\n",
       "CWD     210600.000\n",
       "Con     269600.000\n",
       "ConLD   138780.889\n",
       "ConLI   200390.000\n",
       "ConLw   143700.000\n",
       "New     274945.418\n",
       "Oth     119850.000\n",
       "WD      173401.837\n",
       "Name: SalePrice, dtype: float64"
      ]
     },
     "execution_count": 139,
     "metadata": {},
     "output_type": "execute_result"
    },
    {
     "data": {
      "text/plain": [
       "SaleCondition\n",
       "Abnorml   146526.624\n",
       "AdjLand   104125.000\n",
       "Alloca    167377.417\n",
       "Family    149600.000\n",
       "Normal    175202.220\n",
       "Partial   272291.752\n",
       "Name: SalePrice, dtype: float64"
      ]
     },
     "execution_count": 139,
     "metadata": {},
     "output_type": "execute_result"
    },
    {
     "data": {
      "text/plain": [
       "BsmtFinType2\n",
       "ALQ   209942.105\n",
       "BLQ   151101.000\n",
       "GLQ   180982.143\n",
       "LwQ   164364.130\n",
       "Rec   164917.130\n",
       "Unf   184694.690\n",
       "Name: SalePrice, dtype: float64"
      ]
     },
     "execution_count": 139,
     "metadata": {},
     "output_type": "execute_result"
    },
    {
     "data": {
      "text/plain": [
       "BsmtFinType1\n",
       "ALQ   161573.068\n",
       "BLQ   149493.655\n",
       "GLQ   235413.720\n",
       "LwQ   151852.703\n",
       "Rec   146889.248\n",
       "Unf   170670.577\n",
       "Name: SalePrice, dtype: float64"
      ]
     },
     "execution_count": 139,
     "metadata": {},
     "output_type": "execute_result"
    },
    {
     "data": {
      "text/plain": [
       "Street\n",
       "Grvl   130190.500\n",
       "Pave   181130.539\n",
       "Name: SalePrice, dtype: float64"
      ]
     },
     "execution_count": 139,
     "metadata": {},
     "output_type": "execute_result"
    },
    {
     "data": {
      "text/plain": [
       "CentralAir\n",
       "N   105264.074\n",
       "Y   186186.710\n",
       "Name: SalePrice, dtype: float64"
      ]
     },
     "execution_count": 139,
     "metadata": {},
     "output_type": "execute_result"
    }
   ],
   "source": [
    "df2_nominal_outcome=pd.concat([df2['SalePrice'],df2_nominal,],axis=1)\n",
    "for j in df2_nominal.columns:\n",
    "    df2_nominal_outcome.groupby(j).SalePrice.mean()"
   ]
  },
  {
   "cell_type": "markdown",
   "metadata": {},
   "source": [
    "### Checking Numerical Predictor Distributions for Normality"
   ]
  },
  {
   "cell_type": "markdown",
   "metadata": {},
   "source": [
    "6 Predictors with right-skewed distributions, so I will scale predictors: <br>\n",
    "WoodDeckSF, 2ndFlrSF, BsmtFinSF1, GrLivArea, LotFrontage, OpenPorchSF, "
   ]
  },
  {
   "cell_type": "code",
   "execution_count": 141,
   "metadata": {
    "collapsed": true
   },
   "outputs": [
    {
     "data": {
      "text/plain": [
       "array([[<matplotlib.axes._subplots.AxesSubplot object at 0x121e51110>,\n",
       "        <matplotlib.axes._subplots.AxesSubplot object at 0x122043f10>,\n",
       "        <matplotlib.axes._subplots.AxesSubplot object at 0x122123e90>,\n",
       "        <matplotlib.axes._subplots.AxesSubplot object at 0x1221e1650>,\n",
       "        <matplotlib.axes._subplots.AxesSubplot object at 0x122265690>],\n",
       "       [<matplotlib.axes._subplots.AxesSubplot object at 0x1222d6610>,\n",
       "        <matplotlib.axes._subplots.AxesSubplot object at 0x12235d650>,\n",
       "        <matplotlib.axes._subplots.AxesSubplot object at 0x1223c2d10>,\n",
       "        <matplotlib.axes._subplots.AxesSubplot object at 0x122449ed0>,\n",
       "        <matplotlib.axes._subplots.AxesSubplot object at 0x1224bc890>],\n",
       "       [<matplotlib.axes._subplots.AxesSubplot object at 0x12253fb10>,\n",
       "        <matplotlib.axes._subplots.AxesSubplot object at 0x1224d5a10>,\n",
       "        <matplotlib.axes._subplots.AxesSubplot object at 0x12263a0d0>,\n",
       "        <matplotlib.axes._subplots.AxesSubplot object at 0x1226c01d0>,\n",
       "        <matplotlib.axes._subplots.AxesSubplot object at 0x1227304d0>],\n",
       "       [<matplotlib.axes._subplots.AxesSubplot object at 0x1227b5510>,\n",
       "        <matplotlib.axes._subplots.AxesSubplot object at 0x12281ccd0>,\n",
       "        <matplotlib.axes._subplots.AxesSubplot object at 0x1228a1dd0>,\n",
       "        <matplotlib.axes._subplots.AxesSubplot object at 0x122914410>,\n",
       "        <matplotlib.axes._subplots.AxesSubplot object at 0x1229985d0>],\n",
       "       [<matplotlib.axes._subplots.AxesSubplot object at 0x1229fff50>,\n",
       "        <matplotlib.axes._subplots.AxesSubplot object at 0x122a92210>,\n",
       "        <matplotlib.axes._subplots.AxesSubplot object at 0x122a1a4d0>,\n",
       "        <matplotlib.axes._subplots.AxesSubplot object at 0x122b29810>,\n",
       "        <matplotlib.axes._subplots.AxesSubplot object at 0x122ba8690>],\n",
       "       [<matplotlib.axes._subplots.AxesSubplot object at 0x122c1a2d0>,\n",
       "        <matplotlib.axes._subplots.AxesSubplot object at 0x122c9f310>,\n",
       "        <matplotlib.axes._subplots.AxesSubplot object at 0x122d07a90>,\n",
       "        <matplotlib.axes._subplots.AxesSubplot object at 0x122d8cc50>,\n",
       "        <matplotlib.axes._subplots.AxesSubplot object at 0x122e01610>]],\n",
       "      dtype=object)"
      ]
     },
     "execution_count": 141,
     "metadata": {},
     "output_type": "execute_result"
    },
    {
     "data": {
      "image/png": "[encoded data removed]",
      "text/plain": [
       "<matplotlib.figure.Figure at 0x1219fcfd0>"
      ]
     },
     "metadata": {},
     "output_type": "display_data"
    }
   ],
   "source": [
    "pd.concat([df2_numeric,df2_discrete],axis=1).hist(figsize=(15,15))"
   ]
  },
  {
   "cell_type": "markdown",
   "metadata": {},
   "source": [
    "# Data Preparation after EDA"
   ]
  },
  {
   "cell_type": "markdown",
   "metadata": {},
   "source": [
    "### One-Hot Encode the Nominal Data"
   ]
  },
  {
   "cell_type": "markdown",
   "metadata": {},
   "source": [
    "5 dummies account for 71 out of the 185 dummies, which is greatly increasing the data's dimensionality. I am hesitant to simply remove them at this point, since the the average Sale Price tends to vary greatly across each of these dummies' levels (90k - >200k).  <br>\n",
    "\n",
    "Unique nominal predictor counts are shown below, so one-hot encoding them will result in much greater data dimensionality."
   ]
  },
  {
   "cell_type": "code",
   "execution_count": 142,
   "metadata": {
    "collapsed": true
   },
   "outputs": [
    {
     "name": "stdout",
     "output_type": "stream",
     "text": [
      "   'MSSubClass'  15\n",
      "     'MSZoning'  5\n",
      "     'LotShape'  4\n",
      "  'LandContour'  4\n",
      "    'Utilities'  2\n",
      "    'LotConfig'  5\n",
      "    'LandSlope'  3\n",
      " 'Neighborhood'  25\n",
      "   'Condition1'  9\n",
      "   'Condition2'  8\n",
      "     'BldgType'  5\n",
      "   'HouseStyle'  8\n",
      "    'RoofStyle'  6\n",
      "     'RoofMatl'  8\n",
      "      'Heating'  6\n",
      "  'Exterior1st'  15\n",
      "  'Exterior2nd'  16\n",
      "   'MasVnrType'  4\n",
      "   'Foundation'  6\n",
      "   'Electrical'  5\n",
      "   'Functional'  7\n",
      "   'GarageType'  6\n",
      " 'GarageFinish'  3\n",
      "   'PavedDrive'  3\n",
      "     'SaleType'  9\n",
      "'SaleCondition'  6\n",
      " 'BsmtFinType2'  6\n",
      " 'BsmtFinType1'  6\n",
      "       'Street'  2\n",
      "   'CentralAir'  2\n"
     ]
    }
   ],
   "source": [
    "for j in df2_nominal:\n",
    "    print(\"%15r  %r\" %(j,df2_nominal[j].nunique()))"
   ]
  },
  {
   "cell_type": "code",
   "execution_count": 143,
   "metadata": {
    "collapsed": false
   },
   "outputs": [
    {
     "data": {
      "text/plain": [
       "185"
      ]
     },
     "execution_count": 143,
     "metadata": {},
     "output_type": "execute_result"
    }
   ],
   "source": [
    "df2_nominal=df2_nominal.apply(lambda x: x.astype('str')) #MSSubClass has #s as values and get_dummies would not one-hot encode it\n",
    "df2_nominal_encoded=pd.get_dummies(df2_nominal,drop_first=True) #drop_first to prevent dummy variable trap\n",
    "len(df2_nominal_encoded.columns)"
   ]
  },
  {
   "cell_type": "markdown",
   "metadata": {},
   "source": [
    "### Handling Missing Values"
   ]
  },
  {
   "cell_type": "markdown",
   "metadata": {},
   "source": [
    "1) Nominals, keep nan as its own column <br>\n",
    "2) Ordinals/Numerics/dates, median impute nan <br>\n",
    "\n",
    "Below, I look at NaN's for each variable."
   ]
  },
  {
   "cell_type": "code",
   "execution_count": 151,
   "metadata": {
    "collapsed": true
   },
   "outputs": [
    {
     "name": "stdout",
     "output_type": "stream",
     "text": [
      "Ordinal NaNs\n"
     ]
    },
    {
     "data": {
      "text/plain": [
       "GarageCond      81\n",
       "GarageQual      81\n",
       "BsmtExposure    38\n",
       "BsmtCond        37\n",
       "BsmtQual        37\n",
       "ExterCond        0\n",
       "dtype: int64"
      ]
     },
     "execution_count": 151,
     "metadata": {},
     "output_type": "execute_result"
    },
    {
     "name": "stdout",
     "output_type": "stream",
     "text": [
      "Numeric NaNs\n"
     ]
    },
    {
     "data": {
      "text/plain": [
       "LotFrontage     259\n",
       "MasVnrArea        8\n",
       "LowQualFinSF      0\n",
       "dtype: int64"
      ]
     },
     "execution_count": 151,
     "metadata": {},
     "output_type": "execute_result"
    },
    {
     "name": "stdout",
     "output_type": "stream",
     "text": [
      "Nominal NaNs\n"
     ]
    },
    {
     "data": {
      "text/plain": [
       "MSSubClass_160    0\n",
       "MSSubClass_180    0\n",
       "MSSubClass_190    0\n",
       "dtype: int64"
      ]
     },
     "execution_count": 151,
     "metadata": {},
     "output_type": "execute_result"
    },
    {
     "name": "stdout",
     "output_type": "stream",
     "text": [
      "Discrete NaNs\n"
     ]
    },
    {
     "data": {
      "text/plain": [
       "BsmtFullBath    0\n",
       "BsmtHalfBath    0\n",
       "FullBath        0\n",
       "HalfBath        0\n",
       "BedroomAbvGr    0\n",
       "KitchenAbvGr    0\n",
       "TotRmsAbvGrd    0\n",
       "Fireplaces      0\n",
       "GarageCars      0\n",
       "dtype: int64"
      ]
     },
     "execution_count": 151,
     "metadata": {},
     "output_type": "execute_result"
    },
    {
     "name": "stdout",
     "output_type": "stream",
     "text": [
      "Date NaNs\n"
     ]
    },
    {
     "data": {
      "text/plain": [
       "YearBuilt        0\n",
       "YearRemodAdd     0\n",
       "GarageYrBlt     81\n",
       "MoSold           0\n",
       "YrSold           0\n",
       "dtype: int64"
      ]
     },
     "execution_count": 151,
     "metadata": {},
     "output_type": "execute_result"
    }
   ],
   "source": [
    "print('Ordinal NaNs')\n",
    "df2_ordinal_encoded2.isnull().sum().sort_values(ascending=False)[:6] #5 ordinal NaNs\n",
    "print('Numeric NaNs')\n",
    "df2_numeric.isnull().sum().sort_values(ascending=False)[:3] # 2 numeric NaNs\n",
    "print('Nominal NaNs')\n",
    "df2_nominal_encoded.isnull().sum()[:3] #Nominal nan's were given their own columns with 1 indicating NaN\n",
    "print('Discrete NaNs')\n",
    "df2_discrete.isnull().sum() #no discrete NaN's\n",
    "print('Date NaNs')\n",
    "df2_date.isnull().sum() #81 date NaN's"
   ]
  },
  {
   "cell_type": "markdown",
   "metadata": {},
   "source": [
    "### Create the Combined Dataframe"
   ]
  },
  {
   "cell_type": "code",
   "execution_count": 240,
   "metadata": {
    "collapsed": true
   },
   "outputs": [],
   "source": [
    "df3=pd.concat([df2_numeric, df2_discrete, df2_nominal_encoded, df2_ordinal_encoded2, df2_date, df2['SalePrice']], axis=1)"
   ]
  },
  {
   "cell_type": "code",
   "execution_count": 158,
   "metadata": {
    "collapsed": false
   },
   "outputs": [
    {
     "data": {
      "text/html": [
       "<div>\n",
       "<style scoped>\n",
       "    .dataframe tbody tr th:only-of-type {\n",
       "        vertical-align: middle;\n",
       "    }\n",
       "\n",
       "    .dataframe tbody tr th {\n",
       "        vertical-align: top;\n",
       "    }\n",
       "\n",
       "    .dataframe thead th {\n",
       "        text-align: right;\n",
       "    }\n",
       "</style>\n",
       "<table border=\"1\" class=\"dataframe\">\n",
       "  <thead>\n",
       "    <tr style=\"text-align: right;\">\n",
       "      <th></th>\n",
       "      <th>LotFrontage</th>\n",
       "      <th>MasVnrArea</th>\n",
       "      <th>BsmtQual</th>\n",
       "      <th>BsmtCond</th>\n",
       "      <th>BsmtExposure</th>\n",
       "      <th>GarageQual</th>\n",
       "      <th>GarageCond</th>\n",
       "      <th>GarageYrBlt</th>\n",
       "    </tr>\n",
       "  </thead>\n",
       "  <tbody>\n",
       "    <tr>\n",
       "      <th>Nulls</th>\n",
       "      <td>259</td>\n",
       "      <td>8</td>\n",
       "      <td>37</td>\n",
       "      <td>37</td>\n",
       "      <td>38</td>\n",
       "      <td>81</td>\n",
       "      <td>81</td>\n",
       "      <td>81</td>\n",
       "    </tr>\n",
       "  </tbody>\n",
       "</table>\n",
       "</div>"
      ],
      "text/plain": [
       "       LotFrontage  MasVnrArea  BsmtQual  BsmtCond  BsmtExposure  GarageQual  \\\n",
       "Nulls          259           8        37        37            38          81   \n",
       "\n",
       "       GarageCond  GarageYrBlt  \n",
       "Nulls          81           81  "
      ]
     },
     "execution_count": 158,
     "metadata": {},
     "output_type": "execute_result"
    }
   ],
   "source": [
    "df3_nulls=pd.DataFrame(df3.isnull().sum(),columns=['Nulls'])\n",
    "df3_nulls=df3_nulls[df3_nulls.Nulls>0]\n",
    "df3_nulls.transpose()"
   ]
  },
  {
   "cell_type": "markdown",
   "metadata": {},
   "source": [
    "# Model Building - The Holdout Method with GridSearchCV"
   ]
  },
  {
   "cell_type": "markdown",
   "metadata": {},
   "source": [
    "GridSearchCV hyperparameter tunes the method on the train split using 3-fold cv, by default.  It sends each combination of specified hyperparameter values into the method, 3 times, averages the resulting model evaluation metric (rmse), and selects the values with the highest average evaluation metric."
   ]
  },
  {
   "cell_type": "code",
   "execution_count": 309,
   "metadata": {
    "collapsed": true
   },
   "outputs": [],
   "source": [
    "X_train, X_test, y_train, y_test = train_test_split(X, y, test_size=0.2, random_state=1)\n",
    "#X_train, X_val, y_train, y_val = train_test_split(X_train, y_train, test_size=0.2, random_state=1)\n",
    "#Uncommenting the above would yield a train, validation, and test split\n",
    "\n",
    "def rmse(Y_test,Y_pred):   \n",
    "    return np.sqrt(sklearn.metrics.mean_squared_error(Y_test,Y_pred))"
   ]
  },
  {
   "cell_type": "code",
   "execution_count": 323,
   "metadata": {
    "collapsed": true
   },
   "outputs": [
    {
     "name": "stdout",
     "output_type": "stream",
     "text": [
      "\n",
      "\n",
      "Decision Tree\n"
     ]
    },
    {
     "data": {
      "text/plain": [
       "GridSearchCV(cv=5, error_score='raise',\n",
       "       estimator=DecisionTreeRegressor(criterion='mse', max_depth=None, max_features=None,\n",
       "           max_leaf_nodes=None, min_impurity_decrease=0.0,\n",
       "           min_impurity_split=None, min_samples_leaf=1,\n",
       "           min_samples_split=2, min_weight_fraction_leaf=0.0,\n",
       "           presort=False, random_state=0, splitter='best'),\n",
       "       fit_params=None, iid=True, n_jobs=1,\n",
       "       param_grid={'max_depth': [2, 3, 4, 5]}, pre_dispatch='2*n_jobs',\n",
       "       refit=True, return_train_score=True,\n",
       "       scoring='neg_mean_squared_error', verbose=0)"
      ]
     },
     "execution_count": 323,
     "metadata": {},
     "output_type": "execute_result"
    },
    {
     "name": "stdout",
     "output_type": "stream",
     "text": [
      "39255.62599511131\n",
      "0.349329948425 s\n",
      "\n",
      "\n",
      "K-Nearest Neighbors\n"
     ]
    },
    {
     "data": {
      "text/plain": [
       "GridSearchCV(cv=5, error_score='raise',\n",
       "       estimator=KNeighborsRegressor(algorithm='auto', leaf_size=30, metric='minkowski',\n",
       "          metric_params=None, n_jobs=1, n_neighbors=5, p=2,\n",
       "          weights='uniform'),\n",
       "       fit_params=None, iid=True, n_jobs=1,\n",
       "       param_grid={'n_neighbors': [3, 4, 5, 6, 7]},\n",
       "       pre_dispatch='2*n_jobs', refit=True, return_train_score=True,\n",
       "       scoring='neg_mean_squared_error', verbose=0)"
      ]
     },
     "execution_count": 323,
     "metadata": {},
     "output_type": "execute_result"
    },
    {
     "name": "stdout",
     "output_type": "stream",
     "text": [
      "49526.3062739517\n",
      "3.0916390419 s\n",
      "\n",
      "\n",
      "Random Forests\n"
     ]
    },
    {
     "data": {
      "text/plain": [
       "GridSearchCV(cv=5, error_score='raise',\n",
       "       estimator=RandomForestRegressor(bootstrap=True, criterion='mse', max_depth=None,\n",
       "           max_features='auto', max_leaf_nodes=None,\n",
       "           min_impurity_decrease=0.0, min_impurity_split=None,\n",
       "           min_samples_leaf=1, min_samples_split=2,\n",
       "           min_weight_fraction_leaf=0.0, n_estimators=300, n_jobs=1,\n",
       "           oob_score=True, random_state=0, verbose=0, warm_start=True),\n",
       "       fit_params=None, iid=True, n_jobs=1,\n",
       "       param_grid={'max_features': ['sqrt', 0.2, 0.5, 0.8]},\n",
       "       pre_dispatch='2*n_jobs', refit=True, return_train_score=True,\n",
       "       scoring='neg_mean_squared_error', verbose=0)"
      ]
     },
     "execution_count": 323,
     "metadata": {},
     "output_type": "execute_result"
    },
    {
     "name": "stdout",
     "output_type": "stream",
     "text": [
      "28300.769137035673\n",
      "78.1822068691 s\n",
      "\n",
      "\n",
      "Support Vector Machines\n"
     ]
    },
    {
     "data": {
      "text/plain": [
       "GridSearchCV(cv=5, error_score='raise',\n",
       "       estimator=SVR(C=1.0, cache_size=200, coef0=0.0, degree=3, epsilon=0.1, gamma='auto',\n",
       "  kernel='rbf', max_iter=-1, shrinking=True, tol=0.001, verbose=False),\n",
       "       fit_params=None, iid=True, n_jobs=1,\n",
       "       param_grid={'C': [0.001, 0.01, 0.1, 1, 10], 'gamma': [0.001, 0.01, 0.1, 1]},\n",
       "       pre_dispatch='2*n_jobs', refit=True, return_train_score=True,\n",
       "       scoring='neg_mean_squared_error', verbose=0)"
      ]
     },
     "execution_count": 323,
     "metadata": {},
     "output_type": "execute_result"
    },
    {
     "name": "stdout",
     "output_type": "stream",
     "text": [
      "85142.11989091827\n",
      "61.2967648506 s\n",
      "\n",
      "\n",
      "AdaBoost\n"
     ]
    },
    {
     "data": {
      "text/plain": [
       "GridSearchCV(cv=5, error_score='raise',\n",
       "       estimator=AdaBoostRegressor(base_estimator=DecisionTreeRegressor(criterion='mse', max_depth=1, max_features=None,\n",
       "           max_leaf_nodes=None, min_impurity_decrease=0.0,\n",
       "           min_impurity_split=None, min_samples_leaf=1,\n",
       "           min_samples_split=2, min_weight_fraction_leaf=0.0,\n",
       "           presort=False, random_state=0, splitter='best'),\n",
       "         learning_rate=1.0, loss='linear', n_estimators=100,\n",
       "         random_state=0),\n",
       "       fit_params=None, iid=True, n_jobs=1,\n",
       "       param_grid={'learning_rate': [0.01, 0.1, 1, 2]},\n",
       "       pre_dispatch='2*n_jobs', refit=True, return_train_score=True,\n",
       "       scoring='neg_mean_squared_error', verbose=0)"
      ]
     },
     "execution_count": 323,
     "metadata": {},
     "output_type": "execute_result"
    },
    {
     "name": "stdout",
     "output_type": "stream",
     "text": [
      "59752.7591456196\n",
      "9.77028512955 s\n",
      "\n",
      "\n",
      "Gradient Boosting\n"
     ]
    },
    {
     "data": {
      "text/plain": [
       "GridSearchCV(cv=5, error_score='raise',\n",
       "       estimator=GradientBoostingRegressor(alpha=0.9, criterion='friedman_mse', init=None,\n",
       "             learning_rate=0.1, loss='ls', max_depth=3,\n",
       "             max_features='sqrt', max_leaf_nodes=None,\n",
       "             min_impurity_decrease=0.0, min_impurity_split=None,\n",
       "             min_samples_leaf=1, min_samples_split=2,\n",
       "             min_weight_fraction_leaf=0.0, n_estimators=100,\n",
       "             presort='auto', random_state=0, subsample=1.0, verbose=0,\n",
       "             warm_start=False),\n",
       "       fit_params=None, iid=True, n_jobs=1,\n",
       "       param_grid={'learning_rate': [0.001, 0.01, 0.1], 'max_depth': [3, 4, 5]},\n",
       "       pre_dispatch='2*n_jobs', refit=True, return_train_score=True,\n",
       "       scoring='neg_mean_squared_error', verbose=0)"
      ]
     },
     "execution_count": 323,
     "metadata": {},
     "output_type": "execute_result"
    },
    {
     "name": "stdout",
     "output_type": "stream",
     "text": [
      "27337.569954724837\n",
      "6.2824280262 s\n"
     ]
    }
   ],
   "source": [
    "clf_dt  = DecisionTreeRegressor(random_state=0)\n",
    "clf_knn = KNeighborsRegressor(n_neighbors=5, weights='uniform', algorithm='auto', leaf_size=30, p=2, metric='minkowski', metric_params=None, n_jobs=1) \n",
    "clf_rf  = RandomForestRegressor(warm_start=True, oob_score=True,random_state=0,n_estimators=300)\n",
    "clf_svm = svm.SVR()\n",
    "clf_ada = AdaBoostRegressor(base_estimator=base, n_estimators = 100, random_state=0)\n",
    "clf_gb  = GradientBoostingRegressor(random_state=0, max_features='sqrt')\n",
    "\n",
    "clf_parameters = [ {\"max_depth\":[2,3,4,5]} , \n",
    "                   {\"n_neighbors\": [3,4,5,6,7]} ,\n",
    "                   {\"max_features\": ['sqrt',.2,.5,.8]} ,\n",
    "                   {'C': [.001, .01, .1, 1, 10], \"gamma\": [.001, .01, .1, 1]} ,\n",
    "                   {'learning_rate': [.01,.1,1,2]} ,\n",
    "                   {\"learning_rate\": [.001,.01,.1], \"max_depth\":[3,4,5]} ]\n",
    "\n",
    "clf_names=['Decision Tree','K-Nearest Neighbors','Random Forests',\n",
    "'Support Vector Machines','AdaBoost', 'Gradient Boosting']\n",
    "clf_methods=[clf_dt, clf_knn, clf_rf, clf_svm, clf_ada, clf_gb]\n",
    "clf_rmse=[0,0,0,0,0,0]\n",
    "\n",
    "for j in range(len(clf_names)):\n",
    "    print('\\n')\n",
    "    print(clf_names[j])\n",
    "    start_time = time.time()\n",
    "    fitmodel = GridSearchCV(clf_methods[j], param_grid=clf_parameters[j], cv=5, scoring=\"neg_mean_squared_error\")\n",
    "    fitmodel.fit(X_train, y_train)\n",
    "    y_pred = fitmodel.predict(X_test)\n",
    "    clf_rmse[j] =  rmse(y_test,y_pred)\n",
    "    print(rmse(y_test,y_pred))\n",
    "    print time.time() - start_time, 's'"
   ]
  },
  {
   "cell_type": "markdown",
   "metadata": {},
   "source": [
    "## Inspecting Linear Regression Results"
   ]
  },
  {
   "cell_type": "code",
   "execution_count": 322,
   "metadata": {
    "collapsed": false
   },
   "outputs": [
    {
     "data": {
      "text/plain": [
       "LinearRegression(copy_X=True, fit_intercept=True, n_jobs=1, normalize=False)"
      ]
     },
     "execution_count": 322,
     "metadata": {},
     "output_type": "execute_result"
    },
    {
     "data": {
      "text/plain": [
       "51832.63885326473"
      ]
     },
     "execution_count": 322,
     "metadata": {},
     "output_type": "execute_result"
    }
   ],
   "source": [
    "clf_lr  = LinearRegression()\n",
    "clf_lr.fit(X_train, y_train)\n",
    "y_pred = clf_lr.predict(X_test)\n",
    "rmse(y_test,y_pred)"
   ]
  },
  {
   "cell_type": "code",
   "execution_count": 325,
   "metadata": {
    "collapsed": true
   },
   "outputs": [
    {
     "name": "stdout",
     "output_type": "stream",
     "text": [
      "                            OLS Regression Results                            \n",
      "==============================================================================\n",
      "Dep. Variable:                y_train   R-squared:                       0.924\n",
      "Model:                            OLS   Adj. R-squared:                  0.907\n",
      "Method:                 Least Squares   F-statistic:                     52.60\n",
      "Date:                Sun, 02 Sep 2018   Prob (F-statistic):               0.00\n",
      "Time:                        12:00:28   Log-Likelihood:                -13307.\n",
      "No. Observations:                1168   AIC:                         2.706e+04\n",
      "Df Residuals:                     947   BIC:                         2.818e+04\n",
      "Df Model:                         220                                         \n",
      "Covariance Type:            nonrobust                                         \n",
      "================================================================================\n",
      "                   coef    std err          t      P>|t|      [0.025      0.975]\n",
      "--------------------------------------------------------------------------------\n",
      "Intercept    -1.673e+06   1.24e+06     -1.349      0.178   -4.11e+06    7.61e+05\n",
      "X_train[0]     -16.9384     27.233     -0.622      0.534     -70.382      36.505\n",
      "X_train[1]       0.8521      0.134      6.361      0.000       0.589       1.115\n",
      "X_train[2]      23.9430      6.887      3.477      0.001      10.428      37.458\n",
      "X_train[3]      21.3446      3.460      6.170      0.000      14.555      28.134\n",
      "X_train[4]      20.7520      5.510      3.766      0.000       9.939      31.565\n",
      "X_train[5]      12.3722      7.928      1.561      0.119      -3.187      27.931\n",
      "X_train[6]      26.1350      7.264      3.598      0.000      11.879      40.391\n",
      "X_train[7]      -8.3193     18.598     -0.447      0.655     -44.818      28.180\n",
      "X_train[8]      30.1883      7.289      4.142      0.000      15.885      44.492\n",
      "X_train[9]      34.7832      9.800      3.549      0.000      15.552      54.015\n",
      "X_train[10]     16.3470      7.006      2.333      0.020       2.598      30.096\n",
      "X_train[11]     18.5422     13.346      1.389      0.165      -7.649      44.733\n",
      "X_train[12]      8.2712     14.828      0.558      0.577     -20.828      37.371\n",
      "X_train[13]     35.1762     24.869      1.414      0.158     -13.628      83.980\n",
      "X_train[14]     45.2426     14.095      3.210      0.001      17.582      72.904\n",
      "X_train[15]     12.5684     24.722      0.508      0.611     -35.948      61.084\n",
      "X_train[16]      0.6699      1.501      0.446      0.655      -2.275       3.615\n",
      "X_train[17]   -164.7260   2307.074     -0.071      0.943   -4692.295    4362.843\n",
      "X_train[18]   3401.1092   3723.611      0.913      0.361   -3906.374    1.07e+04\n",
      "X_train[19]   1220.9546   2716.170      0.450      0.653   -4109.453    6551.362\n",
      "X_train[20]   3853.6203   2474.333      1.557      0.120   -1002.190    8709.430\n",
      "X_train[21]  -3493.0975   1724.064     -2.026      0.043   -6876.525    -109.670\n",
      "X_train[22]  -9267.5624   8620.188     -1.075      0.283   -2.62e+04    7649.316\n",
      "X_train[23]   2671.3166   1133.843      2.356      0.019     446.181    4896.453\n",
      "X_train[24]   2667.1843   1587.868      1.680      0.093    -448.962    5783.330\n",
      "X_train[25]   1537.6263   2795.679      0.550      0.582   -3948.816    7024.068\n",
      "X_train[26]    204.4544    100.593      2.032      0.042       7.043     401.866\n",
      "X_train[27]    -11.1086     67.133     -0.165      0.869    -142.855     120.638\n",
      "X_train[28]    -57.3622     74.491     -0.770      0.441    -203.548      88.824\n",
      "X_train[29]   -659.7221    295.124     -2.235      0.026   -1238.895     -80.549\n",
      "X_train[30]    313.9994    609.095      0.516      0.606    -881.333    1509.331\n",
      "X_train[31]   4975.4377   2173.481      2.289      0.022     710.043    9240.833\n",
      "X_train[32]   -201.3420   2981.163     -0.068      0.946   -6051.791    5649.107\n",
      "X_train[33]   4464.6051    997.595      4.475      0.000    2506.852    6422.358\n",
      "X_train[34]   1720.1377   1163.209      1.479      0.140    -562.629    4002.904\n",
      "X_train[35]   6177.6711   1927.409      3.205      0.001    2395.184    9960.158\n",
      "X_train[36]   8604.3333   4497.250      1.913      0.056    -221.394    1.74e+04\n",
      "X_train[37]  -5829.3967   4800.028     -1.214      0.225   -1.52e+04    3590.525\n",
      "X_train[38]   6471.4487   1217.602      5.315      0.000    4081.938    8860.960\n",
      "X_train[39]   5899.8010   1055.640      5.589      0.000    3828.136    7971.466\n",
      "X_train[40]   7649.3541   2494.812      3.066      0.002    2753.355    1.25e+04\n",
      "X_train[41]  -4754.8954   2532.778     -1.877      0.061   -9725.401     215.610\n",
      "X_train[42]   1.773e+04   1.19e+04      1.488      0.137   -5657.302    4.11e+04\n",
      "X_train[43]   2293.8833   1.64e+04      0.140      0.888   -2.98e+04    3.44e+04\n",
      "X_train[44]  -1.335e+04   3.36e+04     -0.398      0.691   -7.93e+04    5.26e+04\n",
      "X_train[45]   4105.6647   1.92e+04      0.214      0.831   -3.35e+04    4.17e+04\n",
      "X_train[46]   3317.0703   1.99e+04      0.167      0.867   -3.57e+04    4.23e+04\n",
      "X_train[47]   2926.0410   2.47e+04      0.118      0.906   -4.55e+04    5.14e+04\n",
      "X_train[48]    126.3268   3.14e+04      0.004      0.997   -6.16e+04    6.18e+04\n",
      "X_train[49]   3900.4762    2.2e+04      0.178      0.859   -3.92e+04     4.7e+04\n",
      "X_train[50]   1.284e+04   2.11e+04      0.608      0.543   -2.86e+04    5.43e+04\n",
      "X_train[51]   1.227e+04   2.14e+04      0.575      0.566   -2.96e+04    5.42e+04\n",
      "X_train[52]   1.229e+04   2.61e+04      0.471      0.638   -3.89e+04    6.35e+04\n",
      "X_train[53]  -2.676e+04   2.73e+04     -0.981      0.327   -8.03e+04    2.68e+04\n",
      "X_train[54]  -2585.4061   2.31e+04     -0.112      0.911   -4.79e+04    4.27e+04\n",
      "X_train[55]  -5793.8226   1.09e+04     -0.532      0.595   -2.72e+04    1.56e+04\n",
      "X_train[56]   2.824e+04   1.45e+04      1.951      0.051    -165.684    5.66e+04\n",
      "X_train[57]   3.303e+04   1.45e+04      2.278      0.023    4580.886    6.15e+04\n",
      "X_train[58]   2.666e+04   1.27e+04      2.105      0.036    1809.220    5.15e+04\n",
      "X_train[59]   2.731e+04    1.2e+04      2.277      0.023    3773.748    5.08e+04\n",
      "X_train[60]   9114.2001   4854.326      1.878      0.061    -412.280    1.86e+04\n",
      "X_train[61]    1.18e+04   1.26e+04      0.939      0.348   -1.29e+04    3.65e+04\n",
      "X_train[62]   3007.3243   1940.956      1.549      0.122    -801.748    6816.397\n",
      "X_train[63]   1.404e+04   6489.560      2.164      0.031    1305.217    2.68e+04\n",
      "X_train[64]  -1.856e+04   7869.306     -2.358      0.019    -3.4e+04   -3114.156\n",
      "X_train[65]   5959.1590   4386.025      1.359      0.175   -2648.293    1.46e+04\n",
      "X_train[66]  -7.914e+04   3.34e+04     -2.368      0.018   -1.45e+05   -1.36e+04\n",
      "X_train[67]   5561.1844   3773.900      1.474      0.141   -1844.989     1.3e+04\n",
      "X_train[68]  -5115.7679   4890.041     -1.046      0.296   -1.47e+04    4480.802\n",
      "X_train[69]  -2.276e+04   1.46e+04     -1.562      0.119   -5.13e+04    5826.914\n",
      "X_train[70]  -2128.1795   2067.527     -1.029      0.304   -6185.643    1929.284\n",
      "X_train[71]   8927.2895   4989.046      1.789      0.074    -863.575    1.87e+04\n",
      "X_train[72]  -4.964e+04   1.44e+04     -3.439      0.001    -7.8e+04   -2.13e+04\n",
      "X_train[73]  -2.052e+04   2.71e+04     -0.757      0.449   -7.37e+04    3.27e+04\n",
      "X_train[74]  -4473.4714   1.47e+04     -0.305      0.760   -3.32e+04    2.43e+04\n",
      "X_train[75]  -1.096e+04   1.15e+04     -0.949      0.343   -3.36e+04    1.17e+04\n",
      "X_train[76]  -2.052e+04   1.13e+04     -1.817      0.069   -4.27e+04    1636.484\n",
      "X_train[77]  -2.066e+04   8995.813     -2.297      0.022   -3.83e+04   -3008.909\n",
      "X_train[78]   1236.5278   1.05e+04      0.118      0.906   -1.94e+04    2.19e+04\n",
      "X_train[79]  -2.928e+04   9921.271     -2.951      0.003   -4.87e+04   -9808.675\n",
      "X_train[80]  -2.203e+04   9496.369     -2.320      0.021   -4.07e+04   -3394.848\n",
      "X_train[81]  -2.189e+04   1.31e+04     -1.669      0.095   -4.76e+04    3843.860\n",
      "X_train[82]  -2.202e+04   1.51e+04     -1.461      0.144   -5.16e+04    7562.407\n",
      "X_train[83]   -2.19e+04   1.01e+04     -2.174      0.030   -4.17e+04   -2132.698\n",
      "X_train[84]  -2.311e+04   9661.707     -2.392      0.017   -4.21e+04   -4146.374\n",
      "X_train[85]   1.588e+04   1.55e+04      1.026      0.305   -1.45e+04    4.62e+04\n",
      "X_train[86]  -2.765e+04   9815.609     -2.817      0.005   -4.69e+04   -8386.356\n",
      "X_train[87]   3051.1299   1.04e+04      0.293      0.769   -1.74e+04    2.35e+04\n",
      "X_train[88]   2.595e+04   9092.565      2.854      0.004    8108.983    4.38e+04\n",
      "X_train[89]  -2.338e+04   1.19e+04     -1.968      0.049   -4.67e+04     -69.757\n",
      "X_train[90]  -1.881e+04   1.16e+04     -1.620      0.106   -4.16e+04    3972.582\n",
      "X_train[91]  -1.598e+04      1e+04     -1.591      0.112   -3.57e+04    3728.316\n",
      "X_train[92]  -1.612e+04   9721.720     -1.658      0.098   -3.52e+04    2956.912\n",
      "X_train[93]  -1.283e+04   1.08e+04     -1.189      0.235    -3.4e+04    8353.204\n",
      "X_train[94]   3.709e+04      1e+04      3.699      0.000    1.74e+04    5.68e+04\n",
      "X_train[95]   -1.76e+04   9951.992     -1.769      0.077   -3.71e+04    1929.466\n",
      "X_train[96]  -6530.8454   1.28e+04     -0.512      0.609   -3.16e+04    1.85e+04\n",
      "X_train[97]   1426.5257   5841.364      0.244      0.807      -1e+04    1.29e+04\n",
      "X_train[98]   1.448e+04   4741.649      3.054      0.002    5174.442    2.38e+04\n",
      "X_train[99]   1.198e+04   1.08e+04      1.108      0.268   -9248.472    3.32e+04\n",
      "X_train[100]  1.119e+04   8859.885      1.263      0.207   -6197.067    2.86e+04\n",
      "X_train[101] -1.271e+04   1.03e+04     -1.236      0.217   -3.29e+04    7473.887\n",
      "X_train[102]   1.49e+04   7870.222      1.894      0.059    -541.472    3.03e+04\n",
      "X_train[103] -2758.2067   1.87e+04     -0.147      0.883   -3.95e+04    3.39e+04\n",
      "X_train[104]  1.434e+04   1.51e+04      0.951      0.342   -1.53e+04    4.39e+04\n",
      "X_train[105] -2.958e+04   2.94e+04     -1.008      0.314   -8.72e+04     2.8e+04\n",
      "X_train[106] -1.633e+04   2.48e+04     -0.657      0.511   -6.51e+04    3.24e+04\n",
      "X_train[107]  1.749e+04   3.82e+04      0.457      0.648   -5.76e+04    9.25e+04\n",
      "X_train[108] -2.366e+05   3.18e+04     -7.429      0.000   -2.99e+05   -1.74e+05\n",
      "X_train[109] -2.639e+04   2.28e+04     -1.156      0.248   -7.12e+04    1.84e+04\n",
      "X_train[110] -7573.8093   3.56e+04     -0.213      0.832   -7.75e+04    6.24e+04\n",
      "X_train[111]  2296.2711   3.14e+04      0.073      0.942   -5.94e+04     6.4e+04\n",
      "X_train[112]  8876.3300   2.65e+04      0.335      0.737   -4.31e+04    6.08e+04\n",
      "X_train[113] -5793.8226   1.09e+04     -0.532      0.595   -2.72e+04    1.56e+04\n",
      "X_train[114] -3.071e+04   2.02e+04     -1.523      0.128   -7.03e+04    8857.712\n",
      "X_train[115] -2.408e+04   1.93e+04     -1.250      0.212   -6.19e+04    1.37e+04\n",
      "X_train[116]  6283.3330   2.54e+04      0.247      0.805   -4.36e+04    5.62e+04\n",
      "X_train[117]  8300.9859   1.11e+04      0.747      0.455   -1.35e+04    3.01e+04\n",
      "X_train[118] -1.692e+04   2.07e+04     -0.819      0.413   -5.75e+04    2.36e+04\n",
      "X_train[119] -5838.4703    1.8e+04     -0.324      0.746   -4.12e+04    2.95e+04\n",
      "X_train[120] -1.222e+04   9776.480     -1.250      0.212   -3.14e+04    6966.059\n",
      "X_train[121]  6117.3556   1.46e+04      0.418      0.676   -2.26e+04    3.48e+04\n",
      "X_train[122]  3.429e+04   2.09e+04      1.644      0.100   -6632.308    7.52e+04\n",
      "X_train[123] -2714.2927   1.98e+04     -0.137      0.891   -4.16e+04    3.62e+04\n",
      "X_train[124]  1695.3214   2.21e+04      0.077      0.939   -4.17e+04    4.51e+04\n",
      "X_train[125]   485.9406   1.99e+04      0.024      0.981   -3.86e+04    3.96e+04\n",
      "X_train[126]  1.309e+04   2.35e+04      0.558      0.577   -3.29e+04    5.91e+04\n",
      "X_train[127] -2.639e+04   2.28e+04     -1.156      0.248   -7.12e+04    1.84e+04\n",
      "X_train[128]  6.212e+05   3.79e+04     16.392      0.000    5.47e+05    6.96e+05\n",
      "X_train[129]  7.324e+05   5.33e+04     13.752      0.000    6.28e+05    8.37e+05\n",
      "X_train[130]   1.72e-10   5.94e-11      2.894      0.004    5.53e-11    2.89e-10\n",
      "X_train[131]  6.116e+05    4.7e+04     13.013      0.000    5.19e+05    7.04e+05\n",
      "X_train[132]  6.249e+05   4.29e+04     14.568      0.000    5.41e+05    7.09e+05\n",
      "X_train[133]  5.847e+05   4.34e+04     13.458      0.000    4.99e+05     6.7e+05\n",
      "X_train[134]  6.985e+05   3.95e+04     17.681      0.000    6.21e+05    7.76e+05\n",
      "X_train[135]  1.418e+04   2.76e+04      0.514      0.607   -3.99e+04    6.83e+04\n",
      "X_train[136]  1.139e+04   2.86e+04      0.398      0.691   -4.48e+04    6.76e+04\n",
      "X_train[137]  1.553e+04   3.01e+04      0.515      0.606   -4.36e+04    7.47e+04\n",
      "X_train[138] -1.577e+04   3.38e+04     -0.466      0.641   -8.22e+04    5.06e+04\n",
      "X_train[139]   3.14e+04   3.19e+04      0.986      0.325   -3.11e+04    9.39e+04\n",
      "X_train[140] -1.685e-10   6.74e-11     -2.501      0.013   -3.01e-10   -3.63e-11\n",
      "X_train[141]  -3.35e+04   3.61e+04     -0.929      0.353   -1.04e+05    3.73e+04\n",
      "X_train[142] -9209.6209   1.71e+04     -0.539      0.590   -4.27e+04    2.43e+04\n",
      "X_train[143]  -168.3476   1.38e+04     -0.012      0.990   -2.73e+04    2.69e+04\n",
      "X_train[144] -3.605e+04    2.3e+04     -1.569      0.117   -8.11e+04    9029.701\n",
      "X_train[145] -2.293e+04   1.75e+04     -1.310      0.190   -5.73e+04    1.14e+04\n",
      "X_train[146] -3.592e+04   3.13e+04     -1.147      0.252   -9.74e+04    2.55e+04\n",
      "X_train[147] -1.167e+04   2.07e+04     -0.564      0.573   -5.23e+04    2.89e+04\n",
      "X_train[148] -2.605e+04   1.73e+04     -1.509      0.132   -5.99e+04    7830.439\n",
      "X_train[149]  7883.4113   2.95e+04      0.267      0.790   -5.01e+04    6.58e+04\n",
      "X_train[150] -1.965e+04   1.82e+04     -1.080      0.280   -5.54e+04    1.61e+04\n",
      "X_train[151] -2.067e+04   1.84e+04     -1.124      0.261   -5.68e+04    1.54e+04\n",
      "X_train[152] -2.886e+04   1.69e+04     -1.703      0.089   -6.21e+04    4395.675\n",
      "X_train[153] -1.703e+04   1.77e+04     -0.961      0.337   -5.18e+04    1.77e+04\n",
      "X_train[154]  5752.4202   2.66e+04      0.216      0.829   -4.64e+04    5.79e+04\n",
      "X_train[155]  2190.6783   2.48e+04      0.088      0.930   -4.64e+04    5.08e+04\n",
      "X_train[156]  9248.7732   1.81e+04      0.510      0.610   -2.64e+04    4.49e+04\n",
      "X_train[157]  -168.3476   1.38e+04     -0.012      0.990   -2.73e+04    2.69e+04\n",
      "X_train[158]  3.799e+04   2.29e+04      1.655      0.098   -7051.048     8.3e+04\n",
      "X_train[159]  1.018e+04   1.75e+04      0.582      0.561   -2.41e+04    4.45e+04\n",
      "X_train[160]  1.719e+04   1.93e+04      0.889      0.374   -2.08e+04    5.51e+04\n",
      "X_train[161]  8420.8185   2.09e+04      0.403      0.687   -3.25e+04    4.94e+04\n",
      "X_train[162]   -2.9e+04   3.15e+04     -0.921      0.357   -9.08e+04    3.28e+04\n",
      "X_train[163]   1.25e+04   1.69e+04      0.738      0.460   -2.07e+04    4.57e+04\n",
      "X_train[164] -1.258e+04   2.32e+04     -0.543      0.587   -5.81e+04    3.29e+04\n",
      "X_train[165]  1.301e+04   1.82e+04      0.716      0.474   -2.26e+04    4.86e+04\n",
      "X_train[166]  1.325e+04   1.85e+04      0.714      0.475   -2.32e+04    4.97e+04\n",
      "X_train[167]  2.074e+04   1.71e+04      1.216      0.224   -1.27e+04    5.42e+04\n",
      "X_train[168]  1.173e+04   1.76e+04      0.666      0.505   -2.28e+04    4.63e+04\n",
      "X_train[169]  3924.8095   7602.284      0.516      0.606    -1.1e+04    1.88e+04\n",
      "X_train[170]  8030.2871   7635.130      1.052      0.293   -6953.443     2.3e+04\n",
      "X_train[171]  7989.3991   7998.041      0.999      0.318   -7706.534    2.37e+04\n",
      "X_train[172]  3401.3971   1.17e+04      0.289      0.772   -1.97e+04    2.65e+04\n",
      "X_train[173]  7881.5757   3841.643      2.052      0.040     342.458    1.54e+04\n",
      "X_train[174]  7926.5480   4215.916      1.880      0.060    -347.070    1.62e+04\n",
      "X_train[175]  2379.0663   1.16e+04      0.205      0.838   -2.04e+04    2.52e+04\n",
      "X_train[176] -1545.3909   1.21e+04     -0.128      0.898   -2.52e+04    2.21e+04\n",
      "X_train[177] -2.447e+04   1.59e+04     -1.537      0.125   -5.57e+04    6766.889\n",
      "X_train[178]   819.6177   7168.351      0.114      0.909   -1.32e+04    1.49e+04\n",
      "X_train[179]    87.0830   2.63e+04      0.003      0.997   -5.15e+04    5.17e+04\n",
      "X_train[180]  9560.5413      3e+04      0.318      0.750   -4.94e+04    6.85e+04\n",
      "X_train[181] -3876.1833   3539.802     -1.095      0.274   -1.08e+04    3070.580\n",
      "X_train[182]  9642.2073   2.58e+04      0.374      0.708   -4.09e+04    6.02e+04\n",
      "X_train[183] -5891.5097   1.69e+04     -0.349      0.727   -3.91e+04    2.73e+04\n",
      "X_train[184]  3686.3148   1.17e+04      0.314      0.754   -1.94e+04    2.67e+04\n",
      "X_train[185]  7124.5430   1.21e+04      0.591      0.555   -1.65e+04    3.08e+04\n",
      "X_train[186] -3954.7671   1.33e+04     -0.297      0.766      -3e+04    2.21e+04\n",
      "X_train[187] -4.094e+04   3.24e+04     -1.262      0.207   -1.05e+05    2.27e+04\n",
      "X_train[188]  1.573e+04   1.05e+04      1.497      0.135   -4894.239    3.64e+04\n",
      "X_train[189]  2.333e+04    1.3e+04      1.801      0.072   -2096.134    4.88e+04\n",
      "X_train[190]  2.915e+04   1.54e+04      1.898      0.058    -995.295    5.93e+04\n",
      "X_train[191]  2.424e+04   1.35e+04      1.800      0.072   -2182.264    5.07e+04\n",
      "X_train[192]  1.917e+04   1.76e+04      1.087      0.277   -1.54e+04    5.38e+04\n",
      "X_train[193]  2.638e+04    1.3e+04      2.037      0.042     962.314    5.18e+04\n",
      "X_train[194]  -3.32e+04   7.14e+04     -0.465      0.642   -1.73e+05    1.07e+05\n",
      "X_train[195] -4880.8562   2281.439     -2.139      0.033   -9358.116    -403.596\n",
      "X_train[196] -1147.0897   2945.170     -0.389      0.697   -6926.903    4632.724\n",
      "X_train[197]  -3.32e+04   7.14e+04     -0.465      0.642   -1.73e+05    1.07e+05\n",
      "X_train[198] -7340.9417   6439.551     -1.140      0.255      -2e+04    5296.497\n",
      "X_train[199]  -250.7946   4001.299     -0.063      0.950   -8103.233    7601.644\n",
      "X_train[200]  2074.1332   1.61e+04      0.129      0.897   -2.94e+04    3.36e+04\n",
      "X_train[201]  3.513e+04   1.88e+04      1.874      0.061   -1664.211    7.19e+04\n",
      "X_train[202]  6406.0783   1.14e+04      0.564      0.573   -1.59e+04    2.87e+04\n",
      "X_train[203]  1055.3397   1.38e+04      0.077      0.939    -2.6e+04    2.81e+04\n",
      "X_train[204] -5866.4624   1.59e+04     -0.369      0.712    -3.7e+04    2.53e+04\n",
      "X_train[205]  2.501e+04    2.1e+04      1.191      0.234   -1.62e+04    6.62e+04\n",
      "X_train[206]  2.302e+04   1.85e+04      1.246      0.213   -1.32e+04    5.93e+04\n",
      "X_train[207]   105.8328   4898.384      0.022      0.983   -9507.109    9718.774\n",
      "X_train[208] -8809.1706   2.77e+04     -0.318      0.750   -6.31e+04    4.55e+04\n",
      "X_train[209]  1.708e+04   1.04e+04      1.643      0.101   -3325.470    3.75e+04\n",
      "X_train[210]  2545.8671   7205.803      0.353      0.724   -1.16e+04    1.67e+04\n",
      "X_train[211]  8054.7875   3403.766      2.366      0.018    1374.992    1.47e+04\n",
      "X_train[212]  2365.0183   2.05e+04      0.116      0.908   -3.78e+04    4.25e+04\n",
      "X_train[213] -1.735e+04   8873.727     -1.956      0.051   -3.48e+04      60.511\n",
      "X_train[214] -1.062e+04   1.11e+04     -0.958      0.338   -3.24e+04    1.11e+04\n",
      "X_train[215] -2.346e+04   8520.386     -2.754      0.006   -4.02e+04   -6740.079\n",
      "X_train[216] -1.693e+04   8153.478     -2.076      0.038   -3.29e+04    -928.916\n",
      "X_train[217]  -1.93e+04   7214.641     -2.675      0.008   -3.35e+04   -5140.960\n",
      "X_train[218] -5.646e+04   2.66e+04     -2.121      0.034   -1.09e+05   -4216.691\n",
      "X_train[219]  1206.4668   3333.259      0.362      0.717   -5334.961    7747.895\n",
      "X_train[220]  5007.3578   2949.094      1.698      0.090    -780.157    1.08e+04\n",
      "X_train[221]  -672.8905   4511.081     -0.149      0.881   -9525.761    8179.980\n",
      "X_train[222]   919.0233   3602.875      0.255      0.799   -6151.519    7989.565\n",
      "X_train[223]  5469.9336   3426.194      1.597      0.111   -1253.876    1.22e+04\n",
      "X_train[224]  8.116e+04   3.11e+04      2.606      0.009       2e+04    1.42e+05\n",
      "X_train[225] -9154.2592   1.77e+04     -0.517      0.605   -4.39e+04    2.56e+04\n",
      "X_train[226]  1758.3340   4637.157      0.379      0.705   -7341.957    1.09e+04\n",
      "==============================================================================\n",
      "Omnibus:                      347.915   Durbin-Watson:                   1.985\n",
      "Prob(Omnibus):                  0.000   Jarque-Bera (JB):             9821.241\n",
      "Skew:                           0.753   Prob(JB):                         0.00\n",
      "Kurtosis:                      17.126   Cond. No.                     1.17e+16\n",
      "==============================================================================\n",
      "\n",
      "Warnings:\n",
      "[1] Standard Errors assume that the covariance matrix of the errors is correctly specified.\n",
      "[2] The smallest eigenvalue is 1.9e-21. This might indicate that there are\n",
      "strong multicollinearity problems or that the design matrix is singular.\n"
     ]
    }
   ],
   "source": [
    "import statsmodels.api as sm\n",
    "from statsmodels.formula.api import ols\n",
    "m = ols('y_train ~ X_train', X_train).fit()\n",
    "print m.summary()"
   ]
  },
  {
   "cell_type": "code",
   "execution_count": 265,
   "metadata": {
    "collapsed": false
   },
   "outputs": [
    {
     "data": {
      "text/plain": [
       "KFold(n_splits=3, random_state=None, shuffle=False)"
      ]
     },
     "execution_count": 265,
     "metadata": {},
     "output_type": "execute_result"
    },
    {
     "name": "stdout",
     "output_type": "stream",
     "text": [
      "Folds: 10, RMSE: 45001.37976962872\n"
     ]
    }
   ],
   "source": [
    "sklearn.model_selection.KFold(n_splits=3, shuffle=False, random_state=None)\n",
    "from sklearn.model_selection import cross_val_score\n",
    "from sklearn.model_selection import KFold\n",
    "\n",
    "X=df3_temp.drop('SalePrice',axis=1)\n",
    "y=df['SalePrice']\n",
    "fill_NaN = Imputer(missing_values=np.nan, strategy='median', axis=1) #median imputer\n",
    "X = pd.DataFrame(fill_NaN.fit_transform(X)) #median imputer\n",
    "\n",
    "crossvalidation = KFold(n_splits=10, random_state=None, shuffle=False)\n",
    "scores = cross_val_score(LinearRegression(), X, y, scoring=\"neg_mean_squared_error\", cv=crossvalidation, n_jobs=1)\n",
    "print(\"Folds: \" + str(len(scores)) + \", RMSE: \" + str(np.sqrt(np.mean(np.abs(scores)))))"
   ]
  },
  {
   "cell_type": "markdown",
   "metadata": {},
   "source": [
    "### KFold with Rescaling yields a horrible result"
   ]
  },
  {
   "cell_type": "code",
   "execution_count": 262,
   "metadata": {
    "collapsed": false
   },
   "outputs": [],
   "source": [
    "X=df3_temp.drop('SalePrice',axis=1)\n",
    "y=df['SalePrice']\n",
    "fill_NaN = Imputer(missing_values=np.nan, strategy='median', axis=1) #median imputer\n",
    "X2 = pd.DataFrame(fill_NaN.fit_transform(X)) #median imputer\n",
    "scaler=MinMaxScaler() #default range to scale to is [0,1]\n",
    "X3 = pd.DataFrame(scaler.fit_transform(X2))"
   ]
  },
  {
   "cell_type": "code",
   "execution_count": 271,
   "metadata": {
    "collapsed": false
   },
   "outputs": [
    {
     "name": "stdout",
     "output_type": "stream",
     "text": [
      "Folds: 10, RMSE: 5403625737170884.0\n"
     ]
    }
   ],
   "source": [
    "crossvalidation = KFold(n_splits=10, random_state=None, shuffle=False)\n",
    "scores = cross_val_score(LinearRegression(), X3, y, scoring=\"neg_mean_squared_error\", cv=crossvalidation, n_jobs=1)\n",
    "print(\"Folds: \" + str(len(scores)) + \", RMSE: \" + str(np.sqrt(np.mean(np.abs(scores)))))"
   ]
  },
  {
   "cell_type": "markdown",
   "metadata": {},
   "source": [
    "# Nested Cross Validation (Poor Results)"
   ]
  },
  {
   "cell_type": "markdown",
   "metadata": {},
   "source": [
    "A lot of this code is borrowed from my mortgage defaults project, but it's producing very high rmse scores for some reason."
   ]
  },
  {
   "cell_type": "code",
   "execution_count": 183,
   "metadata": {
    "collapsed": true
   },
   "outputs": [],
   "source": [
    "X=df3.drop('SalePrice',axis=1)\n",
    "y=df['SalePrice']\n",
    "median_imputer=Imputer(missing_values='NaN', strategy='median', axis=0)\n",
    "scaler=MinMaxScaler()\n",
    "base=DecisionTreeRegressor(max_depth=1, random_state=0) \n",
    "feature_selection=SelectFromModel(RandomForestRegressor(n_estimators=50, random_state=0))"
   ]
  },
  {
   "cell_type": "code",
   "execution_count": 184,
   "metadata": {
    "collapsed": true
   },
   "outputs": [],
   "source": [
    "regressors = [\n",
    "#    DecisionTreeRegressor(random_state=0),\n",
    "#    LinearRegression(),\n",
    "#    KNeighborsRegressor(n_neighbors=5, weights='uniform', algorithm='auto', leaf_size=30, p=2, \n",
    "#                      metric='minkowski', metric_params=None, n_jobs=1),\n",
    "#    RandomForestRegressor(warm_start=True, oob_score=True,random_state=0,n_estimators=300)]\n",
    "#    svm.SVR(), \n",
    "#    AdaBoostRegressor(base_estimator=base, n_estimators = 100, random_state=0) ,\n",
    "    GradientBoostingRegressor(random_state=0, max_features='sqrt')]"
   ]
  },
  {
   "cell_type": "code",
   "execution_count": 281,
   "metadata": {
    "collapsed": true
   },
   "outputs": [],
   "source": [
    "param=list()\n",
    "cross_val=list()\n",
    "method_names=['Decision Tree','Linear Regression', 'K Nearest Neighbors', 'Random Forests',\n",
    "             'Support Vector Machines', 'AdaBoost', 'Gradient Boosting']\n",
    "\n",
    "#param.append({\"fselect__threshold\":[1e-5,1e-4,1e-3], \"clf__max_depth\":[2,3,4,5]}) #dectree\n",
    "#param.append({\"fselect__threshold\":[1e-5,1e-4,1e-3]}) #linreg\n",
    "#param.append({\"fselect__threshold\":[1e-5,1e-4,1e-3],'clf__n_neighbors': [3,4,5,6,7]}) #knn\n",
    "#param.append({\"fselect__threshold\":[1e-5,1e-4,1e-3],'clf__max_features': ['sqrt',.2,.5,.8]})\n",
    "#param.append({\"fselect__threshold\":[1e-5,1e-4,1e-3],'clf__C': [.001, .01, .1, 1, 10], \"clf__gamma\": [.001, .01, .1, 1]})\n",
    "#param.append({\"fselect__threshold\":[1e-5,1e-4,1e-3],'clf__learning_rate': [.01,.1,1,2]})\n",
    "param.append({\"clf__learning_rate\": [.001,.01,.1], \"clf__max_depth\":[3,4,5]})\n",
    "\n",
    "inner_fold = KFold(random_state=0)\n",
    "outer_fold = KFold(random_state=0)\n",
    "\n",
    "colors=['b','g','r','y','k','c','m','orange']"
   ]
  },
  {
   "cell_type": "code",
   "execution_count": 282,
   "metadata": {
    "collapsed": false
   },
   "outputs": [
    {
     "name": "stdout",
     "output_type": "stream",
     "text": [
      "'Decision Tree' has been completed\n",
      "6.5042219162 s\n"
     ]
    },
    {
     "data": {
      "text/plain": [
       "[('Decision Tree',\n",
       "  {'fit_time': array([2.13459897, 2.00017881, 2.32203197]),\n",
       "   'score_time': array([0.01150298, 0.00942421, 0.00897193]),\n",
       "   'test_score': array([5.39589637e+09, 6.04021654e+09, 5.37541759e+09])})]"
      ]
     },
     "execution_count": 282,
     "metadata": {},
     "output_type": "execute_result"
    }
   ],
   "source": [
    "cross_val_metrics=list()\n",
    "metrics_neg_MSE=list()\n",
    "\n",
    "scoring = make_scorer(mean_squared_error)\n",
    "start_time = time.time()\n",
    "for k in range(len(regressors)):\n",
    "    pipeline = Pipeline([('median_imputer',median_imputer),\n",
    "                        # ('scaler', scaler),\n",
    "                        #('fselect',feature_selection), \n",
    "                         ('clf', regressors[k])])\n",
    "    \n",
    "    no_param=list()\n",
    "    for regressor in param[k].values(): #set 1 = k (for each param grid)\n",
    "        for param_values in regressor:  #for each param in param grid\n",
    "            no_param.append(param_values) #append that param's values \n",
    "    no_param=len(no_param)\n",
    "    \n",
    "    random_search = RandomizedSearchCV(pipeline, n_iter=5, param_distributions=param[k],cv = inner_fold,\n",
    "                                                                scoring=scoring,random_state=0)\n",
    "    cross_val_metrics.append((method_names[k],cross_validate(random_search, X, y, cv=outer_fold, scoring = scoring,\n",
    "                                                            return_train_score=False)))\n",
    "    print(\"%r has been completed\" %(method_names[k]))\n",
    "    print time.time() - start_time, 's'\n",
    "    \n",
    "cross_val_metrics"
   ]
  },
  {
   "cell_type": "code",
   "execution_count": 283,
   "metadata": {
    "collapsed": false
   },
   "outputs": [
    {
     "data": {
      "text/plain": [
       "{'fit_time': array([2.39029193, 2.09577894, 2.0890739 ]),\n",
       " 'score_time': array([0.01068592, 0.00975299, 0.00906801]),\n",
       " 'test_score': array([5.39589637e+09, 6.04021654e+09, 5.37541759e+09])}"
      ]
     },
     "execution_count": 283,
     "metadata": {},
     "output_type": "execute_result"
    }
   ],
   "source": [
    "cross_validate(random_search, X, y, \n",
    "               cv=outer_fold, scoring = scoring, return_train_score=False)"
   ]
  }
 ],
 "metadata": {
  "kernelspec": {
   "display_name": "Python 2",
   "language": "python",
   "name": "python2"
  },
  "language_info": {
   "codemirror_mode": {
    "name": "ipython",
    "version": 2
   },
   "file_extension": ".py",
   "mimetype": "text/x-python",
   "name": "python",
   "nbconvert_exporter": "python",
   "pygments_lexer": "ipython2",
   "version": "2.7.13"
  }
 },
 "nbformat": 4,
 "nbformat_minor": 2
}
